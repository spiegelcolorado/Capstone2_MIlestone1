{
 "cells": [
  {
   "cell_type": "markdown",
   "metadata": {},
   "source": [
    "Ideas for what can be done:\n",
    "Show the most popular drugs for doctors in the highest percentile\n",
    "Show a percentile break down of either average cost per prescription or the percent above. "
   ]
  },
  {
   "cell_type": "markdown",
   "metadata": {},
   "source": [
    "This is the website data can be found at - https://www.cms.gov/Research-Statistics-Data-and-Systems/Statistics-Trends-and-Reports/Medicare-Provider-Charge-Data/Physician-and-Other-Supplier.html"
   ]
  },
  {
   "cell_type": "code",
   "execution_count": 292,
   "metadata": {
    "scrolled": true
   },
   "outputs": [
    {
     "name": "stdout",
     "output_type": "stream",
     "text": [
      "(0, 'National Provider Identifier')\n",
      "(1, 'Last Name/Organization Name of the Provider')\n",
      "(2, 'First Name of the Provider')\n",
      "(3, 'Middle Initial of the Provider')\n",
      "(4, 'Credentials of the Provider')\n",
      "(5, 'Gender of the Provider')\n",
      "(6, 'Entity Type of the Provider')\n",
      "(7, 'Street Address 1 of the Provider')\n",
      "(8, 'Street Address 2 of the Provider')\n",
      "(9, 'City of the Provider')\n",
      "(10, 'Zip Code of the Provider')\n",
      "(11, 'State Code of the Provider')\n",
      "(12, 'Country Code of the Provider')\n",
      "(13, 'Provider Type of the Provider')\n",
      "(14, 'Medicare Participation Indicator')\n",
      "(15, 'Number of HCPCS')\n",
      "(16, 'Number of Services')\n",
      "(17, 'Number of Medicare Beneficiaries')\n",
      "(18, 'Total Submitted Charge Amount')\n",
      "(19, 'Total Medicare Allowed Amount')\n",
      "(20, 'Total Medicare Payment Amount')\n",
      "(21, 'Total Medicare Standardized Payment Amount')\n",
      "(22, 'Drug Suppress Indicator')\n",
      "(23, 'Number of HCPCS Associated With Drug Services')\n",
      "(24, 'Number of Drug Services')\n",
      "(25, 'Number of Medicare Beneficiaries With Drug Services')\n",
      "(26, 'Total Drug Submitted Charge Amount')\n",
      "(27, 'Total Drug Medicare Allowed Amount')\n",
      "(28, 'Total Drug Medicare Payment Amount')\n",
      "(29, 'Total Drug Medicare Standardized Payment Amount')\n",
      "(30, 'Medical Suppress Indicator')\n",
      "(31, 'Number of HCPCS Associated With Medical Services')\n",
      "(32, 'Number of Medical Services')\n",
      "(33, 'Number of Medicare Beneficiaries With Medical Services')\n",
      "(34, 'Total Medical Submitted Charge Amount')\n",
      "(35, 'Total Medical Medicare Allowed Amount')\n",
      "(36, 'Total Medical Medicare Payment Amount')\n",
      "(37, 'Total Medical Medicare Standardized Payment Amount')\n",
      "(38, 'Average Age of Beneficiaries')\n",
      "(39, 'Number of Beneficiaries Age Less 65')\n",
      "(40, 'Number of Beneficiaries Age 65 to 74')\n",
      "(41, 'Number of Beneficiaries Age 75 to 84')\n",
      "(42, 'Number of Beneficiaries Age Greater 84')\n",
      "(43, 'Number of Female Beneficiaries')\n",
      "(44, 'Number of Male Beneficiaries\\t')\n",
      "(45, 'Number of Non-Hispanic White Beneficiaries\\t')\n",
      "(46, 'Number of Black or African American Beneficiaries')\n",
      "(47, 'Number of Asian Pacific Islander Beneficiaries')\n",
      "(48, 'Number of Hispanic Beneficiaries')\n",
      "(49, 'Number of American Indian/Alaska Native Beneficiaries')\n",
      "(50, 'Number of Beneficiaries With Race Not Elsewhere Classified')\n",
      "(51, 'Number of Beneficiaries With Medicare Only Entitlement')\n",
      "(52, 'Number of Beneficiaries With Medicare & Medicaid Entitlement')\n",
      "(53, 'Percent (%) of Beneficiaries Identified With Atrial Fibrillation')\n",
      "(54, 'Percent (%) of Beneficiaries Identified With Alzheimer’s Disease or Dementia')\n",
      "(55, 'Percent (%) of Beneficiaries Identified With Asthma')\n",
      "(56, 'Percent (%) of Beneficiaries Identified With Cancer')\n",
      "(57, 'Percent (%) of Beneficiaries Identified With Heart Failure')\n",
      "(58, 'Percent (%) of Beneficiaries Identified With Chronic Kidney Disease')\n",
      "(59, 'Percent (%) of Beneficiaries Identified With Chronic Obstructive Pulmonary Disease')\n",
      "(60, 'Percent (%) of Beneficiaries Identified With Depression')\n",
      "(61, 'Percent (%) of Beneficiaries Identified With Diabetes')\n",
      "(62, 'Percent (%) of Beneficiaries Identified With Hyperlipidemia')\n",
      "(63, 'Percent (%) of Beneficiaries Identified With Hypertension')\n",
      "(64, 'Percent (%) of Beneficiaries Identified With Ischemic Heart Disease')\n",
      "(65, 'Percent (%) of Beneficiaries Identified With Osteoporosis')\n",
      "(66, 'Percent (%) of Beneficiaries Identified With Rheumatoid Arthritis / Osteoarthritis')\n",
      "(67, 'Percent (%) of Beneficiaries Identified With Schizophrenia / Other Psychotic Disorders')\n",
      "(68, 'Percent (%) of Beneficiaries Identified With Stroke')\n",
      "(69, 'Average HCC Risk Score of Beneficiaries')\n",
      "(0, 'Number of HCPCS')\n",
      "(1, 'Number of Services')\n",
      "(2, 'Number of Medicare Beneficiaries')\n",
      "(3, 'Total Submitted Charge Amount')\n",
      "(4, 'Total Medicare Allowed Amount')\n",
      "(5, 'Total Medicare Payment Amount')\n",
      "(6, 'Total Medicare Standardized Payment Amount')\n",
      "(7, 'Drug Suppress Indicator')\n",
      "(8, 'Number of HCPCS Associated With Drug Services')\n",
      "(9, 'Number of Drug Services')\n",
      "(10, 'Number of Medicare Beneficiaries With Drug Services')\n",
      "(11, 'Total Drug Submitted Charge Amount')\n",
      "(12, 'Total Drug Medicare Allowed Amount')\n",
      "(13, 'Total Drug Medicare Payment Amount')\n",
      "(14, 'Total Drug Medicare Standardized Payment Amount')\n",
      "(15, 'Medical Suppress Indicator')\n",
      "(16, 'Number of HCPCS Associated With Medical Services')\n",
      "(17, 'Number of Medical Services')\n",
      "(18, 'Number of Medicare Beneficiaries With Medical Services')\n",
      "(19, 'Total Medical Submitted Charge Amount')\n",
      "(20, 'Total Medical Medicare Allowed Amount')\n",
      "(21, 'Total Medical Medicare Payment Amount')\n",
      "(22, 'Total Medical Medicare Standardized Payment Amount')\n",
      "(23, 'Average Age of Beneficiaries')\n",
      "(24, 'Number of Beneficiaries Age Less 65')\n",
      "(25, 'Number of Beneficiaries Age 65 to 74')\n",
      "(26, 'Number of Beneficiaries Age 75 to 84')\n",
      "(27, 'Number of Beneficiaries Age Greater 84')\n",
      "(28, 'Number of Female Beneficiaries')\n",
      "(29, 'Number of Male Beneficiaries\\t')\n",
      "(30, 'Number of Non-Hispanic White Beneficiaries\\t')\n",
      "(31, 'Number of Black or African American Beneficiaries')\n",
      "(32, 'Number of Asian Pacific Islander Beneficiaries')\n",
      "(33, 'Number of Hispanic Beneficiaries')\n",
      "(34, 'Number of American Indian/Alaska Native Beneficiaries')\n",
      "(35, 'Number of Beneficiaries With Race Not Elsewhere Classified')\n",
      "(36, 'Number of Beneficiaries With Medicare Only Entitlement')\n",
      "(37, 'Number of Beneficiaries With Medicare & Medicaid Entitlement')\n",
      "(38, 'Percent (%) of Beneficiaries Identified With Atrial Fibrillation')\n",
      "(39, 'Percent (%) of Beneficiaries Identified With Alzheimer’s Disease or Dementia')\n",
      "(40, 'Percent (%) of Beneficiaries Identified With Asthma')\n",
      "(41, 'Percent (%) of Beneficiaries Identified With Cancer')\n",
      "(42, 'Percent (%) of Beneficiaries Identified With Heart Failure')\n",
      "(43, 'Percent (%) of Beneficiaries Identified With Chronic Kidney Disease')\n",
      "(44, 'Percent (%) of Beneficiaries Identified With Chronic Obstructive Pulmonary Disease')\n",
      "(45, 'Percent (%) of Beneficiaries Identified With Depression')\n",
      "(46, 'Percent (%) of Beneficiaries Identified With Diabetes')\n",
      "(47, 'Percent (%) of Beneficiaries Identified With Hyperlipidemia')\n",
      "(48, 'Percent (%) of Beneficiaries Identified With Hypertension')\n",
      "(49, 'Percent (%) of Beneficiaries Identified With Ischemic Heart Disease')\n",
      "(50, 'Percent (%) of Beneficiaries Identified With Osteoporosis')\n",
      "(51, 'Percent (%) of Beneficiaries Identified With Rheumatoid Arthritis / Osteoarthritis')\n",
      "(52, 'Percent (%) of Beneficiaries Identified With Schizophrenia / Other Psychotic Disorders')\n",
      "(53, 'Percent (%) of Beneficiaries Identified With Stroke')\n",
      "(54, 'Average HCC Risk Score of Beneficiaries')\n"
     ]
    }
   ],
   "source": [
    "\n",
    "import os\n",
    "import pandas as pd\n",
    "import seaborn as sns\n",
    "import json\n",
    "import matplotlib.pyplot as plt\n",
    "#print(os.listdir())\n",
    "df = pd.read_csv('medicare-physician-and-other-supplier-national-provider-identifier-npi-aggregate-report-calendar-year-2016.csv', low_memory = False)\n",
    "for name in enumerate(df.columns):\n",
    "    print(name)\n",
    "#for name in enumerate(df.columns):\n",
    "    #print(name)\n",
    "df2  = df.iloc[:,15:]\n",
    "for name in enumerate(df2.columns):\n",
    "    print(name)\n"
   ]
  },
  {
   "cell_type": "code",
   "execution_count": null,
   "metadata": {},
   "outputs": [],
   "source": []
  },
  {
   "cell_type": "code",
   "execution_count": 293,
   "metadata": {},
   "outputs": [
    {
     "data": {
      "text/plain": [
       "Index(['National Provider Identifier',\n",
       "       'Last Name/Organization Name of the Provider',\n",
       "       'First Name of the Provider', 'Middle Initial of the Provider',\n",
       "       'Credentials of the Provider', 'Gender of the Provider',\n",
       "       'Entity Type of the Provider', 'Street Address 1 of the Provider',\n",
       "       'Street Address 2 of the Provider', 'City of the Provider',\n",
       "       'Zip Code of the Provider', 'State Code of the Provider',\n",
       "       'Country Code of the Provider', 'Provider Type of the Provider',\n",
       "       'Medicare Participation Indicator', 'Number of HCPCS',\n",
       "       'Number of Services', 'Number of Medicare Beneficiaries',\n",
       "       'Total Submitted Charge Amount', 'Total Medicare Allowed Amount',\n",
       "       'Total Medicare Payment Amount',\n",
       "       'Total Medicare Standardized Payment Amount', 'Drug Suppress Indicator',\n",
       "       'Number of HCPCS Associated With Drug Services',\n",
       "       'Number of Drug Services',\n",
       "       'Number of Medicare Beneficiaries With Drug Services',\n",
       "       'Total Drug Submitted Charge Amount',\n",
       "       'Total Drug Medicare Allowed Amount',\n",
       "       'Total Drug Medicare Payment Amount',\n",
       "       'Total Drug Medicare Standardized Payment Amount',\n",
       "       'Medical Suppress Indicator',\n",
       "       'Number of HCPCS Associated With Medical Services',\n",
       "       'Number of Medical Services',\n",
       "       'Number of Medicare Beneficiaries With Medical Services',\n",
       "       'Total Medical Submitted Charge Amount',\n",
       "       'Total Medical Medicare Allowed Amount',\n",
       "       'Total Medical Medicare Payment Amount',\n",
       "       'Total Medical Medicare Standardized Payment Amount',\n",
       "       'Average Age of Beneficiaries', 'Number of Beneficiaries Age Less 65',\n",
       "       'Number of Beneficiaries Age 65 to 74',\n",
       "       'Number of Beneficiaries Age 75 to 84',\n",
       "       'Number of Beneficiaries Age Greater 84',\n",
       "       'Number of Female Beneficiaries', 'Number of Male Beneficiaries\\t',\n",
       "       'Number of Non-Hispanic White Beneficiaries\\t',\n",
       "       'Number of Black or African American Beneficiaries',\n",
       "       'Number of Asian Pacific Islander Beneficiaries',\n",
       "       'Number of Hispanic Beneficiaries',\n",
       "       'Number of American Indian/Alaska Native Beneficiaries',\n",
       "       'Number of Beneficiaries With Race Not Elsewhere Classified',\n",
       "       'Number of Beneficiaries With Medicare Only Entitlement',\n",
       "       'Number of Beneficiaries With Medicare & Medicaid Entitlement',\n",
       "       'Percent (%) of Beneficiaries Identified With Atrial Fibrillation',\n",
       "       'Percent (%) of Beneficiaries Identified With Alzheimer’s Disease or Dementia',\n",
       "       'Percent (%) of Beneficiaries Identified With Asthma',\n",
       "       'Percent (%) of Beneficiaries Identified With Cancer',\n",
       "       'Percent (%) of Beneficiaries Identified With Heart Failure',\n",
       "       'Percent (%) of Beneficiaries Identified With Chronic Kidney Disease',\n",
       "       'Percent (%) of Beneficiaries Identified With Chronic Obstructive Pulmonary Disease',\n",
       "       'Percent (%) of Beneficiaries Identified With Depression',\n",
       "       'Percent (%) of Beneficiaries Identified With Diabetes',\n",
       "       'Percent (%) of Beneficiaries Identified With Hyperlipidemia',\n",
       "       'Percent (%) of Beneficiaries Identified With Hypertension',\n",
       "       'Percent (%) of Beneficiaries Identified With Ischemic Heart Disease',\n",
       "       'Percent (%) of Beneficiaries Identified With Osteoporosis',\n",
       "       'Percent (%) of Beneficiaries Identified With Rheumatoid Arthritis / Osteoarthritis',\n",
       "       'Percent (%) of Beneficiaries Identified With Schizophrenia / Other Psychotic Disorders',\n",
       "       'Percent (%) of Beneficiaries Identified With Stroke',\n",
       "       'Average HCC Risk Score of Beneficiaries'],\n",
       "      dtype='object')"
      ]
     },
     "execution_count": 293,
     "metadata": {},
     "output_type": "execute_result"
    }
   ],
   "source": [
    "df.columns"
   ]
  },
  {
   "cell_type": "code",
   "execution_count": 294,
   "metadata": {
    "scrolled": true
   },
   "outputs": [],
   "source": [
    "df2['National Provider Identifier'] = df['National Provider Identifier']\n",
    "df2['Gender of the Provider'] = df['Gender of the Provider']\n",
    "df2['cost_per_patient'] = df2['Total Medicare Payment Amount']/df2['Number of Medicare Beneficiaries']"
   ]
  },
  {
   "cell_type": "markdown",
   "metadata": {},
   "source": [
    "# Wrangling Drug Information\n",
    "In the cells below I import the medicare drug dataframe. As the dataframe includes specific information for each drug, I combine all rows for each doctor into one that includes the total cost of all drugs written and total number of 30 day prescriptions written. I do this using pandas groupy and sum function. Once this is completed the dataframe is merged with the dataframe of the patient demographic information for each physician. "
   ]
  },
  {
   "cell_type": "code",
   "execution_count": 295,
   "metadata": {},
   "outputs": [
    {
     "data": {
      "text/plain": [
       "Index(['npi', 'specialty_description', 'drug_name', 'generic_name',\n",
       "       'total_30_day_fill_count', 'total_drug_cost'],\n",
       "      dtype='object')"
      ]
     },
     "execution_count": 295,
     "metadata": {},
     "output_type": "execute_result"
    }
   ],
   "source": [
    "import pandas as pd\n",
    "dr_costs = pd.read_pickle('df_dcost')\n",
    "dr_costs.columns"
   ]
  },
  {
   "cell_type": "code",
   "execution_count": 296,
   "metadata": {},
   "outputs": [],
   "source": [
    "dr_costs.columns = ['National Provider Identifier', 'specialty_description', 'drug_name', 'generic_name',\n",
    "       'total_30_day_fill_count', 'total_drug_cost']"
   ]
  },
  {
   "cell_type": "code",
   "execution_count": 297,
   "metadata": {},
   "outputs": [],
   "source": [
    "#dr.costs_3_times = dr_costs[dr_costs['National Provider Identifier']]"
   ]
  },
  {
   "cell_type": "code",
   "execution_count": 298,
   "metadata": {},
   "outputs": [
    {
     "data": {
      "text/html": [
       "<div>\n",
       "<style scoped>\n",
       "    .dataframe tbody tr th:only-of-type {\n",
       "        vertical-align: middle;\n",
       "    }\n",
       "\n",
       "    .dataframe tbody tr th {\n",
       "        vertical-align: top;\n",
       "    }\n",
       "\n",
       "    .dataframe thead th {\n",
       "        text-align: right;\n",
       "    }\n",
       "</style>\n",
       "<table border=\"1\" class=\"dataframe\">\n",
       "  <thead>\n",
       "    <tr style=\"text-align: right;\">\n",
       "      <th></th>\n",
       "      <th>total_30_day_fill_count</th>\n",
       "      <th>total_drug_cost</th>\n",
       "    </tr>\n",
       "    <tr>\n",
       "      <th>National Provider Identifier</th>\n",
       "      <th></th>\n",
       "      <th></th>\n",
       "    </tr>\n",
       "  </thead>\n",
       "  <tbody>\n",
       "    <tr>\n",
       "      <th>1003000126</th>\n",
       "      <td>319.0</td>\n",
       "      <td>20655.60</td>\n",
       "    </tr>\n",
       "    <tr>\n",
       "      <th>1003000142</th>\n",
       "      <td>1690.8</td>\n",
       "      <td>120865.38</td>\n",
       "    </tr>\n",
       "    <tr>\n",
       "      <th>1003000167</th>\n",
       "      <td>32.0</td>\n",
       "      <td>134.76</td>\n",
       "    </tr>\n",
       "    <tr>\n",
       "      <th>1003000282</th>\n",
       "      <td>30.0</td>\n",
       "      <td>328.04</td>\n",
       "    </tr>\n",
       "    <tr>\n",
       "      <th>1003000407</th>\n",
       "      <td>1742.2</td>\n",
       "      <td>86421.07</td>\n",
       "    </tr>\n",
       "    <tr>\n",
       "      <th>1003000423</th>\n",
       "      <td>52.0</td>\n",
       "      <td>3104.23</td>\n",
       "    </tr>\n",
       "    <tr>\n",
       "      <th>1003000480</th>\n",
       "      <td>17.0</td>\n",
       "      <td>3286.74</td>\n",
       "    </tr>\n",
       "    <tr>\n",
       "      <th>1003000522</th>\n",
       "      <td>10084.4</td>\n",
       "      <td>208483.89</td>\n",
       "    </tr>\n",
       "    <tr>\n",
       "      <th>1003000530</th>\n",
       "      <td>9895.3</td>\n",
       "      <td>269677.82</td>\n",
       "    </tr>\n",
       "    <tr>\n",
       "      <th>1003000597</th>\n",
       "      <td>642.0</td>\n",
       "      <td>37346.46</td>\n",
       "    </tr>\n",
       "    <tr>\n",
       "      <th>1003000720</th>\n",
       "      <td>193.0</td>\n",
       "      <td>1004.52</td>\n",
       "    </tr>\n",
       "    <tr>\n",
       "      <th>1003000753</th>\n",
       "      <td>14.0</td>\n",
       "      <td>32.48</td>\n",
       "    </tr>\n",
       "    <tr>\n",
       "      <th>1003000902</th>\n",
       "      <td>9005.6</td>\n",
       "      <td>204088.52</td>\n",
       "    </tr>\n",
       "    <tr>\n",
       "      <th>1003000936</th>\n",
       "      <td>3061.0</td>\n",
       "      <td>137785.22</td>\n",
       "    </tr>\n",
       "    <tr>\n",
       "      <th>1003001017</th>\n",
       "      <td>429.2</td>\n",
       "      <td>25255.23</td>\n",
       "    </tr>\n",
       "    <tr>\n",
       "      <th>1003001132</th>\n",
       "      <td>192.0</td>\n",
       "      <td>1185.76</td>\n",
       "    </tr>\n",
       "    <tr>\n",
       "      <th>1003001207</th>\n",
       "      <td>19.0</td>\n",
       "      <td>51.09</td>\n",
       "    </tr>\n",
       "    <tr>\n",
       "      <th>1003001363</th>\n",
       "      <td>2566.4</td>\n",
       "      <td>238783.22</td>\n",
       "    </tr>\n",
       "    <tr>\n",
       "      <th>1003001371</th>\n",
       "      <td>153.0</td>\n",
       "      <td>4600.23</td>\n",
       "    </tr>\n",
       "    <tr>\n",
       "      <th>1003001462</th>\n",
       "      <td>240.0</td>\n",
       "      <td>3768.97</td>\n",
       "    </tr>\n",
       "    <tr>\n",
       "      <th>1003001587</th>\n",
       "      <td>74.0</td>\n",
       "      <td>315.17</td>\n",
       "    </tr>\n",
       "    <tr>\n",
       "      <th>1003001645</th>\n",
       "      <td>322.0</td>\n",
       "      <td>203199.92</td>\n",
       "    </tr>\n",
       "    <tr>\n",
       "      <th>1003001678</th>\n",
       "      <td>35.0</td>\n",
       "      <td>1952.44</td>\n",
       "    </tr>\n",
       "    <tr>\n",
       "      <th>1003001785</th>\n",
       "      <td>70.0</td>\n",
       "      <td>876.93</td>\n",
       "    </tr>\n",
       "    <tr>\n",
       "      <th>1003001868</th>\n",
       "      <td>67.0</td>\n",
       "      <td>198.08</td>\n",
       "    </tr>\n",
       "    <tr>\n",
       "      <th>1003001884</th>\n",
       "      <td>4713.7</td>\n",
       "      <td>55843.47</td>\n",
       "    </tr>\n",
       "    <tr>\n",
       "      <th>1003002049</th>\n",
       "      <td>2087.5</td>\n",
       "      <td>303625.27</td>\n",
       "    </tr>\n",
       "    <tr>\n",
       "      <th>1003002072</th>\n",
       "      <td>2623.0</td>\n",
       "      <td>197706.23</td>\n",
       "    </tr>\n",
       "    <tr>\n",
       "      <th>1003002106</th>\n",
       "      <td>50.0</td>\n",
       "      <td>290.60</td>\n",
       "    </tr>\n",
       "    <tr>\n",
       "      <th>1003002312</th>\n",
       "      <td>5561.0</td>\n",
       "      <td>1025929.92</td>\n",
       "    </tr>\n",
       "    <tr>\n",
       "      <th>...</th>\n",
       "      <td>...</td>\n",
       "      <td>...</td>\n",
       "    </tr>\n",
       "    <tr>\n",
       "      <th>1992997548</th>\n",
       "      <td>313.4</td>\n",
       "      <td>25341.91</td>\n",
       "    </tr>\n",
       "    <tr>\n",
       "      <th>1992997647</th>\n",
       "      <td>6233.1</td>\n",
       "      <td>192166.48</td>\n",
       "    </tr>\n",
       "    <tr>\n",
       "      <th>1992997696</th>\n",
       "      <td>12.0</td>\n",
       "      <td>50.06</td>\n",
       "    </tr>\n",
       "    <tr>\n",
       "      <th>1992997787</th>\n",
       "      <td>119.0</td>\n",
       "      <td>19691.02</td>\n",
       "    </tr>\n",
       "    <tr>\n",
       "      <th>1992997928</th>\n",
       "      <td>31.0</td>\n",
       "      <td>255.66</td>\n",
       "    </tr>\n",
       "    <tr>\n",
       "      <th>1992998033</th>\n",
       "      <td>72.0</td>\n",
       "      <td>400.54</td>\n",
       "    </tr>\n",
       "    <tr>\n",
       "      <th>1992998082</th>\n",
       "      <td>37.0</td>\n",
       "      <td>66.76</td>\n",
       "    </tr>\n",
       "    <tr>\n",
       "      <th>1992998207</th>\n",
       "      <td>53.9</td>\n",
       "      <td>2226.04</td>\n",
       "    </tr>\n",
       "    <tr>\n",
       "      <th>1992998322</th>\n",
       "      <td>85.0</td>\n",
       "      <td>308.34</td>\n",
       "    </tr>\n",
       "    <tr>\n",
       "      <th>1992998330</th>\n",
       "      <td>49.0</td>\n",
       "      <td>449.68</td>\n",
       "    </tr>\n",
       "    <tr>\n",
       "      <th>1992998371</th>\n",
       "      <td>44.0</td>\n",
       "      <td>226.27</td>\n",
       "    </tr>\n",
       "    <tr>\n",
       "      <th>1992998405</th>\n",
       "      <td>24.0</td>\n",
       "      <td>188.16</td>\n",
       "    </tr>\n",
       "    <tr>\n",
       "      <th>1992998553</th>\n",
       "      <td>65.2</td>\n",
       "      <td>12632.43</td>\n",
       "    </tr>\n",
       "    <tr>\n",
       "      <th>1992998611</th>\n",
       "      <td>28.0</td>\n",
       "      <td>131.13</td>\n",
       "    </tr>\n",
       "    <tr>\n",
       "      <th>1992998645</th>\n",
       "      <td>8805.7</td>\n",
       "      <td>241994.80</td>\n",
       "    </tr>\n",
       "    <tr>\n",
       "      <th>1992998736</th>\n",
       "      <td>1091.7</td>\n",
       "      <td>18259.51</td>\n",
       "    </tr>\n",
       "    <tr>\n",
       "      <th>1992998926</th>\n",
       "      <td>913.7</td>\n",
       "      <td>377832.14</td>\n",
       "    </tr>\n",
       "    <tr>\n",
       "      <th>1992999023</th>\n",
       "      <td>40.0</td>\n",
       "      <td>166.60</td>\n",
       "    </tr>\n",
       "    <tr>\n",
       "      <th>1992999031</th>\n",
       "      <td>1879.2</td>\n",
       "      <td>2672255.62</td>\n",
       "    </tr>\n",
       "    <tr>\n",
       "      <th>1992999122</th>\n",
       "      <td>24736.9</td>\n",
       "      <td>732161.58</td>\n",
       "    </tr>\n",
       "    <tr>\n",
       "      <th>1992999270</th>\n",
       "      <td>958.1</td>\n",
       "      <td>6145.03</td>\n",
       "    </tr>\n",
       "    <tr>\n",
       "      <th>1992999437</th>\n",
       "      <td>156.0</td>\n",
       "      <td>838.51</td>\n",
       "    </tr>\n",
       "    <tr>\n",
       "      <th>1992999551</th>\n",
       "      <td>4804.9</td>\n",
       "      <td>78509.11</td>\n",
       "    </tr>\n",
       "    <tr>\n",
       "      <th>1992999650</th>\n",
       "      <td>68.0</td>\n",
       "      <td>664.32</td>\n",
       "    </tr>\n",
       "    <tr>\n",
       "      <th>1992999759</th>\n",
       "      <td>117.0</td>\n",
       "      <td>1216.68</td>\n",
       "    </tr>\n",
       "    <tr>\n",
       "      <th>1992999825</th>\n",
       "      <td>220.2</td>\n",
       "      <td>7206.46</td>\n",
       "    </tr>\n",
       "    <tr>\n",
       "      <th>1992999833</th>\n",
       "      <td>35.0</td>\n",
       "      <td>624.65</td>\n",
       "    </tr>\n",
       "    <tr>\n",
       "      <th>1992999866</th>\n",
       "      <td>12.0</td>\n",
       "      <td>218.42</td>\n",
       "    </tr>\n",
       "    <tr>\n",
       "      <th>1992999874</th>\n",
       "      <td>31.0</td>\n",
       "      <td>325.50</td>\n",
       "    </tr>\n",
       "    <tr>\n",
       "      <th>1992999882</th>\n",
       "      <td>223.1</td>\n",
       "      <td>1961.22</td>\n",
       "    </tr>\n",
       "  </tbody>\n",
       "</table>\n",
       "<p>893160 rows × 2 columns</p>\n",
       "</div>"
      ],
      "text/plain": [
       "                              total_30_day_fill_count  total_drug_cost\n",
       "National Provider Identifier                                          \n",
       "1003000126                                      319.0         20655.60\n",
       "1003000142                                     1690.8        120865.38\n",
       "1003000167                                       32.0           134.76\n",
       "1003000282                                       30.0           328.04\n",
       "1003000407                                     1742.2         86421.07\n",
       "1003000423                                       52.0          3104.23\n",
       "1003000480                                       17.0          3286.74\n",
       "1003000522                                    10084.4        208483.89\n",
       "1003000530                                     9895.3        269677.82\n",
       "1003000597                                      642.0         37346.46\n",
       "1003000720                                      193.0          1004.52\n",
       "1003000753                                       14.0            32.48\n",
       "1003000902                                     9005.6        204088.52\n",
       "1003000936                                     3061.0        137785.22\n",
       "1003001017                                      429.2         25255.23\n",
       "1003001132                                      192.0          1185.76\n",
       "1003001207                                       19.0            51.09\n",
       "1003001363                                     2566.4        238783.22\n",
       "1003001371                                      153.0          4600.23\n",
       "1003001462                                      240.0          3768.97\n",
       "1003001587                                       74.0           315.17\n",
       "1003001645                                      322.0        203199.92\n",
       "1003001678                                       35.0          1952.44\n",
       "1003001785                                       70.0           876.93\n",
       "1003001868                                       67.0           198.08\n",
       "1003001884                                     4713.7         55843.47\n",
       "1003002049                                     2087.5        303625.27\n",
       "1003002072                                     2623.0        197706.23\n",
       "1003002106                                       50.0           290.60\n",
       "1003002312                                     5561.0       1025929.92\n",
       "...                                               ...              ...\n",
       "1992997548                                      313.4         25341.91\n",
       "1992997647                                     6233.1        192166.48\n",
       "1992997696                                       12.0            50.06\n",
       "1992997787                                      119.0         19691.02\n",
       "1992997928                                       31.0           255.66\n",
       "1992998033                                       72.0           400.54\n",
       "1992998082                                       37.0            66.76\n",
       "1992998207                                       53.9          2226.04\n",
       "1992998322                                       85.0           308.34\n",
       "1992998330                                       49.0           449.68\n",
       "1992998371                                       44.0           226.27\n",
       "1992998405                                       24.0           188.16\n",
       "1992998553                                       65.2         12632.43\n",
       "1992998611                                       28.0           131.13\n",
       "1992998645                                     8805.7        241994.80\n",
       "1992998736                                     1091.7         18259.51\n",
       "1992998926                                      913.7        377832.14\n",
       "1992999023                                       40.0           166.60\n",
       "1992999031                                     1879.2       2672255.62\n",
       "1992999122                                    24736.9        732161.58\n",
       "1992999270                                      958.1          6145.03\n",
       "1992999437                                      156.0           838.51\n",
       "1992999551                                     4804.9         78509.11\n",
       "1992999650                                       68.0           664.32\n",
       "1992999759                                      117.0          1216.68\n",
       "1992999825                                      220.2          7206.46\n",
       "1992999833                                       35.0           624.65\n",
       "1992999866                                       12.0           218.42\n",
       "1992999874                                       31.0           325.50\n",
       "1992999882                                      223.1          1961.22\n",
       "\n",
       "[893160 rows x 2 columns]"
      ]
     },
     "execution_count": 298,
     "metadata": {},
     "output_type": "execute_result"
    }
   ],
   "source": [
    "dr_cost_num = dr_costs.drop(['drug_name', 'generic_name'], axis = 1)\n",
    "dr_dict = dr_cost_num.drop('specialty_description', axis = 1)\n",
    "drug_count = dr_dict.groupby('National Provider Identifier')\n",
    "drug_sum = drug_count.sum()\n",
    "drug_sum"
   ]
  },
  {
   "cell_type": "code",
   "execution_count": 299,
   "metadata": {},
   "outputs": [],
   "source": [
    "\n",
    "dr_spec = dr_costs.drop(['total_drug_cost', 'total_30_day_fill_count'], axis = 1)"
   ]
  },
  {
   "cell_type": "markdown",
   "metadata": {},
   "source": []
  },
  {
   "cell_type": "code",
   "execution_count": 300,
   "metadata": {
    "scrolled": true
   },
   "outputs": [
    {
     "name": "stdout",
     "output_type": "stream",
     "text": [
      "   National Provider Identifier specialty_description             drug_name  \\\n",
      "0                    1003000126     Internal Medicine  ATORVASTATIN CALCIUM   \n",
      "1                    1003000126     Internal Medicine     CIPROFLOXACIN HCL   \n",
      "2                    1003000126     Internal Medicine   DOXYCYCLINE HYCLATE   \n",
      "3                    1003000126     Internal Medicine               ELIQUIS   \n",
      "4                    1003000126     Internal Medicine            FUROSEMIDE   \n",
      "\n",
      "           generic_name  \n",
      "0  ATORVASTATIN CALCIUM  \n",
      "1     CIPROFLOXACIN HCL  \n",
      "2   DOXYCYCLINE HYCLATE  \n",
      "3              APIXABAN  \n",
      "4            FUROSEMIDE  \n",
      "(24964300, 4)\n"
     ]
    }
   ],
   "source": [
    "print(dr_spec[:5])\n",
    "dr_spec = dr_spec.drop_duplicates()\n",
    "print(dr_spec.shape)"
   ]
  },
  {
   "cell_type": "code",
   "execution_count": 301,
   "metadata": {},
   "outputs": [
    {
     "name": "stdout",
     "output_type": "stream",
     "text": [
      "Index(['total_30_day_fill_count', 'total_drug_cost'], dtype='object')\n",
      "                              total_30_day_fill_count  total_drug_cost\n",
      "National Provider Identifier                                          \n",
      "1003000126                                      319.0         20655.60\n",
      "1003000142                                     1690.8        120865.38\n",
      "1003000167                                       32.0           134.76\n",
      "1003000282                                       30.0           328.04\n",
      "1003000407                                     1742.2         86421.07\n"
     ]
    }
   ],
   "source": [
    "print(drug_sum.columns)\n",
    "print(drug_sum.head())\n",
    "drug_sum = drug_sum.merge(dr_spec, how = 'inner', on = 'National Provider Identifier')"
   ]
  },
  {
   "cell_type": "code",
   "execution_count": 302,
   "metadata": {},
   "outputs": [
    {
     "name": "stdout",
     "output_type": "stream",
     "text": [
      "<class 'pandas.core.frame.DataFrame'>\n",
      "Int64Index: 24964300 entries, 0 to 24964299\n",
      "Data columns (total 6 columns):\n",
      "National Provider Identifier    int64\n",
      "total_30_day_fill_count         float64\n",
      "total_drug_cost                 float64\n",
      "specialty_description           object\n",
      "drug_name                       object\n",
      "generic_name                    object\n",
      "dtypes: float64(2), int64(1), object(3)\n",
      "memory usage: 1.3+ GB\n"
     ]
    }
   ],
   "source": [
    "drug_sum.info()"
   ]
  },
  {
   "cell_type": "code",
   "execution_count": 303,
   "metadata": {},
   "outputs": [
    {
     "data": {
      "text/html": [
       "<div>\n",
       "<style scoped>\n",
       "    .dataframe tbody tr th:only-of-type {\n",
       "        vertical-align: middle;\n",
       "    }\n",
       "\n",
       "    .dataframe tbody tr th {\n",
       "        vertical-align: top;\n",
       "    }\n",
       "\n",
       "    .dataframe thead th {\n",
       "        text-align: right;\n",
       "    }\n",
       "</style>\n",
       "<table border=\"1\" class=\"dataframe\">\n",
       "  <thead>\n",
       "    <tr style=\"text-align: right;\">\n",
       "      <th></th>\n",
       "      <th>National Provider Identifier</th>\n",
       "      <th>total_30_day_fill_count</th>\n",
       "      <th>total_drug_cost</th>\n",
       "      <th>specialty_description</th>\n",
       "      <th>drug_name</th>\n",
       "      <th>generic_name</th>\n",
       "    </tr>\n",
       "  </thead>\n",
       "  <tbody>\n",
       "    <tr>\n",
       "      <th>0</th>\n",
       "      <td>1003000126</td>\n",
       "      <td>319.0</td>\n",
       "      <td>20655.6</td>\n",
       "      <td>Internal Medicine</td>\n",
       "      <td>ATORVASTATIN CALCIUM</td>\n",
       "      <td>ATORVASTATIN CALCIUM</td>\n",
       "    </tr>\n",
       "    <tr>\n",
       "      <th>1</th>\n",
       "      <td>1003000126</td>\n",
       "      <td>319.0</td>\n",
       "      <td>20655.6</td>\n",
       "      <td>Internal Medicine</td>\n",
       "      <td>CIPROFLOXACIN HCL</td>\n",
       "      <td>CIPROFLOXACIN HCL</td>\n",
       "    </tr>\n",
       "    <tr>\n",
       "      <th>2</th>\n",
       "      <td>1003000126</td>\n",
       "      <td>319.0</td>\n",
       "      <td>20655.6</td>\n",
       "      <td>Internal Medicine</td>\n",
       "      <td>DOXYCYCLINE HYCLATE</td>\n",
       "      <td>DOXYCYCLINE HYCLATE</td>\n",
       "    </tr>\n",
       "    <tr>\n",
       "      <th>3</th>\n",
       "      <td>1003000126</td>\n",
       "      <td>319.0</td>\n",
       "      <td>20655.6</td>\n",
       "      <td>Internal Medicine</td>\n",
       "      <td>ELIQUIS</td>\n",
       "      <td>APIXABAN</td>\n",
       "    </tr>\n",
       "    <tr>\n",
       "      <th>4</th>\n",
       "      <td>1003000126</td>\n",
       "      <td>319.0</td>\n",
       "      <td>20655.6</td>\n",
       "      <td>Internal Medicine</td>\n",
       "      <td>FUROSEMIDE</td>\n",
       "      <td>FUROSEMIDE</td>\n",
       "    </tr>\n",
       "  </tbody>\n",
       "</table>\n",
       "</div>"
      ],
      "text/plain": [
       "   National Provider Identifier  total_30_day_fill_count  total_drug_cost  \\\n",
       "0                    1003000126                    319.0          20655.6   \n",
       "1                    1003000126                    319.0          20655.6   \n",
       "2                    1003000126                    319.0          20655.6   \n",
       "3                    1003000126                    319.0          20655.6   \n",
       "4                    1003000126                    319.0          20655.6   \n",
       "\n",
       "  specialty_description             drug_name          generic_name  \n",
       "0     Internal Medicine  ATORVASTATIN CALCIUM  ATORVASTATIN CALCIUM  \n",
       "1     Internal Medicine     CIPROFLOXACIN HCL     CIPROFLOXACIN HCL  \n",
       "2     Internal Medicine   DOXYCYCLINE HYCLATE   DOXYCYCLINE HYCLATE  \n",
       "3     Internal Medicine               ELIQUIS              APIXABAN  \n",
       "4     Internal Medicine            FUROSEMIDE            FUROSEMIDE  "
      ]
     },
     "execution_count": 303,
     "metadata": {},
     "output_type": "execute_result"
    }
   ],
   "source": [
    "import numpy as np\n",
    "drug_sum['National Provider Identifier'] = drug_sum['National Provider Identifier'].astype(np.int64)\n",
    "drug_sum.head()\n"
   ]
  },
  {
   "cell_type": "markdown",
   "metadata": {},
   "source": [
    "# Merge both dataframes\n",
    "Below we merge the dataframe of the cumulative drug prescription info for each doctor and the dataframe of demographic information of doctors' patient populations"
   ]
  },
  {
   "cell_type": "code",
   "execution_count": 307,
   "metadata": {},
   "outputs": [
    {
     "ename": "MemoryError",
     "evalue": "",
     "output_type": "error",
     "traceback": [
      "\u001b[1;31m---------------------------------------------------------------------------\u001b[0m",
      "\u001b[1;31mMemoryError\u001b[0m                               Traceback (most recent call last)",
      "\u001b[1;32m<ipython-input-307-4371f014b219>\u001b[0m in \u001b[0;36m<module>\u001b[1;34m\u001b[0m\n\u001b[1;32m----> 1\u001b[1;33m \u001b[0mdf9\u001b[0m \u001b[1;33m=\u001b[0m \u001b[0mdrug_sum\u001b[0m\u001b[1;33m.\u001b[0m\u001b[0mmerge\u001b[0m\u001b[1;33m(\u001b[0m\u001b[0mdf2\u001b[0m\u001b[1;33m,\u001b[0m \u001b[0mhow\u001b[0m \u001b[1;33m=\u001b[0m \u001b[1;34m'inner'\u001b[0m\u001b[1;33m,\u001b[0m \u001b[0mon\u001b[0m \u001b[1;33m=\u001b[0m \u001b[1;34m'National Provider Identifier'\u001b[0m\u001b[1;33m)\u001b[0m\u001b[1;33m\u001b[0m\u001b[1;33m\u001b[0m\u001b[0m\n\u001b[0m\u001b[0;32m      2\u001b[0m \u001b[0mdf9\u001b[0m\u001b[1;33m.\u001b[0m\u001b[0mhead\u001b[0m\u001b[1;33m(\u001b[0m\u001b[1;33m)\u001b[0m\u001b[1;33m\u001b[0m\u001b[1;33m\u001b[0m\u001b[0m\n",
      "\u001b[1;32m~\\Anaconda3\\lib\\site-packages\\pandas\\core\\frame.py\u001b[0m in \u001b[0;36mmerge\u001b[1;34m(self, right, how, on, left_on, right_on, left_index, right_index, sort, suffixes, copy, indicator, validate)\u001b[0m\n\u001b[0;32m   6866\u001b[0m                      \u001b[0mright_on\u001b[0m\u001b[1;33m=\u001b[0m\u001b[0mright_on\u001b[0m\u001b[1;33m,\u001b[0m \u001b[0mleft_index\u001b[0m\u001b[1;33m=\u001b[0m\u001b[0mleft_index\u001b[0m\u001b[1;33m,\u001b[0m\u001b[1;33m\u001b[0m\u001b[1;33m\u001b[0m\u001b[0m\n\u001b[0;32m   6867\u001b[0m                      \u001b[0mright_index\u001b[0m\u001b[1;33m=\u001b[0m\u001b[0mright_index\u001b[0m\u001b[1;33m,\u001b[0m \u001b[0msort\u001b[0m\u001b[1;33m=\u001b[0m\u001b[0msort\u001b[0m\u001b[1;33m,\u001b[0m \u001b[0msuffixes\u001b[0m\u001b[1;33m=\u001b[0m\u001b[0msuffixes\u001b[0m\u001b[1;33m,\u001b[0m\u001b[1;33m\u001b[0m\u001b[1;33m\u001b[0m\u001b[0m\n\u001b[1;32m-> 6868\u001b[1;33m                      copy=copy, indicator=indicator, validate=validate)\n\u001b[0m\u001b[0;32m   6869\u001b[0m \u001b[1;33m\u001b[0m\u001b[0m\n\u001b[0;32m   6870\u001b[0m     \u001b[1;32mdef\u001b[0m \u001b[0mround\u001b[0m\u001b[1;33m(\u001b[0m\u001b[0mself\u001b[0m\u001b[1;33m,\u001b[0m \u001b[0mdecimals\u001b[0m\u001b[1;33m=\u001b[0m\u001b[1;36m0\u001b[0m\u001b[1;33m,\u001b[0m \u001b[1;33m*\u001b[0m\u001b[0margs\u001b[0m\u001b[1;33m,\u001b[0m \u001b[1;33m**\u001b[0m\u001b[0mkwargs\u001b[0m\u001b[1;33m)\u001b[0m\u001b[1;33m:\u001b[0m\u001b[1;33m\u001b[0m\u001b[1;33m\u001b[0m\u001b[0m\n",
      "\u001b[1;32m~\\Anaconda3\\lib\\site-packages\\pandas\\core\\reshape\\merge.py\u001b[0m in \u001b[0;36mmerge\u001b[1;34m(left, right, how, on, left_on, right_on, left_index, right_index, sort, suffixes, copy, indicator, validate)\u001b[0m\n\u001b[0;32m     46\u001b[0m                          \u001b[0mcopy\u001b[0m\u001b[1;33m=\u001b[0m\u001b[0mcopy\u001b[0m\u001b[1;33m,\u001b[0m \u001b[0mindicator\u001b[0m\u001b[1;33m=\u001b[0m\u001b[0mindicator\u001b[0m\u001b[1;33m,\u001b[0m\u001b[1;33m\u001b[0m\u001b[1;33m\u001b[0m\u001b[0m\n\u001b[0;32m     47\u001b[0m                          validate=validate)\n\u001b[1;32m---> 48\u001b[1;33m     \u001b[1;32mreturn\u001b[0m \u001b[0mop\u001b[0m\u001b[1;33m.\u001b[0m\u001b[0mget_result\u001b[0m\u001b[1;33m(\u001b[0m\u001b[1;33m)\u001b[0m\u001b[1;33m\u001b[0m\u001b[1;33m\u001b[0m\u001b[0m\n\u001b[0m\u001b[0;32m     49\u001b[0m \u001b[1;33m\u001b[0m\u001b[0m\n\u001b[0;32m     50\u001b[0m \u001b[1;33m\u001b[0m\u001b[0m\n",
      "\u001b[1;32m~\\Anaconda3\\lib\\site-packages\\pandas\\core\\reshape\\merge.py\u001b[0m in \u001b[0;36mget_result\u001b[1;34m(self)\u001b[0m\n\u001b[0;32m    558\u001b[0m             \u001b[1;33m[\u001b[0m\u001b[1;33m(\u001b[0m\u001b[0mldata\u001b[0m\u001b[1;33m,\u001b[0m \u001b[0mlindexers\u001b[0m\u001b[1;33m)\u001b[0m\u001b[1;33m,\u001b[0m \u001b[1;33m(\u001b[0m\u001b[0mrdata\u001b[0m\u001b[1;33m,\u001b[0m \u001b[0mrindexers\u001b[0m\u001b[1;33m)\u001b[0m\u001b[1;33m]\u001b[0m\u001b[1;33m,\u001b[0m\u001b[1;33m\u001b[0m\u001b[1;33m\u001b[0m\u001b[0m\n\u001b[0;32m    559\u001b[0m             \u001b[0maxes\u001b[0m\u001b[1;33m=\u001b[0m\u001b[1;33m[\u001b[0m\u001b[0mllabels\u001b[0m\u001b[1;33m.\u001b[0m\u001b[0mappend\u001b[0m\u001b[1;33m(\u001b[0m\u001b[0mrlabels\u001b[0m\u001b[1;33m)\u001b[0m\u001b[1;33m,\u001b[0m \u001b[0mjoin_index\u001b[0m\u001b[1;33m]\u001b[0m\u001b[1;33m,\u001b[0m\u001b[1;33m\u001b[0m\u001b[1;33m\u001b[0m\u001b[0m\n\u001b[1;32m--> 560\u001b[1;33m             concat_axis=0, copy=self.copy)\n\u001b[0m\u001b[0;32m    561\u001b[0m \u001b[1;33m\u001b[0m\u001b[0m\n\u001b[0;32m    562\u001b[0m         \u001b[0mtyp\u001b[0m \u001b[1;33m=\u001b[0m \u001b[0mself\u001b[0m\u001b[1;33m.\u001b[0m\u001b[0mleft\u001b[0m\u001b[1;33m.\u001b[0m\u001b[0m_constructor\u001b[0m\u001b[1;33m\u001b[0m\u001b[1;33m\u001b[0m\u001b[0m\n",
      "\u001b[1;32m~\\Anaconda3\\lib\\site-packages\\pandas\\core\\internals\\managers.py\u001b[0m in \u001b[0;36mconcatenate_block_managers\u001b[1;34m(mgrs_indexers, axes, concat_axis, copy)\u001b[0m\n\u001b[0;32m   2059\u001b[0m         \u001b[1;32melse\u001b[0m\u001b[1;33m:\u001b[0m\u001b[1;33m\u001b[0m\u001b[1;33m\u001b[0m\u001b[0m\n\u001b[0;32m   2060\u001b[0m             b = make_block(\n\u001b[1;32m-> 2061\u001b[1;33m                 \u001b[0mconcatenate_join_units\u001b[0m\u001b[1;33m(\u001b[0m\u001b[0mjoin_units\u001b[0m\u001b[1;33m,\u001b[0m \u001b[0mconcat_axis\u001b[0m\u001b[1;33m,\u001b[0m \u001b[0mcopy\u001b[0m\u001b[1;33m=\u001b[0m\u001b[0mcopy\u001b[0m\u001b[1;33m)\u001b[0m\u001b[1;33m,\u001b[0m\u001b[1;33m\u001b[0m\u001b[1;33m\u001b[0m\u001b[0m\n\u001b[0m\u001b[0;32m   2062\u001b[0m                 placement=placement)\n\u001b[0;32m   2063\u001b[0m         \u001b[0mblocks\u001b[0m\u001b[1;33m.\u001b[0m\u001b[0mappend\u001b[0m\u001b[1;33m(\u001b[0m\u001b[0mb\u001b[0m\u001b[1;33m)\u001b[0m\u001b[1;33m\u001b[0m\u001b[1;33m\u001b[0m\u001b[0m\n",
      "\u001b[1;32m~\\Anaconda3\\lib\\site-packages\\pandas\\core\\internals\\concat.py\u001b[0m in \u001b[0;36mconcatenate_join_units\u001b[1;34m(join_units, concat_axis, copy)\u001b[0m\n\u001b[0;32m    240\u001b[0m     to_concat = [ju.get_reindexed_values(empty_dtype=empty_dtype,\n\u001b[0;32m    241\u001b[0m                                          upcasted_na=upcasted_na)\n\u001b[1;32m--> 242\u001b[1;33m                  for ju in join_units]\n\u001b[0m\u001b[0;32m    243\u001b[0m \u001b[1;33m\u001b[0m\u001b[0m\n\u001b[0;32m    244\u001b[0m     \u001b[1;32mif\u001b[0m \u001b[0mlen\u001b[0m\u001b[1;33m(\u001b[0m\u001b[0mto_concat\u001b[0m\u001b[1;33m)\u001b[0m \u001b[1;33m==\u001b[0m \u001b[1;36m1\u001b[0m\u001b[1;33m:\u001b[0m\u001b[1;33m\u001b[0m\u001b[1;33m\u001b[0m\u001b[0m\n",
      "\u001b[1;32m~\\Anaconda3\\lib\\site-packages\\pandas\\core\\internals\\concat.py\u001b[0m in \u001b[0;36m<listcomp>\u001b[1;34m(.0)\u001b[0m\n\u001b[0;32m    240\u001b[0m     to_concat = [ju.get_reindexed_values(empty_dtype=empty_dtype,\n\u001b[0;32m    241\u001b[0m                                          upcasted_na=upcasted_na)\n\u001b[1;32m--> 242\u001b[1;33m                  for ju in join_units]\n\u001b[0m\u001b[0;32m    243\u001b[0m \u001b[1;33m\u001b[0m\u001b[0m\n\u001b[0;32m    244\u001b[0m     \u001b[1;32mif\u001b[0m \u001b[0mlen\u001b[0m\u001b[1;33m(\u001b[0m\u001b[0mto_concat\u001b[0m\u001b[1;33m)\u001b[0m \u001b[1;33m==\u001b[0m \u001b[1;36m1\u001b[0m\u001b[1;33m:\u001b[0m\u001b[1;33m\u001b[0m\u001b[1;33m\u001b[0m\u001b[0m\n",
      "\u001b[1;32m~\\Anaconda3\\lib\\site-packages\\pandas\\core\\internals\\concat.py\u001b[0m in \u001b[0;36mget_reindexed_values\u001b[1;34m(self, empty_dtype, upcasted_na)\u001b[0m\n\u001b[0;32m    223\u001b[0m             \u001b[1;32mfor\u001b[0m \u001b[0max\u001b[0m\u001b[1;33m,\u001b[0m \u001b[0mindexer\u001b[0m \u001b[1;32min\u001b[0m \u001b[0mself\u001b[0m\u001b[1;33m.\u001b[0m\u001b[0mindexers\u001b[0m\u001b[1;33m.\u001b[0m\u001b[0mitems\u001b[0m\u001b[1;33m(\u001b[0m\u001b[1;33m)\u001b[0m\u001b[1;33m:\u001b[0m\u001b[1;33m\u001b[0m\u001b[1;33m\u001b[0m\u001b[0m\n\u001b[0;32m    224\u001b[0m                 values = algos.take_nd(values, indexer, axis=ax,\n\u001b[1;32m--> 225\u001b[1;33m                                        fill_value=fill_value)\n\u001b[0m\u001b[0;32m    226\u001b[0m \u001b[1;33m\u001b[0m\u001b[0m\n\u001b[0;32m    227\u001b[0m         \u001b[1;32mreturn\u001b[0m \u001b[0mvalues\u001b[0m\u001b[1;33m\u001b[0m\u001b[1;33m\u001b[0m\u001b[0m\n",
      "\u001b[1;32m~\\Anaconda3\\lib\\site-packages\\pandas\\core\\algorithms.py\u001b[0m in \u001b[0;36mtake_nd\u001b[1;34m(arr, indexer, axis, out, fill_value, mask_info, allow_fill)\u001b[0m\n\u001b[0;32m   1649\u001b[0m             \u001b[0mout\u001b[0m \u001b[1;33m=\u001b[0m \u001b[0mnp\u001b[0m\u001b[1;33m.\u001b[0m\u001b[0mempty\u001b[0m\u001b[1;33m(\u001b[0m\u001b[0mout_shape\u001b[0m\u001b[1;33m,\u001b[0m \u001b[0mdtype\u001b[0m\u001b[1;33m=\u001b[0m\u001b[0mdtype\u001b[0m\u001b[1;33m,\u001b[0m \u001b[0morder\u001b[0m\u001b[1;33m=\u001b[0m\u001b[1;34m'F'\u001b[0m\u001b[1;33m)\u001b[0m\u001b[1;33m\u001b[0m\u001b[1;33m\u001b[0m\u001b[0m\n\u001b[0;32m   1650\u001b[0m         \u001b[1;32melse\u001b[0m\u001b[1;33m:\u001b[0m\u001b[1;33m\u001b[0m\u001b[1;33m\u001b[0m\u001b[0m\n\u001b[1;32m-> 1651\u001b[1;33m             \u001b[0mout\u001b[0m \u001b[1;33m=\u001b[0m \u001b[0mnp\u001b[0m\u001b[1;33m.\u001b[0m\u001b[0mempty\u001b[0m\u001b[1;33m(\u001b[0m\u001b[0mout_shape\u001b[0m\u001b[1;33m,\u001b[0m \u001b[0mdtype\u001b[0m\u001b[1;33m=\u001b[0m\u001b[0mdtype\u001b[0m\u001b[1;33m)\u001b[0m\u001b[1;33m\u001b[0m\u001b[1;33m\u001b[0m\u001b[0m\n\u001b[0m\u001b[0;32m   1652\u001b[0m \u001b[1;33m\u001b[0m\u001b[0m\n\u001b[0;32m   1653\u001b[0m     func = _get_take_nd_function(arr.ndim, arr.dtype, out.dtype, axis=axis,\n",
      "\u001b[1;31mMemoryError\u001b[0m: "
     ]
    }
   ],
   "source": [
    "\n",
    "df9 = drug_sum.merge(df2, how = 'inner', on = 'National Provider Identifier')\n",
    "df9.head()"
   ]
  },
  {
   "cell_type": "markdown",
   "metadata": {},
   "source": [
    "# In the below cells I create a list of the ten most common medical specialties"
   ]
  },
  {
   "cell_type": "code",
   "execution_count": 308,
   "metadata": {},
   "outputs": [
    {
     "name": "stdout",
     "output_type": "stream",
     "text": [
      "{'Internal Medicine': 1, 'Family Practice': 2, 'Nurse Practitioner': 3, 'Physician Assistant': 4, 'Emergency Medicine': 5, 'Obstetrics & Gynecology': 6, 'Psychiatry': 7, 'Cardiovascular Disease (Cardiology)': 8, 'Optometry': 9, 'Orthopedic Surgery': 10}\n"
     ]
    }
   ],
   "source": [
    "from collections import Counter\n",
    "V_count = Counter(df9.specialty_description).most_common(10)\n",
    "index = 1\n",
    "d = {} \n",
    "for name, count in V_count:\n",
    "    d[name] = index\n",
    "    index += 1\n",
    "print(d)    \n",
    "        \n",
    "        "
   ]
  },
  {
   "cell_type": "markdown",
   "metadata": {},
   "source": [
    "# Copies of merged DataFrame in entirety\n",
    "In the cell below I create copies fo the newly merged dataframe. I do this because I will be making modifications to the DataFrame to prepare it to be explored with Scikit Learn's algorithm's. However I want to be able to access the original dataframe so that I can use data exploration and plot visuals with all of the original data. "
   ]
  },
  {
   "cell_type": "code",
   "execution_count": 383,
   "metadata": {},
   "outputs": [
    {
     "name": "stdout",
     "output_type": "stream",
     "text": [
      "<class 'pandas.core.frame.DataFrame'>\n"
     ]
    }
   ],
   "source": [
    "spec_df = df9.copy()\n",
    "spec_unfiltered_df = df9.copy()\n",
    "print(type(spec_unfiltered_df))"
   ]
  },
  {
   "cell_type": "markdown",
   "metadata": {
    "scrolled": true
   },
   "source": [
    "# Eliminating Features and Filtering out Rows\n",
    "In the cells below I eliminate features which are missing to much information. Essentially these features have to many rows without real values and which have nan values instead. In addition I filter  out rows which have less than 44 features with real values that are not nan. There are a total of 52 features we are using. In essences rows which are missing over 17% of the used features are being removed from the dataset. \n",
    "\n",
    "The rows that we do keep but that have nan values are dealt with by the fillna function. We fill the nan values with the median values of their respective columns. "
   ]
  },
  {
   "cell_type": "code",
   "execution_count": 385,
   "metadata": {},
   "outputs": [],
   "source": [
    "\n",
    "df9 = df9.drop(['Percent (%) of Beneficiaries Identified With Schizophrenia / Other Psychotic Disorders','Number of Black or African American Beneficiaries','Number of Asian Pacific Islander Beneficiaries','Number of Hispanic Beneficiaries','Number of American Indian/Alaska Native Beneficiaries','Number of Beneficiaries With Race Not Elsewhere Classified','Medical Suppress Indicator','Drug Suppress Indicator'], axis = 1)\n",
    "#df46 = df9.dropna(thresh = 47 )\n",
    "#df41 = df9.dropna(thresh = 41 )\n",
    "df44 = df9.dropna(thresh = 44 )\n",
    "df44_fill = df44.fillna(df44.median())"
   ]
  },
  {
   "cell_type": "code",
   "execution_count": 386,
   "metadata": {},
   "outputs": [],
   "source": [
    "from sklearn.ensemble import AdaBoostClassifier\n",
    "from sklearn.tree import DecisionTreeClassifier\n",
    "from sklearn.metrics import roc_auc_score\n",
    "from sklearn.model_selection import train_test_split\n",
    "from sklearn.model_selection import GridSearchCV\n",
    "#from xgboost import XGBClassifier\n",
    "\n",
    "from sklearn.model_selection import StratifiedKFold\n",
    "from sklearn.preprocessing import LabelEncoder\n",
    "from sklearn.tree import DecisionTreeClassifier\n",
    "from sklearn.model_selection import train_test_split\n",
    "from sklearn.metrics import accuracy_score\n",
    "from sklearn.metrics import classification_report\n",
    "from sklearn.metrics import confusion_matrix\n",
    "from sklearn.ensemble import BaggingClassifier\n",
    "from sklearn.metrics import mean_squared_error as MSE\n",
    "from sklearn.ensemble import RandomForestClassifier\n",
    "from sklearn.ensemble import RandomForestRegressor\n",
    "import functools\n"
   ]
  },
  {
   "cell_type": "markdown",
   "metadata": {},
   "source": [
    "# Modifying Categorical Data\n",
    "In the cell below there is a dictionary giving numerical values to keys representing gender. Using this the gender information is remapped to bivariate numerical representations. This is important because the machine learning algorithm's only with numerical data. \n",
    "\n",
    "Similarly in the cell directly below the one described I filter the dataframe to include the ten specialties with the most doctors who prescribed over 3,000 prescription for the year. I then created Dummy Variables for each specialty. "
   ]
  },
  {
   "cell_type": "code",
   "execution_count": null,
   "metadata": {},
   "outputs": [],
   "source": []
  },
  {
   "cell_type": "code",
   "execution_count": 387,
   "metadata": {},
   "outputs": [
    {
     "data": {
      "text/plain": [
       "(200692, 53)"
      ]
     },
     "execution_count": 387,
     "metadata": {},
     "output_type": "execute_result"
    }
   ],
   "source": [
    "df_fill = df44_fill\n",
    "\n",
    "genderdict = {'M':1, 'F':0}\n",
    "df_fill['Gender of the Provider'] = df_fill['Gender of the Provider'].map(genderdict)\n",
    "df_fill.shape"
   ]
  },
  {
   "cell_type": "code",
   "execution_count": 388,
   "metadata": {},
   "outputs": [],
   "source": [
    "\n",
    "from collections import Counter\n",
    "spec_df = df_fill[df_fill['total_30_day_fill_count']>=3000]\n",
    "\n",
    "\n",
    "V_count = Counter(spec_df.specialty_description).most_common(10)\n",
    "spec_list = []\n",
    "for object in V_count:\n",
    "    spec_list.append(object[0])\n",
    "\n",
    "top_spec = df_fill[df_fill.specialty_description.isin(spec_list)]\n",
    "dummy_df = pd.get_dummies(top_spec['specialty_description'])\n",
    "df_fill = pd.concat([top_spec,dummy_df], axis = 1)"
   ]
  },
  {
   "cell_type": "code",
   "execution_count": 389,
   "metadata": {},
   "outputs": [
    {
     "data": {
      "text/plain": [
       "Index(['National Provider Identifier', 'total_30_day_fill_count',\n",
       "       'total_drug_cost', 'specialty_description', 'Number of HCPCS',\n",
       "       'Number of Services', 'Number of Medicare Beneficiaries',\n",
       "       'Total Submitted Charge Amount', 'Total Medicare Allowed Amount',\n",
       "       'Total Medicare Payment Amount',\n",
       "       'Total Medicare Standardized Payment Amount',\n",
       "       'Number of HCPCS Associated With Drug Services',\n",
       "       'Number of Drug Services',\n",
       "       'Number of Medicare Beneficiaries With Drug Services',\n",
       "       'Total Drug Submitted Charge Amount',\n",
       "       'Total Drug Medicare Allowed Amount',\n",
       "       'Total Drug Medicare Payment Amount',\n",
       "       'Total Drug Medicare Standardized Payment Amount',\n",
       "       'Number of HCPCS Associated With Medical Services',\n",
       "       'Number of Medical Services',\n",
       "       'Number of Medicare Beneficiaries With Medical Services',\n",
       "       'Total Medical Submitted Charge Amount',\n",
       "       'Total Medical Medicare Allowed Amount',\n",
       "       'Total Medical Medicare Payment Amount',\n",
       "       'Total Medical Medicare Standardized Payment Amount',\n",
       "       'Average Age of Beneficiaries', 'Number of Beneficiaries Age Less 65',\n",
       "       'Number of Beneficiaries Age 65 to 74',\n",
       "       'Number of Beneficiaries Age 75 to 84',\n",
       "       'Number of Beneficiaries Age Greater 84',\n",
       "       'Number of Female Beneficiaries', 'Number of Male Beneficiaries\\t',\n",
       "       'Number of Non-Hispanic White Beneficiaries\\t',\n",
       "       'Number of Beneficiaries With Medicare Only Entitlement',\n",
       "       'Number of Beneficiaries With Medicare & Medicaid Entitlement',\n",
       "       'Percent (%) of Beneficiaries Identified With Atrial Fibrillation',\n",
       "       'Percent (%) of Beneficiaries Identified With Alzheimer’s Disease or Dementia',\n",
       "       'Percent (%) of Beneficiaries Identified With Asthma',\n",
       "       'Percent (%) of Beneficiaries Identified With Cancer',\n",
       "       'Percent (%) of Beneficiaries Identified With Heart Failure',\n",
       "       'Percent (%) of Beneficiaries Identified With Chronic Kidney Disease',\n",
       "       'Percent (%) of Beneficiaries Identified With Chronic Obstructive Pulmonary Disease',\n",
       "       'Percent (%) of Beneficiaries Identified With Depression',\n",
       "       'Percent (%) of Beneficiaries Identified With Diabetes',\n",
       "       'Percent (%) of Beneficiaries Identified With Hyperlipidemia',\n",
       "       'Percent (%) of Beneficiaries Identified With Hypertension',\n",
       "       'Percent (%) of Beneficiaries Identified With Ischemic Heart Disease',\n",
       "       'Percent (%) of Beneficiaries Identified With Osteoporosis',\n",
       "       'Percent (%) of Beneficiaries Identified With Rheumatoid Arthritis / Osteoarthritis',\n",
       "       'Percent (%) of Beneficiaries Identified With Stroke',\n",
       "       'Average HCC Risk Score of Beneficiaries', 'Gender of the Provider',\n",
       "       'cost_per_patient', 'Cardiovascular Disease (Cardiology)',\n",
       "       'Endocrinology', 'Family Practice', 'Internal Medicine', 'Neurology',\n",
       "       'Nurse Practitioner', 'Ophthalmology', 'Physician Assistant',\n",
       "       'Psychiatry', 'Urology'],\n",
       "      dtype='object')"
      ]
     },
     "execution_count": 389,
     "metadata": {},
     "output_type": "execute_result"
    }
   ],
   "source": [
    "df_fill.columns"
   ]
  },
  {
   "cell_type": "code",
   "execution_count": 410,
   "metadata": {},
   "outputs": [
    {
     "name": "stdout",
     "output_type": "stream",
     "text": [
      "                                     total_drug_cost\n",
      "specialty_description                               \n",
      "Cardiovascular Disease (Cardiology)       206773.435\n",
      "Endocrinology                             649742.900\n",
      "Family Practice                           212775.960\n",
      "Internal Medicine                         289301.060\n",
      "Neurology                                 500899.610\n",
      "Nurse Practitioner                        106246.560\n",
      "Ophthalmology                             173928.825\n",
      "Physician Assistant                       102640.195\n",
      "Psychiatry                                216093.820\n",
      "Urology                                   139895.190\n"
     ]
    }
   ],
   "source": [
    "drug_avg = df_fill.loc[:,['specialty_description','total_drug_cost']]\n",
    "#spec_df =  df9.copy()\n",
    "#spec_unfiltered_df = df9.copy()\n",
    "#rint(type(spec_unfiltered_df))\n",
    "drug_avg = drug_avg.groupby(by ='specialty_description').median()\n",
    "print(drug_avg)\n"
   ]
  },
  {
   "cell_type": "code",
   "execution_count": 391,
   "metadata": {},
   "outputs": [
    {
     "name": "stdout",
     "output_type": "stream",
     "text": [
      "{'total_drug_cost': {'Cardiovascular Disease (Cardiology)': 289283.0, 'Endocrinology': 822308.0, 'Family Practice': 308140.0, 'Internal Medicine': 422990.0, 'Neurology': 833908.0, 'Nurse Practitioner': 201047.0, 'Ophthalmology': 240080.0, 'Physician Assistant': 187239.0, 'Psychiatry': 329565.0, 'Urology': 188719.0}}\n",
      "       National Provider Identifier  total_30_day_fill_count  total_drug_cost  \\\n",
      "count                  1.619140e+05            161914.000000     1.619140e+05   \n",
      "mean                   1.500186e+09              7818.602021     3.399224e+05   \n",
      "std                    2.877199e+08              7517.876766     4.693744e+05   \n",
      "min                    1.003000e+09              1000.100000     4.606750e+03   \n",
      "25%                    1.245667e+09              2647.900000     9.756633e+04   \n",
      "50%                    1.508046e+09              5364.600000     2.112788e+05   \n",
      "75%                    1.750313e+09             10518.600000     4.165485e+05   \n",
      "max                    1.993000e+09            323770.400000     1.904895e+07   \n",
      "\n",
      "       Number of HCPCS  Number of Services  Number of Medicare Beneficiaries  \\\n",
      "count    161914.000000        1.619140e+05                     161914.000000   \n",
      "mean         43.854089        3.539185e+03                        466.259422   \n",
      "std          31.546631        9.537924e+03                        498.370442   \n",
      "min           1.000000        3.000000e+01                         25.000000   \n",
      "25%          21.000000        7.590000e+02                        186.000000   \n",
      "50%          37.000000        1.651000e+03                        315.000000   \n",
      "75%          58.000000        3.608000e+03                        561.000000   \n",
      "max         355.000000        1.283160e+06                      58680.000000   \n",
      "\n",
      "       Total Submitted Charge Amount  Total Medicare Allowed Amount  \\\n",
      "count                   1.619140e+05                   1.619140e+05   \n",
      "mean                    3.751555e+05                   1.713929e+05   \n",
      "std                     6.600668e+05                   2.589045e+05   \n",
      "min                     4.891400e+02                   1.828300e+02   \n",
      "25%                     9.455812e+04                   4.832187e+04   \n",
      "50%                     1.963646e+05                   1.011806e+05   \n",
      "75%                     4.190765e+05                   2.073386e+05   \n",
      "max                     5.069439e+07                   1.860569e+07   \n",
      "\n",
      "       Total Medicare Payment Amount  \\\n",
      "count                   1.619140e+05   \n",
      "mean                    1.276013e+05   \n",
      "std                     1.981571e+05   \n",
      "min                     1.777200e+02   \n",
      "25%                     3.469399e+04   \n",
      "50%                     7.399051e+04   \n",
      "75%                     1.540609e+05   \n",
      "max                     1.430484e+07   \n",
      "\n",
      "       Total Medicare Standardized Payment Amount  ...  \\\n",
      "count                                1.619140e+05  ...   \n",
      "mean                                 1.295983e+05  ...   \n",
      "std                                  2.000247e+05  ...   \n",
      "min                                  1.827500e+02  ...   \n",
      "25%                                  3.572387e+04  ...   \n",
      "50%                                  7.561767e+04  ...   \n",
      "75%                                  1.565669e+05  ...   \n",
      "max                                  1.467530e+07  ...   \n",
      "\n",
      "       Cardiovascular Disease (Cardiology)  Endocrinology  Family Practice  \\\n",
      "count                        161914.000000  161914.000000    161914.000000   \n",
      "mean                              0.085515       0.018917         0.297121   \n",
      "std                               0.279647       0.136234         0.456992   \n",
      "min                               0.000000       0.000000         0.000000   \n",
      "25%                               0.000000       0.000000         0.000000   \n",
      "50%                               0.000000       0.000000         0.000000   \n",
      "75%                               0.000000       0.000000         1.000000   \n",
      "max                               1.000000       1.000000         1.000000   \n",
      "\n",
      "       Internal Medicine      Neurology  Nurse Practitioner  Ophthalmology  \\\n",
      "count      161914.000000  161914.000000       161914.000000  161914.000000   \n",
      "mean            0.274819       0.032493            0.118822       0.047136   \n",
      "std             0.446424       0.177305            0.323580       0.211931   \n",
      "min             0.000000       0.000000            0.000000       0.000000   \n",
      "25%             0.000000       0.000000            0.000000       0.000000   \n",
      "50%             0.000000       0.000000            0.000000       0.000000   \n",
      "75%             1.000000       0.000000            0.000000       0.000000   \n",
      "max             1.000000       1.000000            1.000000       1.000000   \n",
      "\n",
      "       Physician Assistant     Psychiatry        Urology  \n",
      "count        161914.000000  161914.000000  161914.000000  \n",
      "mean              0.048161       0.042424       0.034592  \n",
      "std               0.214108       0.201555       0.182746  \n",
      "min               0.000000       0.000000       0.000000  \n",
      "25%               0.000000       0.000000       0.000000  \n",
      "50%               0.000000       0.000000       0.000000  \n",
      "75%               0.000000       0.000000       0.000000  \n",
      "max               1.000000       1.000000       1.000000  \n",
      "\n",
      "[8 rows x 62 columns]\n"
     ]
    }
   ],
   "source": [
    "\n",
    "drug_avg = drug_avg.round()\n",
    "drug_avg_dict = drug_avg.to_dict()\n",
    "print(drug_avg_dict)\n",
    "#drug_avg = drug_avg.reset_index()\n",
    "\n",
    "print(df_fill.describe())\n"
   ]
  },
  {
   "cell_type": "code",
   "execution_count": 392,
   "metadata": {},
   "outputs": [
    {
     "name": "stdout",
     "output_type": "stream",
     "text": [
      "specialty_description\n",
      "Cardiovascular Disease (Cardiology)    289283.0\n",
      "Endocrinology                          822308.0\n",
      "Family Practice                        308140.0\n",
      "Internal Medicine                      422990.0\n",
      "Neurology                              833908.0\n",
      "Nurse Practitioner                     201047.0\n",
      "Ophthalmology                          240080.0\n",
      "Physician Assistant                    187239.0\n",
      "Psychiatry                             329565.0\n",
      "Urology                                188719.0\n",
      "Name: total_drug_cost, dtype: float64\n",
      "{'Cardiovascular Disease (Cardiology)': 289283.0, 'Endocrinology': 822308.0, 'Family Practice': 308140.0, 'Internal Medicine': 422990.0, 'Neurology': 833908.0, 'Nurse Practitioner': 201047.0, 'Ophthalmology': 240080.0, 'Physician Assistant': 187239.0, 'Psychiatry': 329565.0, 'Urology': 188719.0}\n",
      "<class 'dict'>\n"
     ]
    }
   ],
   "source": [
    "nested_dict = drug_avg['total_drug_cost']\n",
    "print(nested_dict)\n",
    "nested_dict = nested_dict.to_dict()\n",
    "#nested = drug_avg['total_drug_cost']\n",
    "#nested = nested.reset_index()\n",
    "#nested_dict = drug_avg.to_dict()\n",
    "#k = avg_dict.values()\n",
    "print(nested_dict)\n",
    "print(type(nested_dict))\n",
    "df_fill['specialty_description_vector'] = df_fill['specialty_description'].map(nested_dict)"
   ]
  },
  {
   "cell_type": "code",
   "execution_count": 393,
   "metadata": {},
   "outputs": [
    {
     "data": {
      "text/html": [
       "<div>\n",
       "<style scoped>\n",
       "    .dataframe tbody tr th:only-of-type {\n",
       "        vertical-align: middle;\n",
       "    }\n",
       "\n",
       "    .dataframe tbody tr th {\n",
       "        vertical-align: top;\n",
       "    }\n",
       "\n",
       "    .dataframe thead th {\n",
       "        text-align: right;\n",
       "    }\n",
       "</style>\n",
       "<table border=\"1\" class=\"dataframe\">\n",
       "  <thead>\n",
       "    <tr style=\"text-align: right;\">\n",
       "      <th></th>\n",
       "      <th>National Provider Identifier</th>\n",
       "      <th>total_30_day_fill_count</th>\n",
       "      <th>total_drug_cost</th>\n",
       "      <th>specialty_description</th>\n",
       "      <th>Number of HCPCS</th>\n",
       "      <th>Number of Services</th>\n",
       "      <th>Number of Medicare Beneficiaries</th>\n",
       "      <th>Total Submitted Charge Amount</th>\n",
       "      <th>Total Medicare Allowed Amount</th>\n",
       "      <th>Total Medicare Payment Amount</th>\n",
       "      <th>...</th>\n",
       "      <th>Endocrinology</th>\n",
       "      <th>Family Practice</th>\n",
       "      <th>Internal Medicine</th>\n",
       "      <th>Neurology</th>\n",
       "      <th>Nurse Practitioner</th>\n",
       "      <th>Ophthalmology</th>\n",
       "      <th>Physician Assistant</th>\n",
       "      <th>Psychiatry</th>\n",
       "      <th>Urology</th>\n",
       "      <th>specialty_description_vector</th>\n",
       "    </tr>\n",
       "  </thead>\n",
       "  <tbody>\n",
       "    <tr>\n",
       "      <th>2</th>\n",
       "      <td>1003000407</td>\n",
       "      <td>1742.2</td>\n",
       "      <td>86421.07</td>\n",
       "      <td>Family Practice</td>\n",
       "      <td>31</td>\n",
       "      <td>1637.0</td>\n",
       "      <td>401</td>\n",
       "      <td>260033.00</td>\n",
       "      <td>179134.36</td>\n",
       "      <td>136143.38</td>\n",
       "      <td>...</td>\n",
       "      <td>0</td>\n",
       "      <td>1</td>\n",
       "      <td>0</td>\n",
       "      <td>0</td>\n",
       "      <td>0</td>\n",
       "      <td>0</td>\n",
       "      <td>0</td>\n",
       "      <td>0</td>\n",
       "      <td>0</td>\n",
       "      <td>308140.0</td>\n",
       "    </tr>\n",
       "    <tr>\n",
       "      <th>5</th>\n",
       "      <td>1003000522</td>\n",
       "      <td>10084.4</td>\n",
       "      <td>208483.89</td>\n",
       "      <td>Family Practice</td>\n",
       "      <td>55</td>\n",
       "      <td>1952.0</td>\n",
       "      <td>417</td>\n",
       "      <td>368518.56</td>\n",
       "      <td>139319.81</td>\n",
       "      <td>106581.66</td>\n",
       "      <td>...</td>\n",
       "      <td>0</td>\n",
       "      <td>1</td>\n",
       "      <td>0</td>\n",
       "      <td>0</td>\n",
       "      <td>0</td>\n",
       "      <td>0</td>\n",
       "      <td>0</td>\n",
       "      <td>0</td>\n",
       "      <td>0</td>\n",
       "      <td>308140.0</td>\n",
       "    </tr>\n",
       "    <tr>\n",
       "      <th>6</th>\n",
       "      <td>1003000530</td>\n",
       "      <td>9895.3</td>\n",
       "      <td>269677.82</td>\n",
       "      <td>Internal Medicine</td>\n",
       "      <td>25</td>\n",
       "      <td>1319.0</td>\n",
       "      <td>334</td>\n",
       "      <td>185183.00</td>\n",
       "      <td>124717.40</td>\n",
       "      <td>89429.84</td>\n",
       "      <td>...</td>\n",
       "      <td>0</td>\n",
       "      <td>0</td>\n",
       "      <td>1</td>\n",
       "      <td>0</td>\n",
       "      <td>0</td>\n",
       "      <td>0</td>\n",
       "      <td>0</td>\n",
       "      <td>0</td>\n",
       "      <td>0</td>\n",
       "      <td>422990.0</td>\n",
       "    </tr>\n",
       "    <tr>\n",
       "      <th>9</th>\n",
       "      <td>1003000902</td>\n",
       "      <td>9005.6</td>\n",
       "      <td>204088.52</td>\n",
       "      <td>Family Practice</td>\n",
       "      <td>35</td>\n",
       "      <td>916.0</td>\n",
       "      <td>258</td>\n",
       "      <td>106047.00</td>\n",
       "      <td>59687.40</td>\n",
       "      <td>40810.00</td>\n",
       "      <td>...</td>\n",
       "      <td>0</td>\n",
       "      <td>1</td>\n",
       "      <td>0</td>\n",
       "      <td>0</td>\n",
       "      <td>0</td>\n",
       "      <td>0</td>\n",
       "      <td>0</td>\n",
       "      <td>0</td>\n",
       "      <td>0</td>\n",
       "      <td>308140.0</td>\n",
       "    </tr>\n",
       "    <tr>\n",
       "      <th>10</th>\n",
       "      <td>1003000936</td>\n",
       "      <td>3061.0</td>\n",
       "      <td>137785.22</td>\n",
       "      <td>Internal Medicine</td>\n",
       "      <td>68</td>\n",
       "      <td>4670.0</td>\n",
       "      <td>1374</td>\n",
       "      <td>565333.00</td>\n",
       "      <td>278921.17</td>\n",
       "      <td>208615.23</td>\n",
       "      <td>...</td>\n",
       "      <td>0</td>\n",
       "      <td>0</td>\n",
       "      <td>1</td>\n",
       "      <td>0</td>\n",
       "      <td>0</td>\n",
       "      <td>0</td>\n",
       "      <td>0</td>\n",
       "      <td>0</td>\n",
       "      <td>0</td>\n",
       "      <td>422990.0</td>\n",
       "    </tr>\n",
       "  </tbody>\n",
       "</table>\n",
       "<p>5 rows × 64 columns</p>\n",
       "</div>"
      ],
      "text/plain": [
       "    National Provider Identifier  total_30_day_fill_count  total_drug_cost  \\\n",
       "2                     1003000407                   1742.2         86421.07   \n",
       "5                     1003000522                  10084.4        208483.89   \n",
       "6                     1003000530                   9895.3        269677.82   \n",
       "9                     1003000902                   9005.6        204088.52   \n",
       "10                    1003000936                   3061.0        137785.22   \n",
       "\n",
       "   specialty_description  Number of HCPCS  Number of Services  \\\n",
       "2        Family Practice               31              1637.0   \n",
       "5        Family Practice               55              1952.0   \n",
       "6      Internal Medicine               25              1319.0   \n",
       "9        Family Practice               35               916.0   \n",
       "10     Internal Medicine               68              4670.0   \n",
       "\n",
       "    Number of Medicare Beneficiaries  Total Submitted Charge Amount  \\\n",
       "2                                401                      260033.00   \n",
       "5                                417                      368518.56   \n",
       "6                                334                      185183.00   \n",
       "9                                258                      106047.00   \n",
       "10                              1374                      565333.00   \n",
       "\n",
       "    Total Medicare Allowed Amount  Total Medicare Payment Amount  ...  \\\n",
       "2                       179134.36                      136143.38  ...   \n",
       "5                       139319.81                      106581.66  ...   \n",
       "6                       124717.40                       89429.84  ...   \n",
       "9                        59687.40                       40810.00  ...   \n",
       "10                      278921.17                      208615.23  ...   \n",
       "\n",
       "    Endocrinology  Family Practice  Internal Medicine  Neurology  \\\n",
       "2               0                1                  0          0   \n",
       "5               0                1                  0          0   \n",
       "6               0                0                  1          0   \n",
       "9               0                1                  0          0   \n",
       "10              0                0                  1          0   \n",
       "\n",
       "    Nurse Practitioner  Ophthalmology  Physician Assistant  Psychiatry  \\\n",
       "2                    0              0                    0           0   \n",
       "5                    0              0                    0           0   \n",
       "6                    0              0                    0           0   \n",
       "9                    0              0                    0           0   \n",
       "10                   0              0                    0           0   \n",
       "\n",
       "    Urology  specialty_description_vector  \n",
       "2         0                      308140.0  \n",
       "5         0                      308140.0  \n",
       "6         0                      422990.0  \n",
       "9         0                      308140.0  \n",
       "10        0                      422990.0  \n",
       "\n",
       "[5 rows x 64 columns]"
      ]
     },
     "execution_count": 393,
     "metadata": {},
     "output_type": "execute_result"
    }
   ],
   "source": [
    "df_fill.head()"
   ]
  },
  {
   "cell_type": "code",
   "execution_count": 394,
   "metadata": {},
   "outputs": [
    {
     "data": {
      "text/plain": [
       "(161914, 63)"
      ]
     },
     "execution_count": 394,
     "metadata": {},
     "output_type": "execute_result"
    }
   ],
   "source": [
    "all_med = df_fill\n",
    "all_med = all_med.drop('specialty_description', axis = 1)\n",
    "all_med.shape"
   ]
  },
  {
   "cell_type": "code",
   "execution_count": 395,
   "metadata": {},
   "outputs": [
    {
     "name": "stdout",
     "output_type": "stream",
     "text": [
      "<class 'pandas.core.frame.DataFrame'>\n",
      "Int64Index: 161914 entries, 2 to 622701\n",
      "Data columns (total 63 columns):\n",
      "National Provider Identifier                                                          161914 non-null float64\n",
      "total_30_day_fill_count                                                               161914 non-null float64\n",
      "total_drug_cost                                                                       161914 non-null float64\n",
      "Number of HCPCS                                                                       161914 non-null float64\n",
      "Number of Services                                                                    161914 non-null float64\n",
      "Number of Medicare Beneficiaries                                                      161914 non-null float64\n",
      "Total Submitted Charge Amount                                                         161914 non-null float64\n",
      "Total Medicare Allowed Amount                                                         161914 non-null float64\n",
      "Total Medicare Payment Amount                                                         161914 non-null float64\n",
      "Total Medicare Standardized Payment Amount                                            161914 non-null float64\n",
      "Number of HCPCS Associated With Drug Services                                         161914 non-null float64\n",
      "Number of Drug Services                                                               161914 non-null float64\n",
      "Number of Medicare Beneficiaries With Drug Services                                   161914 non-null float64\n",
      "Total Drug Submitted Charge Amount                                                    161914 non-null float64\n",
      "Total Drug Medicare Allowed Amount                                                    161914 non-null float64\n",
      "Total Drug Medicare Payment Amount                                                    161914 non-null float64\n",
      "Total Drug Medicare Standardized Payment Amount                                       161914 non-null float64\n",
      "Number of HCPCS Associated With Medical Services                                      161914 non-null float64\n",
      "Number of Medical Services                                                            161914 non-null float64\n",
      "Number of Medicare Beneficiaries With Medical Services                                161914 non-null float64\n",
      "Total Medical Submitted Charge Amount                                                 161914 non-null float64\n",
      "Total Medical Medicare Allowed Amount                                                 161914 non-null float64\n",
      "Total Medical Medicare Payment Amount                                                 161914 non-null float64\n",
      "Total Medical Medicare Standardized Payment Amount                                    161914 non-null float64\n",
      "Average Age of Beneficiaries                                                          161914 non-null float64\n",
      "Number of Beneficiaries Age Less 65                                                   161914 non-null float64\n",
      "Number of Beneficiaries Age 65 to 74                                                  161914 non-null float64\n",
      "Number of Beneficiaries Age 75 to 84                                                  161914 non-null float64\n",
      "Number of Beneficiaries Age Greater 84                                                161914 non-null float64\n",
      "Number of Female Beneficiaries                                                        161914 non-null float64\n",
      "Number of Male Beneficiaries\t                                                         161914 non-null float64\n",
      "Number of Non-Hispanic White Beneficiaries\t                                           161914 non-null float64\n",
      "Number of Beneficiaries With Medicare Only Entitlement                                161914 non-null float64\n",
      "Number of Beneficiaries With Medicare & Medicaid Entitlement                          161914 non-null float64\n",
      "Percent (%) of Beneficiaries Identified With Atrial Fibrillation                      161914 non-null float64\n",
      "Percent (%) of Beneficiaries Identified With Alzheimer’s Disease or Dementia          161914 non-null float64\n",
      "Percent (%) of Beneficiaries Identified With Asthma                                   161914 non-null float64\n",
      "Percent (%) of Beneficiaries Identified With Cancer                                   161914 non-null float64\n",
      "Percent (%) of Beneficiaries Identified With Heart Failure                            161914 non-null float64\n",
      "Percent (%) of Beneficiaries Identified With Chronic Kidney Disease                   161914 non-null float64\n",
      "Percent (%) of Beneficiaries Identified With Chronic Obstructive Pulmonary Disease    161914 non-null float64\n",
      "Percent (%) of Beneficiaries Identified With Depression                               161914 non-null float64\n",
      "Percent (%) of Beneficiaries Identified With Diabetes                                 161914 non-null float64\n",
      "Percent (%) of Beneficiaries Identified With Hyperlipidemia                           161914 non-null float64\n",
      "Percent (%) of Beneficiaries Identified With Hypertension                             161914 non-null float64\n",
      "Percent (%) of Beneficiaries Identified With Ischemic Heart Disease                   161914 non-null float64\n",
      "Percent (%) of Beneficiaries Identified With Osteoporosis                             161914 non-null float64\n",
      "Percent (%) of Beneficiaries Identified With Rheumatoid Arthritis / Osteoarthritis    161914 non-null float64\n",
      "Percent (%) of Beneficiaries Identified With Stroke                                   161914 non-null float64\n",
      "Average HCC Risk Score of Beneficiaries                                               161914 non-null float64\n",
      "Gender of the Provider                                                                161914 non-null float64\n",
      "cost_per_patient                                                                      161914 non-null float64\n",
      "Cardiovascular Disease (Cardiology)                                                   161914 non-null float64\n",
      "Endocrinology                                                                         161914 non-null float64\n",
      "Family Practice                                                                       161914 non-null float64\n",
      "Internal Medicine                                                                     161914 non-null float64\n",
      "Neurology                                                                             161914 non-null float64\n",
      "Nurse Practitioner                                                                    161914 non-null float64\n",
      "Ophthalmology                                                                         161914 non-null float64\n",
      "Physician Assistant                                                                   161914 non-null float64\n",
      "Psychiatry                                                                            161914 non-null float64\n",
      "Urology                                                                               161914 non-null float64\n",
      "specialty_description_vector                                                          161914 non-null float64\n",
      "dtypes: float64(63)\n",
      "memory usage: 79.1 MB\n"
     ]
    },
    {
     "data": {
      "text/plain": [
       "(114825, 63)"
      ]
     },
     "execution_count": 395,
     "metadata": {},
     "output_type": "execute_result"
    }
   ],
   "source": [
    "all_med = all_med.astype(np.float64)\n",
    "all_med = all_med.fillna(all_med.median())\n",
    "all_med.info()\n",
    "all_med = all_med[all_med['total_30_day_fill_count']>=3000]\n",
    "all_med.shape"
   ]
  },
  {
   "cell_type": "code",
   "execution_count": 396,
   "metadata": {},
   "outputs": [],
   "source": [
    "wall_med = all_med.sample(frac=0.2, replace=False, axis = 0)\n",
    "#all_med = all_med.drop(['specialty_description'], axis = 1)\n"
   ]
  },
  {
   "cell_type": "code",
   "execution_count": 397,
   "metadata": {},
   "outputs": [
    {
     "data": {
      "text/plain": [
       "(22965, 63)"
      ]
     },
     "execution_count": 397,
     "metadata": {},
     "output_type": "execute_result"
    }
   ],
   "source": [
    "wall_med.shape"
   ]
  },
  {
   "cell_type": "code",
   "execution_count": null,
   "metadata": {},
   "outputs": [],
   "source": []
  },
  {
   "cell_type": "code",
   "execution_count": 398,
   "metadata": {},
   "outputs": [],
   "source": [
    "from sklearn.ensemble import RandomForestRegressor"
   ]
  },
  {
   "cell_type": "code",
   "execution_count": 399,
   "metadata": {},
   "outputs": [],
   "source": [
    "X = wall_med.drop('total_drug_cost', axis = 1)\n",
    "y = wall_med.total_drug_cost\n"
   ]
  },
  {
   "cell_type": "code",
   "execution_count": 400,
   "metadata": {},
   "outputs": [
    {
     "ename": "KeyboardInterrupt",
     "evalue": "",
     "output_type": "error",
     "traceback": [
      "\u001b[1;31m---------------------------------------------------------------------------\u001b[0m",
      "\u001b[1;31mKeyboardInterrupt\u001b[0m                         Traceback (most recent call last)",
      "\u001b[1;32m<ipython-input-400-052b4e5503de>\u001b[0m in \u001b[0;36m<module>\u001b[1;34m\u001b[0m\n\u001b[0;32m      6\u001b[0m \u001b[0mrf\u001b[0m \u001b[1;33m=\u001b[0m \u001b[0mRandomForestRegressor\u001b[0m\u001b[1;33m(\u001b[0m\u001b[0mn_estimators\u001b[0m \u001b[1;33m=\u001b[0m \u001b[1;36m150\u001b[0m\u001b[1;33m)\u001b[0m\u001b[1;33m\u001b[0m\u001b[1;33m\u001b[0m\u001b[0m\n\u001b[0;32m      7\u001b[0m \u001b[0mclf\u001b[0m \u001b[1;33m=\u001b[0m \u001b[0mGridSearchCV\u001b[0m\u001b[1;33m(\u001b[0m\u001b[0mrf\u001b[0m\u001b[1;33m,\u001b[0m \u001b[0mparam_grid\u001b[0m \u001b[1;33m=\u001b[0m \u001b[0mparameters\u001b[0m\u001b[1;33m,\u001b[0m \u001b[0mcv\u001b[0m\u001b[1;33m=\u001b[0m\u001b[1;36m3\u001b[0m \u001b[1;33m)\u001b[0m\u001b[1;33m\u001b[0m\u001b[1;33m\u001b[0m\u001b[0m\n\u001b[1;32m----> 8\u001b[1;33m \u001b[0mclf\u001b[0m\u001b[1;33m.\u001b[0m\u001b[0mfit\u001b[0m\u001b[1;33m(\u001b[0m\u001b[0mX\u001b[0m\u001b[1;33m,\u001b[0m \u001b[0my\u001b[0m\u001b[1;33m)\u001b[0m\u001b[1;33m\u001b[0m\u001b[1;33m\u001b[0m\u001b[0m\n\u001b[0m\u001b[0;32m      9\u001b[0m \u001b[0mprint\u001b[0m\u001b[1;33m(\u001b[0m\u001b[0mclf\u001b[0m\u001b[1;33m.\u001b[0m\u001b[0mbest_params_\u001b[0m\u001b[1;33m)\u001b[0m\u001b[1;33m\u001b[0m\u001b[1;33m\u001b[0m\u001b[0m\n\u001b[0;32m     10\u001b[0m \u001b[0mb_estimator\u001b[0m \u001b[1;33m=\u001b[0m \u001b[0mclf\u001b[0m\u001b[1;33m.\u001b[0m\u001b[0mbest_estimator_\u001b[0m\u001b[1;33m\u001b[0m\u001b[1;33m\u001b[0m\u001b[0m\n",
      "\u001b[1;32m~\\Anaconda3\\lib\\site-packages\\sklearn\\model_selection\\_search.py\u001b[0m in \u001b[0;36mfit\u001b[1;34m(self, X, y, groups, **fit_params)\u001b[0m\n\u001b[0;32m    685\u001b[0m                 \u001b[1;32mreturn\u001b[0m \u001b[0mresults\u001b[0m\u001b[1;33m\u001b[0m\u001b[1;33m\u001b[0m\u001b[0m\n\u001b[0;32m    686\u001b[0m \u001b[1;33m\u001b[0m\u001b[0m\n\u001b[1;32m--> 687\u001b[1;33m             \u001b[0mself\u001b[0m\u001b[1;33m.\u001b[0m\u001b[0m_run_search\u001b[0m\u001b[1;33m(\u001b[0m\u001b[0mevaluate_candidates\u001b[0m\u001b[1;33m)\u001b[0m\u001b[1;33m\u001b[0m\u001b[1;33m\u001b[0m\u001b[0m\n\u001b[0m\u001b[0;32m    688\u001b[0m \u001b[1;33m\u001b[0m\u001b[0m\n\u001b[0;32m    689\u001b[0m         \u001b[1;31m# For multi-metric evaluation, store the best_index_, best_params_ and\u001b[0m\u001b[1;33m\u001b[0m\u001b[1;33m\u001b[0m\u001b[1;33m\u001b[0m\u001b[0m\n",
      "\u001b[1;32m~\\Anaconda3\\lib\\site-packages\\sklearn\\model_selection\\_search.py\u001b[0m in \u001b[0;36m_run_search\u001b[1;34m(self, evaluate_candidates)\u001b[0m\n\u001b[0;32m   1146\u001b[0m     \u001b[1;32mdef\u001b[0m \u001b[0m_run_search\u001b[0m\u001b[1;33m(\u001b[0m\u001b[0mself\u001b[0m\u001b[1;33m,\u001b[0m \u001b[0mevaluate_candidates\u001b[0m\u001b[1;33m)\u001b[0m\u001b[1;33m:\u001b[0m\u001b[1;33m\u001b[0m\u001b[1;33m\u001b[0m\u001b[0m\n\u001b[0;32m   1147\u001b[0m         \u001b[1;34m\"\"\"Search all candidates in param_grid\"\"\"\u001b[0m\u001b[1;33m\u001b[0m\u001b[1;33m\u001b[0m\u001b[0m\n\u001b[1;32m-> 1148\u001b[1;33m         \u001b[0mevaluate_candidates\u001b[0m\u001b[1;33m(\u001b[0m\u001b[0mParameterGrid\u001b[0m\u001b[1;33m(\u001b[0m\u001b[0mself\u001b[0m\u001b[1;33m.\u001b[0m\u001b[0mparam_grid\u001b[0m\u001b[1;33m)\u001b[0m\u001b[1;33m)\u001b[0m\u001b[1;33m\u001b[0m\u001b[1;33m\u001b[0m\u001b[0m\n\u001b[0m\u001b[0;32m   1149\u001b[0m \u001b[1;33m\u001b[0m\u001b[0m\n\u001b[0;32m   1150\u001b[0m \u001b[1;33m\u001b[0m\u001b[0m\n",
      "\u001b[1;32m~\\Anaconda3\\lib\\site-packages\\sklearn\\model_selection\\_search.py\u001b[0m in \u001b[0;36mevaluate_candidates\u001b[1;34m(candidate_params)\u001b[0m\n\u001b[0;32m    664\u001b[0m                                \u001b[1;32mfor\u001b[0m \u001b[0mparameters\u001b[0m\u001b[1;33m,\u001b[0m \u001b[1;33m(\u001b[0m\u001b[0mtrain\u001b[0m\u001b[1;33m,\u001b[0m \u001b[0mtest\u001b[0m\u001b[1;33m)\u001b[0m\u001b[1;33m\u001b[0m\u001b[1;33m\u001b[0m\u001b[0m\n\u001b[0;32m    665\u001b[0m                                in product(candidate_params,\n\u001b[1;32m--> 666\u001b[1;33m                                           cv.split(X, y, groups)))\n\u001b[0m\u001b[0;32m    667\u001b[0m \u001b[1;33m\u001b[0m\u001b[0m\n\u001b[0;32m    668\u001b[0m                 \u001b[1;32mif\u001b[0m \u001b[0mlen\u001b[0m\u001b[1;33m(\u001b[0m\u001b[0mout\u001b[0m\u001b[1;33m)\u001b[0m \u001b[1;33m<\u001b[0m \u001b[1;36m1\u001b[0m\u001b[1;33m:\u001b[0m\u001b[1;33m\u001b[0m\u001b[1;33m\u001b[0m\u001b[0m\n",
      "\u001b[1;32m~\\Anaconda3\\lib\\site-packages\\joblib\\parallel.py\u001b[0m in \u001b[0;36m__call__\u001b[1;34m(self, iterable)\u001b[0m\n\u001b[0;32m    919\u001b[0m             \u001b[1;31m# remaining jobs.\u001b[0m\u001b[1;33m\u001b[0m\u001b[1;33m\u001b[0m\u001b[1;33m\u001b[0m\u001b[0m\n\u001b[0;32m    920\u001b[0m             \u001b[0mself\u001b[0m\u001b[1;33m.\u001b[0m\u001b[0m_iterating\u001b[0m \u001b[1;33m=\u001b[0m \u001b[1;32mFalse\u001b[0m\u001b[1;33m\u001b[0m\u001b[1;33m\u001b[0m\u001b[0m\n\u001b[1;32m--> 921\u001b[1;33m             \u001b[1;32mif\u001b[0m \u001b[0mself\u001b[0m\u001b[1;33m.\u001b[0m\u001b[0mdispatch_one_batch\u001b[0m\u001b[1;33m(\u001b[0m\u001b[0miterator\u001b[0m\u001b[1;33m)\u001b[0m\u001b[1;33m:\u001b[0m\u001b[1;33m\u001b[0m\u001b[1;33m\u001b[0m\u001b[0m\n\u001b[0m\u001b[0;32m    922\u001b[0m                 \u001b[0mself\u001b[0m\u001b[1;33m.\u001b[0m\u001b[0m_iterating\u001b[0m \u001b[1;33m=\u001b[0m \u001b[0mself\u001b[0m\u001b[1;33m.\u001b[0m\u001b[0m_original_iterator\u001b[0m \u001b[1;32mis\u001b[0m \u001b[1;32mnot\u001b[0m \u001b[1;32mNone\u001b[0m\u001b[1;33m\u001b[0m\u001b[1;33m\u001b[0m\u001b[0m\n\u001b[0;32m    923\u001b[0m \u001b[1;33m\u001b[0m\u001b[0m\n",
      "\u001b[1;32m~\\Anaconda3\\lib\\site-packages\\joblib\\parallel.py\u001b[0m in \u001b[0;36mdispatch_one_batch\u001b[1;34m(self, iterator)\u001b[0m\n\u001b[0;32m    757\u001b[0m                 \u001b[1;32mreturn\u001b[0m \u001b[1;32mFalse\u001b[0m\u001b[1;33m\u001b[0m\u001b[1;33m\u001b[0m\u001b[0m\n\u001b[0;32m    758\u001b[0m             \u001b[1;32melse\u001b[0m\u001b[1;33m:\u001b[0m\u001b[1;33m\u001b[0m\u001b[1;33m\u001b[0m\u001b[0m\n\u001b[1;32m--> 759\u001b[1;33m                 \u001b[0mself\u001b[0m\u001b[1;33m.\u001b[0m\u001b[0m_dispatch\u001b[0m\u001b[1;33m(\u001b[0m\u001b[0mtasks\u001b[0m\u001b[1;33m)\u001b[0m\u001b[1;33m\u001b[0m\u001b[1;33m\u001b[0m\u001b[0m\n\u001b[0m\u001b[0;32m    760\u001b[0m                 \u001b[1;32mreturn\u001b[0m \u001b[1;32mTrue\u001b[0m\u001b[1;33m\u001b[0m\u001b[1;33m\u001b[0m\u001b[0m\n\u001b[0;32m    761\u001b[0m \u001b[1;33m\u001b[0m\u001b[0m\n",
      "\u001b[1;32m~\\Anaconda3\\lib\\site-packages\\joblib\\parallel.py\u001b[0m in \u001b[0;36m_dispatch\u001b[1;34m(self, batch)\u001b[0m\n\u001b[0;32m    714\u001b[0m         \u001b[1;32mwith\u001b[0m \u001b[0mself\u001b[0m\u001b[1;33m.\u001b[0m\u001b[0m_lock\u001b[0m\u001b[1;33m:\u001b[0m\u001b[1;33m\u001b[0m\u001b[1;33m\u001b[0m\u001b[0m\n\u001b[0;32m    715\u001b[0m             \u001b[0mjob_idx\u001b[0m \u001b[1;33m=\u001b[0m \u001b[0mlen\u001b[0m\u001b[1;33m(\u001b[0m\u001b[0mself\u001b[0m\u001b[1;33m.\u001b[0m\u001b[0m_jobs\u001b[0m\u001b[1;33m)\u001b[0m\u001b[1;33m\u001b[0m\u001b[1;33m\u001b[0m\u001b[0m\n\u001b[1;32m--> 716\u001b[1;33m             \u001b[0mjob\u001b[0m \u001b[1;33m=\u001b[0m \u001b[0mself\u001b[0m\u001b[1;33m.\u001b[0m\u001b[0m_backend\u001b[0m\u001b[1;33m.\u001b[0m\u001b[0mapply_async\u001b[0m\u001b[1;33m(\u001b[0m\u001b[0mbatch\u001b[0m\u001b[1;33m,\u001b[0m \u001b[0mcallback\u001b[0m\u001b[1;33m=\u001b[0m\u001b[0mcb\u001b[0m\u001b[1;33m)\u001b[0m\u001b[1;33m\u001b[0m\u001b[1;33m\u001b[0m\u001b[0m\n\u001b[0m\u001b[0;32m    717\u001b[0m             \u001b[1;31m# A job can complete so quickly than its callback is\u001b[0m\u001b[1;33m\u001b[0m\u001b[1;33m\u001b[0m\u001b[1;33m\u001b[0m\u001b[0m\n\u001b[0;32m    718\u001b[0m             \u001b[1;31m# called before we get here, causing self._jobs to\u001b[0m\u001b[1;33m\u001b[0m\u001b[1;33m\u001b[0m\u001b[1;33m\u001b[0m\u001b[0m\n",
      "\u001b[1;32m~\\Anaconda3\\lib\\site-packages\\joblib\\_parallel_backends.py\u001b[0m in \u001b[0;36mapply_async\u001b[1;34m(self, func, callback)\u001b[0m\n\u001b[0;32m    180\u001b[0m     \u001b[1;32mdef\u001b[0m \u001b[0mapply_async\u001b[0m\u001b[1;33m(\u001b[0m\u001b[0mself\u001b[0m\u001b[1;33m,\u001b[0m \u001b[0mfunc\u001b[0m\u001b[1;33m,\u001b[0m \u001b[0mcallback\u001b[0m\u001b[1;33m=\u001b[0m\u001b[1;32mNone\u001b[0m\u001b[1;33m)\u001b[0m\u001b[1;33m:\u001b[0m\u001b[1;33m\u001b[0m\u001b[1;33m\u001b[0m\u001b[0m\n\u001b[0;32m    181\u001b[0m         \u001b[1;34m\"\"\"Schedule a func to be run\"\"\"\u001b[0m\u001b[1;33m\u001b[0m\u001b[1;33m\u001b[0m\u001b[0m\n\u001b[1;32m--> 182\u001b[1;33m         \u001b[0mresult\u001b[0m \u001b[1;33m=\u001b[0m \u001b[0mImmediateResult\u001b[0m\u001b[1;33m(\u001b[0m\u001b[0mfunc\u001b[0m\u001b[1;33m)\u001b[0m\u001b[1;33m\u001b[0m\u001b[1;33m\u001b[0m\u001b[0m\n\u001b[0m\u001b[0;32m    183\u001b[0m         \u001b[1;32mif\u001b[0m \u001b[0mcallback\u001b[0m\u001b[1;33m:\u001b[0m\u001b[1;33m\u001b[0m\u001b[1;33m\u001b[0m\u001b[0m\n\u001b[0;32m    184\u001b[0m             \u001b[0mcallback\u001b[0m\u001b[1;33m(\u001b[0m\u001b[0mresult\u001b[0m\u001b[1;33m)\u001b[0m\u001b[1;33m\u001b[0m\u001b[1;33m\u001b[0m\u001b[0m\n",
      "\u001b[1;32m~\\Anaconda3\\lib\\site-packages\\joblib\\_parallel_backends.py\u001b[0m in \u001b[0;36m__init__\u001b[1;34m(self, batch)\u001b[0m\n\u001b[0;32m    547\u001b[0m         \u001b[1;31m# Don't delay the application, to avoid keeping the input\u001b[0m\u001b[1;33m\u001b[0m\u001b[1;33m\u001b[0m\u001b[1;33m\u001b[0m\u001b[0m\n\u001b[0;32m    548\u001b[0m         \u001b[1;31m# arguments in memory\u001b[0m\u001b[1;33m\u001b[0m\u001b[1;33m\u001b[0m\u001b[1;33m\u001b[0m\u001b[0m\n\u001b[1;32m--> 549\u001b[1;33m         \u001b[0mself\u001b[0m\u001b[1;33m.\u001b[0m\u001b[0mresults\u001b[0m \u001b[1;33m=\u001b[0m \u001b[0mbatch\u001b[0m\u001b[1;33m(\u001b[0m\u001b[1;33m)\u001b[0m\u001b[1;33m\u001b[0m\u001b[1;33m\u001b[0m\u001b[0m\n\u001b[0m\u001b[0;32m    550\u001b[0m \u001b[1;33m\u001b[0m\u001b[0m\n\u001b[0;32m    551\u001b[0m     \u001b[1;32mdef\u001b[0m \u001b[0mget\u001b[0m\u001b[1;33m(\u001b[0m\u001b[0mself\u001b[0m\u001b[1;33m)\u001b[0m\u001b[1;33m:\u001b[0m\u001b[1;33m\u001b[0m\u001b[1;33m\u001b[0m\u001b[0m\n",
      "\u001b[1;32m~\\Anaconda3\\lib\\site-packages\\joblib\\parallel.py\u001b[0m in \u001b[0;36m__call__\u001b[1;34m(self)\u001b[0m\n\u001b[0;32m    223\u001b[0m         \u001b[1;32mwith\u001b[0m \u001b[0mparallel_backend\u001b[0m\u001b[1;33m(\u001b[0m\u001b[0mself\u001b[0m\u001b[1;33m.\u001b[0m\u001b[0m_backend\u001b[0m\u001b[1;33m,\u001b[0m \u001b[0mn_jobs\u001b[0m\u001b[1;33m=\u001b[0m\u001b[0mself\u001b[0m\u001b[1;33m.\u001b[0m\u001b[0m_n_jobs\u001b[0m\u001b[1;33m)\u001b[0m\u001b[1;33m:\u001b[0m\u001b[1;33m\u001b[0m\u001b[1;33m\u001b[0m\u001b[0m\n\u001b[0;32m    224\u001b[0m             return [func(*args, **kwargs)\n\u001b[1;32m--> 225\u001b[1;33m                     for func, args, kwargs in self.items]\n\u001b[0m\u001b[0;32m    226\u001b[0m \u001b[1;33m\u001b[0m\u001b[0m\n\u001b[0;32m    227\u001b[0m     \u001b[1;32mdef\u001b[0m \u001b[0m__len__\u001b[0m\u001b[1;33m(\u001b[0m\u001b[0mself\u001b[0m\u001b[1;33m)\u001b[0m\u001b[1;33m:\u001b[0m\u001b[1;33m\u001b[0m\u001b[1;33m\u001b[0m\u001b[0m\n",
      "\u001b[1;32m~\\Anaconda3\\lib\\site-packages\\joblib\\parallel.py\u001b[0m in \u001b[0;36m<listcomp>\u001b[1;34m(.0)\u001b[0m\n\u001b[0;32m    223\u001b[0m         \u001b[1;32mwith\u001b[0m \u001b[0mparallel_backend\u001b[0m\u001b[1;33m(\u001b[0m\u001b[0mself\u001b[0m\u001b[1;33m.\u001b[0m\u001b[0m_backend\u001b[0m\u001b[1;33m,\u001b[0m \u001b[0mn_jobs\u001b[0m\u001b[1;33m=\u001b[0m\u001b[0mself\u001b[0m\u001b[1;33m.\u001b[0m\u001b[0m_n_jobs\u001b[0m\u001b[1;33m)\u001b[0m\u001b[1;33m:\u001b[0m\u001b[1;33m\u001b[0m\u001b[1;33m\u001b[0m\u001b[0m\n\u001b[0;32m    224\u001b[0m             return [func(*args, **kwargs)\n\u001b[1;32m--> 225\u001b[1;33m                     for func, args, kwargs in self.items]\n\u001b[0m\u001b[0;32m    226\u001b[0m \u001b[1;33m\u001b[0m\u001b[0m\n\u001b[0;32m    227\u001b[0m     \u001b[1;32mdef\u001b[0m \u001b[0m__len__\u001b[0m\u001b[1;33m(\u001b[0m\u001b[0mself\u001b[0m\u001b[1;33m)\u001b[0m\u001b[1;33m:\u001b[0m\u001b[1;33m\u001b[0m\u001b[1;33m\u001b[0m\u001b[0m\n",
      "\u001b[1;32m~\\Anaconda3\\lib\\site-packages\\sklearn\\model_selection\\_validation.py\u001b[0m in \u001b[0;36m_fit_and_score\u001b[1;34m(estimator, X, y, scorer, train, test, verbose, parameters, fit_params, return_train_score, return_parameters, return_n_test_samples, return_times, return_estimator, error_score)\u001b[0m\n\u001b[0;32m    512\u001b[0m             \u001b[0mestimator\u001b[0m\u001b[1;33m.\u001b[0m\u001b[0mfit\u001b[0m\u001b[1;33m(\u001b[0m\u001b[0mX_train\u001b[0m\u001b[1;33m,\u001b[0m \u001b[1;33m**\u001b[0m\u001b[0mfit_params\u001b[0m\u001b[1;33m)\u001b[0m\u001b[1;33m\u001b[0m\u001b[1;33m\u001b[0m\u001b[0m\n\u001b[0;32m    513\u001b[0m         \u001b[1;32melse\u001b[0m\u001b[1;33m:\u001b[0m\u001b[1;33m\u001b[0m\u001b[1;33m\u001b[0m\u001b[0m\n\u001b[1;32m--> 514\u001b[1;33m             \u001b[0mestimator\u001b[0m\u001b[1;33m.\u001b[0m\u001b[0mfit\u001b[0m\u001b[1;33m(\u001b[0m\u001b[0mX_train\u001b[0m\u001b[1;33m,\u001b[0m \u001b[0my_train\u001b[0m\u001b[1;33m,\u001b[0m \u001b[1;33m**\u001b[0m\u001b[0mfit_params\u001b[0m\u001b[1;33m)\u001b[0m\u001b[1;33m\u001b[0m\u001b[1;33m\u001b[0m\u001b[0m\n\u001b[0m\u001b[0;32m    515\u001b[0m \u001b[1;33m\u001b[0m\u001b[0m\n\u001b[0;32m    516\u001b[0m     \u001b[1;32mexcept\u001b[0m \u001b[0mException\u001b[0m \u001b[1;32mas\u001b[0m \u001b[0me\u001b[0m\u001b[1;33m:\u001b[0m\u001b[1;33m\u001b[0m\u001b[1;33m\u001b[0m\u001b[0m\n",
      "\u001b[1;32m~\\Anaconda3\\lib\\site-packages\\sklearn\\ensemble\\forest.py\u001b[0m in \u001b[0;36mfit\u001b[1;34m(self, X, y, sample_weight)\u001b[0m\n\u001b[0;32m    328\u001b[0m                     \u001b[0mt\u001b[0m\u001b[1;33m,\u001b[0m \u001b[0mself\u001b[0m\u001b[1;33m,\u001b[0m \u001b[0mX\u001b[0m\u001b[1;33m,\u001b[0m \u001b[0my\u001b[0m\u001b[1;33m,\u001b[0m \u001b[0msample_weight\u001b[0m\u001b[1;33m,\u001b[0m \u001b[0mi\u001b[0m\u001b[1;33m,\u001b[0m \u001b[0mlen\u001b[0m\u001b[1;33m(\u001b[0m\u001b[0mtrees\u001b[0m\u001b[1;33m)\u001b[0m\u001b[1;33m,\u001b[0m\u001b[1;33m\u001b[0m\u001b[1;33m\u001b[0m\u001b[0m\n\u001b[0;32m    329\u001b[0m                     verbose=self.verbose, class_weight=self.class_weight)\n\u001b[1;32m--> 330\u001b[1;33m                 for i, t in enumerate(trees))\n\u001b[0m\u001b[0;32m    331\u001b[0m \u001b[1;33m\u001b[0m\u001b[0m\n\u001b[0;32m    332\u001b[0m             \u001b[1;31m# Collect newly grown trees\u001b[0m\u001b[1;33m\u001b[0m\u001b[1;33m\u001b[0m\u001b[1;33m\u001b[0m\u001b[0m\n",
      "\u001b[1;32m~\\Anaconda3\\lib\\site-packages\\joblib\\parallel.py\u001b[0m in \u001b[0;36m__call__\u001b[1;34m(self, iterable)\u001b[0m\n\u001b[0;32m    922\u001b[0m                 \u001b[0mself\u001b[0m\u001b[1;33m.\u001b[0m\u001b[0m_iterating\u001b[0m \u001b[1;33m=\u001b[0m \u001b[0mself\u001b[0m\u001b[1;33m.\u001b[0m\u001b[0m_original_iterator\u001b[0m \u001b[1;32mis\u001b[0m \u001b[1;32mnot\u001b[0m \u001b[1;32mNone\u001b[0m\u001b[1;33m\u001b[0m\u001b[1;33m\u001b[0m\u001b[0m\n\u001b[0;32m    923\u001b[0m \u001b[1;33m\u001b[0m\u001b[0m\n\u001b[1;32m--> 924\u001b[1;33m             \u001b[1;32mwhile\u001b[0m \u001b[0mself\u001b[0m\u001b[1;33m.\u001b[0m\u001b[0mdispatch_one_batch\u001b[0m\u001b[1;33m(\u001b[0m\u001b[0miterator\u001b[0m\u001b[1;33m)\u001b[0m\u001b[1;33m:\u001b[0m\u001b[1;33m\u001b[0m\u001b[1;33m\u001b[0m\u001b[0m\n\u001b[0m\u001b[0;32m    925\u001b[0m                 \u001b[1;32mpass\u001b[0m\u001b[1;33m\u001b[0m\u001b[1;33m\u001b[0m\u001b[0m\n\u001b[0;32m    926\u001b[0m \u001b[1;33m\u001b[0m\u001b[0m\n",
      "\u001b[1;32m~\\Anaconda3\\lib\\site-packages\\joblib\\parallel.py\u001b[0m in \u001b[0;36mdispatch_one_batch\u001b[1;34m(self, iterator)\u001b[0m\n\u001b[0;32m    757\u001b[0m                 \u001b[1;32mreturn\u001b[0m \u001b[1;32mFalse\u001b[0m\u001b[1;33m\u001b[0m\u001b[1;33m\u001b[0m\u001b[0m\n\u001b[0;32m    758\u001b[0m             \u001b[1;32melse\u001b[0m\u001b[1;33m:\u001b[0m\u001b[1;33m\u001b[0m\u001b[1;33m\u001b[0m\u001b[0m\n\u001b[1;32m--> 759\u001b[1;33m                 \u001b[0mself\u001b[0m\u001b[1;33m.\u001b[0m\u001b[0m_dispatch\u001b[0m\u001b[1;33m(\u001b[0m\u001b[0mtasks\u001b[0m\u001b[1;33m)\u001b[0m\u001b[1;33m\u001b[0m\u001b[1;33m\u001b[0m\u001b[0m\n\u001b[0m\u001b[0;32m    760\u001b[0m                 \u001b[1;32mreturn\u001b[0m \u001b[1;32mTrue\u001b[0m\u001b[1;33m\u001b[0m\u001b[1;33m\u001b[0m\u001b[0m\n\u001b[0;32m    761\u001b[0m \u001b[1;33m\u001b[0m\u001b[0m\n",
      "\u001b[1;32m~\\Anaconda3\\lib\\site-packages\\joblib\\parallel.py\u001b[0m in \u001b[0;36m_dispatch\u001b[1;34m(self, batch)\u001b[0m\n\u001b[0;32m    714\u001b[0m         \u001b[1;32mwith\u001b[0m \u001b[0mself\u001b[0m\u001b[1;33m.\u001b[0m\u001b[0m_lock\u001b[0m\u001b[1;33m:\u001b[0m\u001b[1;33m\u001b[0m\u001b[1;33m\u001b[0m\u001b[0m\n\u001b[0;32m    715\u001b[0m             \u001b[0mjob_idx\u001b[0m \u001b[1;33m=\u001b[0m \u001b[0mlen\u001b[0m\u001b[1;33m(\u001b[0m\u001b[0mself\u001b[0m\u001b[1;33m.\u001b[0m\u001b[0m_jobs\u001b[0m\u001b[1;33m)\u001b[0m\u001b[1;33m\u001b[0m\u001b[1;33m\u001b[0m\u001b[0m\n\u001b[1;32m--> 716\u001b[1;33m             \u001b[0mjob\u001b[0m \u001b[1;33m=\u001b[0m \u001b[0mself\u001b[0m\u001b[1;33m.\u001b[0m\u001b[0m_backend\u001b[0m\u001b[1;33m.\u001b[0m\u001b[0mapply_async\u001b[0m\u001b[1;33m(\u001b[0m\u001b[0mbatch\u001b[0m\u001b[1;33m,\u001b[0m \u001b[0mcallback\u001b[0m\u001b[1;33m=\u001b[0m\u001b[0mcb\u001b[0m\u001b[1;33m)\u001b[0m\u001b[1;33m\u001b[0m\u001b[1;33m\u001b[0m\u001b[0m\n\u001b[0m\u001b[0;32m    717\u001b[0m             \u001b[1;31m# A job can complete so quickly than its callback is\u001b[0m\u001b[1;33m\u001b[0m\u001b[1;33m\u001b[0m\u001b[1;33m\u001b[0m\u001b[0m\n\u001b[0;32m    718\u001b[0m             \u001b[1;31m# called before we get here, causing self._jobs to\u001b[0m\u001b[1;33m\u001b[0m\u001b[1;33m\u001b[0m\u001b[1;33m\u001b[0m\u001b[0m\n",
      "\u001b[1;32m~\\Anaconda3\\lib\\site-packages\\joblib\\_parallel_backends.py\u001b[0m in \u001b[0;36mapply_async\u001b[1;34m(self, func, callback)\u001b[0m\n\u001b[0;32m    180\u001b[0m     \u001b[1;32mdef\u001b[0m \u001b[0mapply_async\u001b[0m\u001b[1;33m(\u001b[0m\u001b[0mself\u001b[0m\u001b[1;33m,\u001b[0m \u001b[0mfunc\u001b[0m\u001b[1;33m,\u001b[0m \u001b[0mcallback\u001b[0m\u001b[1;33m=\u001b[0m\u001b[1;32mNone\u001b[0m\u001b[1;33m)\u001b[0m\u001b[1;33m:\u001b[0m\u001b[1;33m\u001b[0m\u001b[1;33m\u001b[0m\u001b[0m\n\u001b[0;32m    181\u001b[0m         \u001b[1;34m\"\"\"Schedule a func to be run\"\"\"\u001b[0m\u001b[1;33m\u001b[0m\u001b[1;33m\u001b[0m\u001b[0m\n\u001b[1;32m--> 182\u001b[1;33m         \u001b[0mresult\u001b[0m \u001b[1;33m=\u001b[0m \u001b[0mImmediateResult\u001b[0m\u001b[1;33m(\u001b[0m\u001b[0mfunc\u001b[0m\u001b[1;33m)\u001b[0m\u001b[1;33m\u001b[0m\u001b[1;33m\u001b[0m\u001b[0m\n\u001b[0m\u001b[0;32m    183\u001b[0m         \u001b[1;32mif\u001b[0m \u001b[0mcallback\u001b[0m\u001b[1;33m:\u001b[0m\u001b[1;33m\u001b[0m\u001b[1;33m\u001b[0m\u001b[0m\n\u001b[0;32m    184\u001b[0m             \u001b[0mcallback\u001b[0m\u001b[1;33m(\u001b[0m\u001b[0mresult\u001b[0m\u001b[1;33m)\u001b[0m\u001b[1;33m\u001b[0m\u001b[1;33m\u001b[0m\u001b[0m\n",
      "\u001b[1;32m~\\Anaconda3\\lib\\site-packages\\joblib\\_parallel_backends.py\u001b[0m in \u001b[0;36m__init__\u001b[1;34m(self, batch)\u001b[0m\n\u001b[0;32m    547\u001b[0m         \u001b[1;31m# Don't delay the application, to avoid keeping the input\u001b[0m\u001b[1;33m\u001b[0m\u001b[1;33m\u001b[0m\u001b[1;33m\u001b[0m\u001b[0m\n\u001b[0;32m    548\u001b[0m         \u001b[1;31m# arguments in memory\u001b[0m\u001b[1;33m\u001b[0m\u001b[1;33m\u001b[0m\u001b[1;33m\u001b[0m\u001b[0m\n\u001b[1;32m--> 549\u001b[1;33m         \u001b[0mself\u001b[0m\u001b[1;33m.\u001b[0m\u001b[0mresults\u001b[0m \u001b[1;33m=\u001b[0m \u001b[0mbatch\u001b[0m\u001b[1;33m(\u001b[0m\u001b[1;33m)\u001b[0m\u001b[1;33m\u001b[0m\u001b[1;33m\u001b[0m\u001b[0m\n\u001b[0m\u001b[0;32m    550\u001b[0m \u001b[1;33m\u001b[0m\u001b[0m\n\u001b[0;32m    551\u001b[0m     \u001b[1;32mdef\u001b[0m \u001b[0mget\u001b[0m\u001b[1;33m(\u001b[0m\u001b[0mself\u001b[0m\u001b[1;33m)\u001b[0m\u001b[1;33m:\u001b[0m\u001b[1;33m\u001b[0m\u001b[1;33m\u001b[0m\u001b[0m\n",
      "\u001b[1;32m~\\Anaconda3\\lib\\site-packages\\joblib\\parallel.py\u001b[0m in \u001b[0;36m__call__\u001b[1;34m(self)\u001b[0m\n\u001b[0;32m    223\u001b[0m         \u001b[1;32mwith\u001b[0m \u001b[0mparallel_backend\u001b[0m\u001b[1;33m(\u001b[0m\u001b[0mself\u001b[0m\u001b[1;33m.\u001b[0m\u001b[0m_backend\u001b[0m\u001b[1;33m,\u001b[0m \u001b[0mn_jobs\u001b[0m\u001b[1;33m=\u001b[0m\u001b[0mself\u001b[0m\u001b[1;33m.\u001b[0m\u001b[0m_n_jobs\u001b[0m\u001b[1;33m)\u001b[0m\u001b[1;33m:\u001b[0m\u001b[1;33m\u001b[0m\u001b[1;33m\u001b[0m\u001b[0m\n\u001b[0;32m    224\u001b[0m             return [func(*args, **kwargs)\n\u001b[1;32m--> 225\u001b[1;33m                     for func, args, kwargs in self.items]\n\u001b[0m\u001b[0;32m    226\u001b[0m \u001b[1;33m\u001b[0m\u001b[0m\n\u001b[0;32m    227\u001b[0m     \u001b[1;32mdef\u001b[0m \u001b[0m__len__\u001b[0m\u001b[1;33m(\u001b[0m\u001b[0mself\u001b[0m\u001b[1;33m)\u001b[0m\u001b[1;33m:\u001b[0m\u001b[1;33m\u001b[0m\u001b[1;33m\u001b[0m\u001b[0m\n",
      "\u001b[1;32m~\\Anaconda3\\lib\\site-packages\\joblib\\parallel.py\u001b[0m in \u001b[0;36m<listcomp>\u001b[1;34m(.0)\u001b[0m\n\u001b[0;32m    223\u001b[0m         \u001b[1;32mwith\u001b[0m \u001b[0mparallel_backend\u001b[0m\u001b[1;33m(\u001b[0m\u001b[0mself\u001b[0m\u001b[1;33m.\u001b[0m\u001b[0m_backend\u001b[0m\u001b[1;33m,\u001b[0m \u001b[0mn_jobs\u001b[0m\u001b[1;33m=\u001b[0m\u001b[0mself\u001b[0m\u001b[1;33m.\u001b[0m\u001b[0m_n_jobs\u001b[0m\u001b[1;33m)\u001b[0m\u001b[1;33m:\u001b[0m\u001b[1;33m\u001b[0m\u001b[1;33m\u001b[0m\u001b[0m\n\u001b[0;32m    224\u001b[0m             return [func(*args, **kwargs)\n\u001b[1;32m--> 225\u001b[1;33m                     for func, args, kwargs in self.items]\n\u001b[0m\u001b[0;32m    226\u001b[0m \u001b[1;33m\u001b[0m\u001b[0m\n\u001b[0;32m    227\u001b[0m     \u001b[1;32mdef\u001b[0m \u001b[0m__len__\u001b[0m\u001b[1;33m(\u001b[0m\u001b[0mself\u001b[0m\u001b[1;33m)\u001b[0m\u001b[1;33m:\u001b[0m\u001b[1;33m\u001b[0m\u001b[1;33m\u001b[0m\u001b[0m\n",
      "\u001b[1;32m~\\Anaconda3\\lib\\site-packages\\sklearn\\ensemble\\forest.py\u001b[0m in \u001b[0;36m_parallel_build_trees\u001b[1;34m(tree, forest, X, y, sample_weight, tree_idx, n_trees, verbose, class_weight)\u001b[0m\n\u001b[0;32m    116\u001b[0m             \u001b[0mcurr_sample_weight\u001b[0m \u001b[1;33m*=\u001b[0m \u001b[0mcompute_sample_weight\u001b[0m\u001b[1;33m(\u001b[0m\u001b[1;34m'balanced'\u001b[0m\u001b[1;33m,\u001b[0m \u001b[0my\u001b[0m\u001b[1;33m,\u001b[0m \u001b[0mindices\u001b[0m\u001b[1;33m)\u001b[0m\u001b[1;33m\u001b[0m\u001b[1;33m\u001b[0m\u001b[0m\n\u001b[0;32m    117\u001b[0m \u001b[1;33m\u001b[0m\u001b[0m\n\u001b[1;32m--> 118\u001b[1;33m         \u001b[0mtree\u001b[0m\u001b[1;33m.\u001b[0m\u001b[0mfit\u001b[0m\u001b[1;33m(\u001b[0m\u001b[0mX\u001b[0m\u001b[1;33m,\u001b[0m \u001b[0my\u001b[0m\u001b[1;33m,\u001b[0m \u001b[0msample_weight\u001b[0m\u001b[1;33m=\u001b[0m\u001b[0mcurr_sample_weight\u001b[0m\u001b[1;33m,\u001b[0m \u001b[0mcheck_input\u001b[0m\u001b[1;33m=\u001b[0m\u001b[1;32mFalse\u001b[0m\u001b[1;33m)\u001b[0m\u001b[1;33m\u001b[0m\u001b[1;33m\u001b[0m\u001b[0m\n\u001b[0m\u001b[0;32m    119\u001b[0m     \u001b[1;32melse\u001b[0m\u001b[1;33m:\u001b[0m\u001b[1;33m\u001b[0m\u001b[1;33m\u001b[0m\u001b[0m\n\u001b[0;32m    120\u001b[0m         \u001b[0mtree\u001b[0m\u001b[1;33m.\u001b[0m\u001b[0mfit\u001b[0m\u001b[1;33m(\u001b[0m\u001b[0mX\u001b[0m\u001b[1;33m,\u001b[0m \u001b[0my\u001b[0m\u001b[1;33m,\u001b[0m \u001b[0msample_weight\u001b[0m\u001b[1;33m=\u001b[0m\u001b[0msample_weight\u001b[0m\u001b[1;33m,\u001b[0m \u001b[0mcheck_input\u001b[0m\u001b[1;33m=\u001b[0m\u001b[1;32mFalse\u001b[0m\u001b[1;33m)\u001b[0m\u001b[1;33m\u001b[0m\u001b[1;33m\u001b[0m\u001b[0m\n",
      "\u001b[1;32m~\\Anaconda3\\lib\\site-packages\\sklearn\\tree\\tree.py\u001b[0m in \u001b[0;36mfit\u001b[1;34m(self, X, y, sample_weight, check_input, X_idx_sorted)\u001b[0m\n\u001b[0;32m   1155\u001b[0m             \u001b[0msample_weight\u001b[0m\u001b[1;33m=\u001b[0m\u001b[0msample_weight\u001b[0m\u001b[1;33m,\u001b[0m\u001b[1;33m\u001b[0m\u001b[1;33m\u001b[0m\u001b[0m\n\u001b[0;32m   1156\u001b[0m             \u001b[0mcheck_input\u001b[0m\u001b[1;33m=\u001b[0m\u001b[0mcheck_input\u001b[0m\u001b[1;33m,\u001b[0m\u001b[1;33m\u001b[0m\u001b[1;33m\u001b[0m\u001b[0m\n\u001b[1;32m-> 1157\u001b[1;33m             X_idx_sorted=X_idx_sorted)\n\u001b[0m\u001b[0;32m   1158\u001b[0m         \u001b[1;32mreturn\u001b[0m \u001b[0mself\u001b[0m\u001b[1;33m\u001b[0m\u001b[1;33m\u001b[0m\u001b[0m\n\u001b[0;32m   1159\u001b[0m \u001b[1;33m\u001b[0m\u001b[0m\n",
      "\u001b[1;32m~\\Anaconda3\\lib\\site-packages\\sklearn\\tree\\tree.py\u001b[0m in \u001b[0;36mfit\u001b[1;34m(self, X, y, sample_weight, check_input, X_idx_sorted)\u001b[0m\n\u001b[0;32m    378\u001b[0m                                            min_impurity_split)\n\u001b[0;32m    379\u001b[0m \u001b[1;33m\u001b[0m\u001b[0m\n\u001b[1;32m--> 380\u001b[1;33m         \u001b[0mbuilder\u001b[0m\u001b[1;33m.\u001b[0m\u001b[0mbuild\u001b[0m\u001b[1;33m(\u001b[0m\u001b[0mself\u001b[0m\u001b[1;33m.\u001b[0m\u001b[0mtree_\u001b[0m\u001b[1;33m,\u001b[0m \u001b[0mX\u001b[0m\u001b[1;33m,\u001b[0m \u001b[0my\u001b[0m\u001b[1;33m,\u001b[0m \u001b[0msample_weight\u001b[0m\u001b[1;33m,\u001b[0m \u001b[0mX_idx_sorted\u001b[0m\u001b[1;33m)\u001b[0m\u001b[1;33m\u001b[0m\u001b[1;33m\u001b[0m\u001b[0m\n\u001b[0m\u001b[0;32m    381\u001b[0m \u001b[1;33m\u001b[0m\u001b[0m\n\u001b[0;32m    382\u001b[0m         \u001b[1;32mif\u001b[0m \u001b[0mself\u001b[0m\u001b[1;33m.\u001b[0m\u001b[0mn_outputs_\u001b[0m \u001b[1;33m==\u001b[0m \u001b[1;36m1\u001b[0m\u001b[1;33m:\u001b[0m\u001b[1;33m\u001b[0m\u001b[1;33m\u001b[0m\u001b[0m\n",
      "\u001b[1;31mKeyboardInterrupt\u001b[0m: "
     ]
    }
   ],
   "source": [
    "max_features = [30, 32]\n",
    "max_depth = [25, 27] \n",
    "\n",
    "parameters = {'max_depth': max_depth, 'max_features' : max_features}\n",
    "\n",
    "rf = RandomForestRegressor(n_estimators = 150)\n",
    "clf = GridSearchCV(rf, param_grid = parameters, cv=3 )\n",
    "clf.fit(X, y)\n",
    "print(clf.best_params_)\n",
    "b_estimator = clf.best_estimator_\n",
    "print(b_estimator)"
   ]
  },
  {
   "cell_type": "code",
   "execution_count": 401,
   "metadata": {
    "scrolled": true
   },
   "outputs": [],
   "source": [
    "X = all_med.drop('total_drug_cost', axis = 1)\n",
    "X = X_initial.drop('National Provider Identifier', axis = 1)\n",
    "y = all_med.total_drug_cost\n",
    "X_train, X_test, y_train, y_test = train_test_split(X, y, test_size = .20)\n"
   ]
  },
  {
   "cell_type": "code",
   "execution_count": 411,
   "metadata": {},
   "outputs": [
    {
     "data": {
      "text/html": [
       "<div>\n",
       "<style scoped>\n",
       "    .dataframe tbody tr th:only-of-type {\n",
       "        vertical-align: middle;\n",
       "    }\n",
       "\n",
       "    .dataframe tbody tr th {\n",
       "        vertical-align: top;\n",
       "    }\n",
       "\n",
       "    .dataframe thead th {\n",
       "        text-align: right;\n",
       "    }\n",
       "</style>\n",
       "<table border=\"1\" class=\"dataframe\">\n",
       "  <thead>\n",
       "    <tr style=\"text-align: right;\">\n",
       "      <th></th>\n",
       "      <th>level_0</th>\n",
       "      <th>index</th>\n",
       "      <th>original_index</th>\n",
       "      <th>total_30_day_fill_count</th>\n",
       "      <th>Number of HCPCS</th>\n",
       "      <th>Number of Services</th>\n",
       "      <th>Number of Medicare Beneficiaries</th>\n",
       "      <th>Total Submitted Charge Amount</th>\n",
       "      <th>Total Medicare Allowed Amount</th>\n",
       "      <th>Total Medicare Payment Amount</th>\n",
       "      <th>...</th>\n",
       "      <th>Endocrinology</th>\n",
       "      <th>Family Practice</th>\n",
       "      <th>Internal Medicine</th>\n",
       "      <th>Neurology</th>\n",
       "      <th>Nurse Practitioner</th>\n",
       "      <th>Ophthalmology</th>\n",
       "      <th>Physician Assistant</th>\n",
       "      <th>Psychiatry</th>\n",
       "      <th>Urology</th>\n",
       "      <th>specialty_description_vector</th>\n",
       "    </tr>\n",
       "  </thead>\n",
       "  <tbody>\n",
       "    <tr>\n",
       "      <th>2914</th>\n",
       "      <td>2914</td>\n",
       "      <td>2914</td>\n",
       "      <td>15012</td>\n",
       "      <td>8243.3</td>\n",
       "      <td>21.0</td>\n",
       "      <td>906.0</td>\n",
       "      <td>297.0</td>\n",
       "      <td>262925.00</td>\n",
       "      <td>83561.11</td>\n",
       "      <td>61231.37</td>\n",
       "      <td>...</td>\n",
       "      <td>0.0</td>\n",
       "      <td>0.0</td>\n",
       "      <td>1.0</td>\n",
       "      <td>0.0</td>\n",
       "      <td>0.0</td>\n",
       "      <td>0.0</td>\n",
       "      <td>0.0</td>\n",
       "      <td>0.0</td>\n",
       "      <td>0.0</td>\n",
       "      <td>268416.0</td>\n",
       "    </tr>\n",
       "    <tr>\n",
       "      <th>41561</th>\n",
       "      <td>41561</td>\n",
       "      <td>41561</td>\n",
       "      <td>225230</td>\n",
       "      <td>25824.1</td>\n",
       "      <td>92.0</td>\n",
       "      <td>10813.0</td>\n",
       "      <td>931.0</td>\n",
       "      <td>1206663.00</td>\n",
       "      <td>458733.56</td>\n",
       "      <td>334901.73</td>\n",
       "      <td>...</td>\n",
       "      <td>0.0</td>\n",
       "      <td>0.0</td>\n",
       "      <td>1.0</td>\n",
       "      <td>0.0</td>\n",
       "      <td>0.0</td>\n",
       "      <td>0.0</td>\n",
       "      <td>0.0</td>\n",
       "      <td>0.0</td>\n",
       "      <td>0.0</td>\n",
       "      <td>268416.0</td>\n",
       "    </tr>\n",
       "    <tr>\n",
       "      <th>47172</th>\n",
       "      <td>47172</td>\n",
       "      <td>47172</td>\n",
       "      <td>255879</td>\n",
       "      <td>8819.2</td>\n",
       "      <td>10.0</td>\n",
       "      <td>1214.0</td>\n",
       "      <td>621.0</td>\n",
       "      <td>228614.00</td>\n",
       "      <td>154149.89</td>\n",
       "      <td>105207.01</td>\n",
       "      <td>...</td>\n",
       "      <td>1.0</td>\n",
       "      <td>0.0</td>\n",
       "      <td>0.0</td>\n",
       "      <td>0.0</td>\n",
       "      <td>0.0</td>\n",
       "      <td>0.0</td>\n",
       "      <td>0.0</td>\n",
       "      <td>0.0</td>\n",
       "      <td>0.0</td>\n",
       "      <td>696709.0</td>\n",
       "    </tr>\n",
       "    <tr>\n",
       "      <th>4443</th>\n",
       "      <td>4443</td>\n",
       "      <td>4443</td>\n",
       "      <td>23441</td>\n",
       "      <td>8523.7</td>\n",
       "      <td>8.0</td>\n",
       "      <td>123.0</td>\n",
       "      <td>76.0</td>\n",
       "      <td>11669.31</td>\n",
       "      <td>6409.84</td>\n",
       "      <td>4981.61</td>\n",
       "      <td>...</td>\n",
       "      <td>0.0</td>\n",
       "      <td>0.0</td>\n",
       "      <td>0.0</td>\n",
       "      <td>0.0</td>\n",
       "      <td>1.0</td>\n",
       "      <td>0.0</td>\n",
       "      <td>0.0</td>\n",
       "      <td>0.0</td>\n",
       "      <td>0.0</td>\n",
       "      <td>100600.0</td>\n",
       "    </tr>\n",
       "    <tr>\n",
       "      <th>42240</th>\n",
       "      <td>42240</td>\n",
       "      <td>42240</td>\n",
       "      <td>228608</td>\n",
       "      <td>3933.5</td>\n",
       "      <td>59.0</td>\n",
       "      <td>875.0</td>\n",
       "      <td>149.0</td>\n",
       "      <td>96728.00</td>\n",
       "      <td>34577.86</td>\n",
       "      <td>23400.33</td>\n",
       "      <td>...</td>\n",
       "      <td>0.0</td>\n",
       "      <td>0.0</td>\n",
       "      <td>1.0</td>\n",
       "      <td>0.0</td>\n",
       "      <td>0.0</td>\n",
       "      <td>0.0</td>\n",
       "      <td>0.0</td>\n",
       "      <td>0.0</td>\n",
       "      <td>0.0</td>\n",
       "      <td>268416.0</td>\n",
       "    </tr>\n",
       "  </tbody>\n",
       "</table>\n",
       "<p>5 rows × 64 columns</p>\n",
       "</div>"
      ],
      "text/plain": [
       "       level_0  index  original_index  total_30_day_fill_count  \\\n",
       "2914      2914   2914           15012                   8243.3   \n",
       "41561    41561  41561          225230                  25824.1   \n",
       "47172    47172  47172          255879                   8819.2   \n",
       "4443      4443   4443           23441                   8523.7   \n",
       "42240    42240  42240          228608                   3933.5   \n",
       "\n",
       "       Number of HCPCS  Number of Services  Number of Medicare Beneficiaries  \\\n",
       "2914              21.0               906.0                             297.0   \n",
       "41561             92.0             10813.0                             931.0   \n",
       "47172             10.0              1214.0                             621.0   \n",
       "4443               8.0               123.0                              76.0   \n",
       "42240             59.0               875.0                             149.0   \n",
       "\n",
       "       Total Submitted Charge Amount  Total Medicare Allowed Amount  \\\n",
       "2914                       262925.00                       83561.11   \n",
       "41561                     1206663.00                      458733.56   \n",
       "47172                      228614.00                      154149.89   \n",
       "4443                        11669.31                        6409.84   \n",
       "42240                       96728.00                       34577.86   \n",
       "\n",
       "       Total Medicare Payment Amount  ...  Endocrinology  Family Practice  \\\n",
       "2914                        61231.37  ...            0.0              0.0   \n",
       "41561                      334901.73  ...            0.0              0.0   \n",
       "47172                      105207.01  ...            1.0              0.0   \n",
       "4443                         4981.61  ...            0.0              0.0   \n",
       "42240                       23400.33  ...            0.0              0.0   \n",
       "\n",
       "       Internal Medicine  Neurology  Nurse Practitioner  Ophthalmology  \\\n",
       "2914                 1.0        0.0                 0.0            0.0   \n",
       "41561                1.0        0.0                 0.0            0.0   \n",
       "47172                0.0        0.0                 0.0            0.0   \n",
       "4443                 0.0        0.0                 1.0            0.0   \n",
       "42240                1.0        0.0                 0.0            0.0   \n",
       "\n",
       "       Physician Assistant  Psychiatry  Urology  specialty_description_vector  \n",
       "2914                   0.0         0.0      0.0                      268416.0  \n",
       "41561                  0.0         0.0      0.0                      268416.0  \n",
       "47172                  0.0         0.0      0.0                      696709.0  \n",
       "4443                   0.0         0.0      0.0                      100600.0  \n",
       "42240                  0.0         0.0      0.0                      268416.0  \n",
       "\n",
       "[5 rows x 64 columns]"
      ]
     },
     "execution_count": 411,
     "metadata": {},
     "output_type": "execute_result"
    }
   ],
   "source": [
    "rf1 = RandomForestRegressor( n_estimators = 400, max_features = 30, max_depth = 25)\n",
    "X_test.head()"
   ]
  },
  {
   "cell_type": "code",
   "execution_count": null,
   "metadata": {},
   "outputs": [],
   "source": [
    "rf1.fit(X_train, y_train)\n",
    "rf1_y_pred = rf.predict(X_test)\n",
    "rf1_SCORE = rf.score(X_test, y_test)\n",
    "print(rf1_SCORE)"
   ]
  },
  {
   "cell_type": "code",
   "execution_count": 402,
   "metadata": {
    "scrolled": true
   },
   "outputs": [
    {
     "data": {
      "text/html": [
       "<div>\n",
       "<style scoped>\n",
       "    .dataframe tbody tr th:only-of-type {\n",
       "        vertical-align: middle;\n",
       "    }\n",
       "\n",
       "    .dataframe tbody tr th {\n",
       "        vertical-align: top;\n",
       "    }\n",
       "\n",
       "    .dataframe thead th {\n",
       "        text-align: right;\n",
       "    }\n",
       "</style>\n",
       "<table border=\"1\" class=\"dataframe\">\n",
       "  <thead>\n",
       "    <tr style=\"text-align: right;\">\n",
       "      <th></th>\n",
       "      <th>level_0</th>\n",
       "      <th>index</th>\n",
       "      <th>original_index</th>\n",
       "      <th>total_30_day_fill_count</th>\n",
       "      <th>Number of HCPCS</th>\n",
       "      <th>Number of Services</th>\n",
       "      <th>Number of Medicare Beneficiaries</th>\n",
       "      <th>Total Submitted Charge Amount</th>\n",
       "      <th>Total Medicare Allowed Amount</th>\n",
       "      <th>Total Medicare Payment Amount</th>\n",
       "      <th>...</th>\n",
       "      <th>Endocrinology</th>\n",
       "      <th>Family Practice</th>\n",
       "      <th>Internal Medicine</th>\n",
       "      <th>Neurology</th>\n",
       "      <th>Nurse Practitioner</th>\n",
       "      <th>Ophthalmology</th>\n",
       "      <th>Physician Assistant</th>\n",
       "      <th>Psychiatry</th>\n",
       "      <th>Urology</th>\n",
       "      <th>specialty_description_vector</th>\n",
       "    </tr>\n",
       "  </thead>\n",
       "  <tbody>\n",
       "    <tr>\n",
       "      <th>2914</th>\n",
       "      <td>2914</td>\n",
       "      <td>2914</td>\n",
       "      <td>15012</td>\n",
       "      <td>8243.3</td>\n",
       "      <td>21.0</td>\n",
       "      <td>906.0</td>\n",
       "      <td>297.0</td>\n",
       "      <td>262925.00</td>\n",
       "      <td>83561.11</td>\n",
       "      <td>61231.37</td>\n",
       "      <td>...</td>\n",
       "      <td>0.0</td>\n",
       "      <td>0.0</td>\n",
       "      <td>1.0</td>\n",
       "      <td>0.0</td>\n",
       "      <td>0.0</td>\n",
       "      <td>0.0</td>\n",
       "      <td>0.0</td>\n",
       "      <td>0.0</td>\n",
       "      <td>0.0</td>\n",
       "      <td>268416.0</td>\n",
       "    </tr>\n",
       "    <tr>\n",
       "      <th>41561</th>\n",
       "      <td>41561</td>\n",
       "      <td>41561</td>\n",
       "      <td>225230</td>\n",
       "      <td>25824.1</td>\n",
       "      <td>92.0</td>\n",
       "      <td>10813.0</td>\n",
       "      <td>931.0</td>\n",
       "      <td>1206663.00</td>\n",
       "      <td>458733.56</td>\n",
       "      <td>334901.73</td>\n",
       "      <td>...</td>\n",
       "      <td>0.0</td>\n",
       "      <td>0.0</td>\n",
       "      <td>1.0</td>\n",
       "      <td>0.0</td>\n",
       "      <td>0.0</td>\n",
       "      <td>0.0</td>\n",
       "      <td>0.0</td>\n",
       "      <td>0.0</td>\n",
       "      <td>0.0</td>\n",
       "      <td>268416.0</td>\n",
       "    </tr>\n",
       "    <tr>\n",
       "      <th>47172</th>\n",
       "      <td>47172</td>\n",
       "      <td>47172</td>\n",
       "      <td>255879</td>\n",
       "      <td>8819.2</td>\n",
       "      <td>10.0</td>\n",
       "      <td>1214.0</td>\n",
       "      <td>621.0</td>\n",
       "      <td>228614.00</td>\n",
       "      <td>154149.89</td>\n",
       "      <td>105207.01</td>\n",
       "      <td>...</td>\n",
       "      <td>1.0</td>\n",
       "      <td>0.0</td>\n",
       "      <td>0.0</td>\n",
       "      <td>0.0</td>\n",
       "      <td>0.0</td>\n",
       "      <td>0.0</td>\n",
       "      <td>0.0</td>\n",
       "      <td>0.0</td>\n",
       "      <td>0.0</td>\n",
       "      <td>696709.0</td>\n",
       "    </tr>\n",
       "    <tr>\n",
       "      <th>4443</th>\n",
       "      <td>4443</td>\n",
       "      <td>4443</td>\n",
       "      <td>23441</td>\n",
       "      <td>8523.7</td>\n",
       "      <td>8.0</td>\n",
       "      <td>123.0</td>\n",
       "      <td>76.0</td>\n",
       "      <td>11669.31</td>\n",
       "      <td>6409.84</td>\n",
       "      <td>4981.61</td>\n",
       "      <td>...</td>\n",
       "      <td>0.0</td>\n",
       "      <td>0.0</td>\n",
       "      <td>0.0</td>\n",
       "      <td>0.0</td>\n",
       "      <td>1.0</td>\n",
       "      <td>0.0</td>\n",
       "      <td>0.0</td>\n",
       "      <td>0.0</td>\n",
       "      <td>0.0</td>\n",
       "      <td>100600.0</td>\n",
       "    </tr>\n",
       "    <tr>\n",
       "      <th>42240</th>\n",
       "      <td>42240</td>\n",
       "      <td>42240</td>\n",
       "      <td>228608</td>\n",
       "      <td>3933.5</td>\n",
       "      <td>59.0</td>\n",
       "      <td>875.0</td>\n",
       "      <td>149.0</td>\n",
       "      <td>96728.00</td>\n",
       "      <td>34577.86</td>\n",
       "      <td>23400.33</td>\n",
       "      <td>...</td>\n",
       "      <td>0.0</td>\n",
       "      <td>0.0</td>\n",
       "      <td>1.0</td>\n",
       "      <td>0.0</td>\n",
       "      <td>0.0</td>\n",
       "      <td>0.0</td>\n",
       "      <td>0.0</td>\n",
       "      <td>0.0</td>\n",
       "      <td>0.0</td>\n",
       "      <td>268416.0</td>\n",
       "    </tr>\n",
       "  </tbody>\n",
       "</table>\n",
       "<p>5 rows × 64 columns</p>\n",
       "</div>"
      ],
      "text/plain": [
       "       level_0  index  original_index  total_30_day_fill_count  \\\n",
       "2914      2914   2914           15012                   8243.3   \n",
       "41561    41561  41561          225230                  25824.1   \n",
       "47172    47172  47172          255879                   8819.2   \n",
       "4443      4443   4443           23441                   8523.7   \n",
       "42240    42240  42240          228608                   3933.5   \n",
       "\n",
       "       Number of HCPCS  Number of Services  Number of Medicare Beneficiaries  \\\n",
       "2914              21.0               906.0                             297.0   \n",
       "41561             92.0             10813.0                             931.0   \n",
       "47172             10.0              1214.0                             621.0   \n",
       "4443               8.0               123.0                              76.0   \n",
       "42240             59.0               875.0                             149.0   \n",
       "\n",
       "       Total Submitted Charge Amount  Total Medicare Allowed Amount  \\\n",
       "2914                       262925.00                       83561.11   \n",
       "41561                     1206663.00                      458733.56   \n",
       "47172                      228614.00                      154149.89   \n",
       "4443                        11669.31                        6409.84   \n",
       "42240                       96728.00                       34577.86   \n",
       "\n",
       "       Total Medicare Payment Amount  ...  Endocrinology  Family Practice  \\\n",
       "2914                        61231.37  ...            0.0              0.0   \n",
       "41561                      334901.73  ...            0.0              0.0   \n",
       "47172                      105207.01  ...            1.0              0.0   \n",
       "4443                         4981.61  ...            0.0              0.0   \n",
       "42240                       23400.33  ...            0.0              0.0   \n",
       "\n",
       "       Internal Medicine  Neurology  Nurse Practitioner  Ophthalmology  \\\n",
       "2914                 1.0        0.0                 0.0            0.0   \n",
       "41561                1.0        0.0                 0.0            0.0   \n",
       "47172                0.0        0.0                 0.0            0.0   \n",
       "4443                 0.0        0.0                 1.0            0.0   \n",
       "42240                1.0        0.0                 0.0            0.0   \n",
       "\n",
       "       Physician Assistant  Psychiatry  Urology  specialty_description_vector  \n",
       "2914                   0.0         0.0      0.0                      268416.0  \n",
       "41561                  0.0         0.0      0.0                      268416.0  \n",
       "47172                  0.0         0.0      0.0                      696709.0  \n",
       "4443                   0.0         0.0      0.0                      100600.0  \n",
       "42240                  0.0         0.0      0.0                      268416.0  \n",
       "\n",
       "[5 rows x 64 columns]"
      ]
     },
     "execution_count": 402,
     "metadata": {},
     "output_type": "execute_result"
    }
   ],
   "source": [
    "rf = RandomForestRegressor( n_estimators = 200, max_features = 30, max_depth = 25)\n",
    "X_test.head()"
   ]
  },
  {
   "cell_type": "code",
   "execution_count": 403,
   "metadata": {
    "scrolled": true
   },
   "outputs": [
    {
     "name": "stdout",
     "output_type": "stream",
     "text": [
      "0.6480155783077288\n"
     ]
    }
   ],
   "source": [
    "rf.fit(X_train, y_train)\n",
    "rf_y_pred = rf.predict(X_test)\n",
    "rf_SCORE = rf.score(X_test, y_test)\n",
    "print(rf_SCORE)"
   ]
  },
  {
   "cell_type": "code",
   "execution_count": 404,
   "metadata": {},
   "outputs": [
    {
     "data": {
      "text/plain": [
       "15012      430927.18\n",
       "225230    2523376.63\n",
       "255879     692735.23\n",
       "23441      480729.09\n",
       "228608     162186.62\n",
       "Name: total_drug_cost, dtype: float64"
      ]
     },
     "execution_count": 404,
     "metadata": {},
     "output_type": "execute_result"
    }
   ],
   "source": [
    "y_test.head()"
   ]
  },
  {
   "cell_type": "code",
   "execution_count": 405,
   "metadata": {
    "scrolled": true
   },
   "outputs": [
    {
     "name": "stdout",
     "output_type": "stream",
     "text": [
      "[ 314281.54104075 1165538.70348395  898087.6092625  ...  549792.80992059\n",
      "   89652.98133035  533696.14051854]\n"
     ]
    }
   ],
   "source": [
    "print(rf_y_pred)"
   ]
  },
  {
   "cell_type": "code",
   "execution_count": 406,
   "metadata": {},
   "outputs": [
    {
     "name": "stdout",
     "output_type": "stream",
     "text": [
      "(22965,)\n"
     ]
    },
    {
     "data": {
      "text/plain": [
       "tuple"
      ]
     },
     "execution_count": 406,
     "metadata": {},
     "output_type": "execute_result"
    }
   ],
   "source": [
    "print(y_test.shape)\n",
    "type(rf_y_pred.shape)"
   ]
  },
  {
   "cell_type": "code",
   "execution_count": 407,
   "metadata": {},
   "outputs": [
    {
     "name": "stdout",
     "output_type": "stream",
     "text": [
      "dif15012    -1.166456e+05\n",
      "225230   -1.357838e+06\n",
      "255879    2.053524e+05\n",
      "23441     6.291833e+04\n",
      "228608   -5.995526e+04\n",
      "372115   -2.109581e+04\n",
      "12764     5.354554e+04\n",
      "51905     5.829571e+04\n",
      "297057   -8.443653e+04\n",
      "468059   -2.048697e+04\n",
      "125440   -1.332914e+05\n",
      "233229    1.188530e+04\n",
      "171693    4.892929e+04\n",
      "237411    8.416252e+04\n",
      "287790   -1.201820e+04\n",
      "51295    -5.332415e+03\n",
      "74390     5.362273e+04\n",
      "154831    3.493116e+05\n",
      "251651    1.307448e+05\n",
      "530946    2.157670e+04\n",
      "14111    -5.698248e+04\n",
      "408090    5.988832e+04\n",
      "416940   -8.908649e+03\n",
      "257600    9.886096e+04\n",
      "146699   -5.316728e+04\n",
      "359509    7.686235e+04\n",
      "573284    5.602267e+04\n",
      "399775   -1.766860e+04\n",
      "162608    8.345595e+04\n",
      "8091     -2.680778e+04\n",
      "              ...     \n",
      "449061   -1.216400e+04\n",
      "15252    -8.514460e+02\n",
      "432526    3.356592e+04\n",
      "88125    -7.764563e+03\n",
      "233545    4.512062e+04\n",
      "476807   -5.216671e+04\n",
      "455402    5.098219e+04\n",
      "478331    4.129271e+04\n",
      "618793    1.251052e+05\n",
      "502284    1.064932e+05\n",
      "305085   -9.180383e+04\n",
      "260131    2.474502e+05\n",
      "187652    3.410632e+04\n",
      "303179    1.736550e+05\n",
      "312286    3.966299e+04\n",
      "214248    2.689650e+04\n",
      "351506   -9.163446e+04\n",
      "95755     3.161990e+05\n",
      "140834    3.184326e+04\n",
      "163397   -4.088655e+06\n",
      "411776    4.479435e+04\n",
      "314077   -5.034903e+04\n",
      "426779   -7.519286e+04\n",
      "2988      2.541728e+04\n",
      "569973    3.266736e+03\n",
      "405578    2.305251e+04\n",
      "585459    6.589890e+03\n",
      "379158    1.255969e+04\n",
      "123493    4.962846e+04\n",
      "381830    1.629268e+05\n",
      "Name: total_drug_cost, Length: 22965, dtype: float64\n"
     ]
    }
   ],
   "source": [
    "print(f'dif{rf_y_pred - y_test}')"
   ]
  },
  {
   "cell_type": "code",
   "execution_count": 408,
   "metadata": {},
   "outputs": [
    {
     "data": {
      "text/plain": [
       "15012     1\n",
       "225230    1\n",
       "255879    1\n",
       "23441     1\n",
       "228608    1\n",
       "372115    1\n",
       "12764     1\n",
       "51905     1\n",
       "297057    1\n",
       "468059    1\n",
       "125440    1\n",
       "233229    1\n",
       "171693    1\n",
       "237411    1\n",
       "287790    1\n",
       "51295     1\n",
       "74390     1\n",
       "154831    1\n",
       "251651    1\n",
       "530946    1\n",
       "14111     1\n",
       "408090    1\n",
       "416940    1\n",
       "257600    1\n",
       "146699    1\n",
       "359509    1\n",
       "573284    1\n",
       "399775    1\n",
       "162608    1\n",
       "8091      1\n",
       "         ..\n",
       "449061    1\n",
       "15252     1\n",
       "432526    1\n",
       "88125     1\n",
       "233545    1\n",
       "476807    1\n",
       "455402    1\n",
       "478331    1\n",
       "618793    1\n",
       "502284    1\n",
       "305085    1\n",
       "260131    1\n",
       "187652    1\n",
       "303179    1\n",
       "312286    1\n",
       "214248    1\n",
       "351506    1\n",
       "95755     1\n",
       "140834    1\n",
       "163397    1\n",
       "411776    1\n",
       "314077    1\n",
       "426779    1\n",
       "2988      1\n",
       "569973    1\n",
       "405578    1\n",
       "585459    1\n",
       "379158    1\n",
       "123493    1\n",
       "381830    1\n",
       "Name: total_drug_cost, Length: 22965, dtype: int32"
      ]
     },
     "execution_count": 408,
     "metadata": {},
     "output_type": "execute_result"
    }
   ],
   "source": [
    "from collections import Counter\n",
    "cnt = Counter()\n",
    "percent_dif = (rf_y_pred - y_test)/y_test\n",
    "percent_dif\n",
    "perc= (percent_dif < index).astype('int')\n",
    "perc\n",
    "#under_20_percent_dif = (percent_dif < .20).astype('int')\n",
    "#print(under_20_percent_dif)"
   ]
  },
  {
   "cell_type": "code",
   "execution_count": 409,
   "metadata": {},
   "outputs": [
    {
     "name": "stdout",
     "output_type": "stream",
     "text": [
      " Under 100 percent:1    21826\n",
      "0     1139\n",
      "Name: total_drug_cost, dtype: int64\n",
      "{-20: 0.0, -19.98: 0.0, -19.96: 0.0, -19.94: 0.0, -19.92: 0.0, -19.900000000000002: 0.0, -19.880000000000003: 0.0, -19.860000000000003: 0.0, -19.840000000000003: 0.0, -19.820000000000004: 0.0, -19.800000000000004: 0.0, -19.780000000000005: 0.0, -19.760000000000005: 0.0, -19.740000000000006: 0.0, -19.720000000000006: 0.0, -19.700000000000006: 0.0, -19.680000000000007: 0.0, -19.660000000000007: 0.0, -19.640000000000008: 0.0, -19.620000000000008: 0.0, -19.60000000000001: 0.0, -19.58000000000001: 0.0, -19.56000000000001: 0.0, -19.54000000000001: 0.0, -19.52000000000001: 0.0, -19.50000000000001: 0.0, -19.48000000000001: 0.0, -19.46000000000001: 0.0, -19.440000000000012: 0.0, -19.420000000000012: 0.0, -19.400000000000013: 0.0, -19.380000000000013: 0.0, -19.360000000000014: 0.0, -19.340000000000014: 0.0, -19.320000000000014: 0.0, -19.300000000000015: 0.0, -19.280000000000015: 0.0, -19.260000000000016: 0.0, -19.240000000000016: 0.0, -19.220000000000017: 0.0, -19.200000000000017: 0.0, -19.180000000000017: 0.0, -19.160000000000018: 0.0, -19.14000000000002: 0.0, -19.12000000000002: 0.0, -19.10000000000002: 0.0, -19.08000000000002: 0.0, -19.06000000000002: 0.0, -19.04000000000002: 0.0, -19.02000000000002: 0.0, -19.00000000000002: 0.0, -18.98000000000002: 0.0, -18.960000000000022: 0.0, -18.940000000000023: 0.0, -18.920000000000023: 0.0, -18.900000000000023: 0.0, -18.880000000000024: 0.0, -18.860000000000024: 0.0, -18.840000000000025: 0.0, -18.820000000000025: 0.0, -18.800000000000026: 0.0, -18.780000000000026: 0.0, -18.760000000000026: 0.0, -18.740000000000027: 0.0, -18.720000000000027: 0.0, -18.700000000000028: 0.0, -18.680000000000028: 0.0, -18.66000000000003: 0.0, -18.64000000000003: 0.0, -18.62000000000003: 0.0, -18.60000000000003: 0.0, -18.58000000000003: 0.0, -18.56000000000003: 0.0, -18.54000000000003: 0.0, -18.52000000000003: 0.0, -18.500000000000032: 0.0, -18.480000000000032: 0.0, -18.460000000000033: 0.0, -18.440000000000033: 0.0, -18.420000000000034: 0.0, -18.400000000000034: 0.0, -18.380000000000035: 0.0, -18.360000000000035: 0.0, -18.340000000000035: 0.0, -18.320000000000036: 0.0, -18.300000000000036: 0.0, -18.280000000000037: 0.0, -18.260000000000037: 0.0, -18.240000000000038: 0.0, -18.220000000000038: 0.0, -18.20000000000004: 0.0, -18.18000000000004: 0.0, -18.16000000000004: 0.0, -18.14000000000004: 0.0, -18.12000000000004: 0.0, -18.10000000000004: 0.0, -18.08000000000004: 0.0, -18.06000000000004: 0.0, -18.040000000000042: 0.0, -18.020000000000042: 0.0}\n"
     ]
    },
    {
     "data": {
      "text/html": [
       "<div>\n",
       "<style scoped>\n",
       "    .dataframe tbody tr th:only-of-type {\n",
       "        vertical-align: middle;\n",
       "    }\n",
       "\n",
       "    .dataframe tbody tr th {\n",
       "        vertical-align: top;\n",
       "    }\n",
       "\n",
       "    .dataframe thead th {\n",
       "        text-align: right;\n",
       "    }\n",
       "</style>\n",
       "<table border=\"1\" class=\"dataframe\">\n",
       "  <thead>\n",
       "    <tr style=\"text-align: right;\">\n",
       "      <th></th>\n",
       "      <th>peak_percentage</th>\n",
       "      <th>percentage of physicians below given peak</th>\n",
       "    </tr>\n",
       "  </thead>\n",
       "  <tbody>\n",
       "    <tr>\n",
       "      <th>0</th>\n",
       "      <td>-20.00</td>\n",
       "      <td>0.0</td>\n",
       "    </tr>\n",
       "    <tr>\n",
       "      <th>1</th>\n",
       "      <td>-19.98</td>\n",
       "      <td>0.0</td>\n",
       "    </tr>\n",
       "    <tr>\n",
       "      <th>2</th>\n",
       "      <td>-19.96</td>\n",
       "      <td>0.0</td>\n",
       "    </tr>\n",
       "    <tr>\n",
       "      <th>3</th>\n",
       "      <td>-19.94</td>\n",
       "      <td>0.0</td>\n",
       "    </tr>\n",
       "    <tr>\n",
       "      <th>4</th>\n",
       "      <td>-19.92</td>\n",
       "      <td>0.0</td>\n",
       "    </tr>\n",
       "  </tbody>\n",
       "</table>\n",
       "</div>"
      ],
      "text/plain": [
       "   peak_percentage  percentage of physicians below given peak\n",
       "0           -20.00                                        0.0\n",
       "1           -19.98                                        0.0\n",
       "2           -19.96                                        0.0\n",
       "3           -19.94                                        0.0\n",
       "4           -19.92                                        0.0"
      ]
     },
     "execution_count": 409,
     "metadata": {},
     "output_type": "execute_result"
    }
   ],
   "source": [
    "from collections import Counter\n",
    "cnt = Counter()\n",
    "\n",
    "percent_dif = (rf_y_pred - y_test)/y_test\n",
    "\n",
    "under_100_percent_dif = (percent_dif < 1).astype('int')\n",
    "print(f' Under 100 percent:{under_100_percent_dif.value_counts()}')\n",
    "\n",
    "index = -20\n",
    "dict_perc = {}\n",
    "for percent in range(100):\n",
    "    cnt[0] = 0\n",
    "    cnt[1] = 0\n",
    "    perc =  (percent_dif < index).astype('int')\n",
    "    for num in perc:\n",
    "        cnt[num] += 1\n",
    "    #print(cnt[1])\n",
    "    #print(cnt[0])\n",
    "    value = cnt[1]/(cnt[1]+cnt[0])\n",
    "   \n",
    "#value = round(value)\n",
    "    dict_perc[index] = value\n",
    "    index +=.02\n",
    "print(dict_perc)\n",
    "#print(dict_perc)\n",
    "Prescription_plot = pd.DataFrame.from_dict(dict_perc, orient = 'index')\n",
    "Prescription_plot = Prescription_plot.reset_index()\n",
    "Prescription_plot.columns = ['peak_percentage','percentage of physicians below given peak']\n",
    "Prescription_plot.head()   \n",
    "\n",
    "    "
   ]
  },
  {
   "cell_type": "code",
   "execution_count": 371,
   "metadata": {},
   "outputs": [
    {
     "data": {
      "image/png": "[encoded data removed]",
      "text/plain": [
       "<Figure size 576x576 with 1 Axes>"
      ]
     },
     "metadata": {},
     "output_type": "display_data"
    }
   ],
   "source": [
    "import seaborn as sns\n",
    "\n",
    "sns.lmplot(x = 'peak_percentage', y ='percentage of physicians within range below peak', data = Prescription_plot, fit_reg = False,  aspect=1, height=8)\n",
    "\n",
    "plt.title('Doctors by percent difference from prediction')\n",
    "plt.savefig('doctors by percent difference from prediction.png')"
   ]
  },
  {
   "cell_type": "markdown",
   "metadata": {},
   "source": [
    "\n",
    "under_20_percent = .627\n",
    "under_40_percent = .781\n",
    "Under_50_percent = .832\n",
    "Under_75_percent = .911\n",
    "under_100_percent = .948\n",
    "Under_150_percent = .979\n",
    "under_200_percent = .989\n",
    "under_250_percent = .999"
   ]
  },
  {
   "cell_type": "code",
   "execution_count": 335,
   "metadata": {
    "scrolled": true
   },
   "outputs": [
    {
     "name": "stdout",
     "output_type": "stream",
     "text": [
      " Under 20 percent:1    14451\n",
      "0     8514\n",
      "Name: total_drug_cost, dtype: int64\n",
      " Under 40 percent above:1    18155\n",
      "0     4810\n",
      "Name: total_drug_cost, dtype: int64\n",
      " Under 60 percent above:1    20114\n",
      "0     2851\n",
      "Name: total_drug_cost, dtype: int64\n",
      " Under 80 percent:1    21241\n",
      "0     1724\n",
      "Name: total_drug_cost, dtype: int64\n",
      " Under 100 percent:1    21845\n",
      "0     1120\n",
      "Name: total_drug_cost, dtype: int64\n",
      " Under 150 percent:0    22494\n",
      "1      471\n",
      "Name: total_drug_cost, dtype: int64\n",
      " Under 200 percent:0    22723\n",
      "1      242\n",
      "Name: total_drug_cost, dtype: int64\n",
      " Under 250 percent:0    22932\n",
      "1       33\n",
      "Name: total_drug_cost, dtype: int64\n"
     ]
    }
   ],
   "source": [
    "percent_dif = (rf_y_pred - y_test)/y_test\n",
    "percent_dif\n",
    "under_20_percent_dif = (percent_dif < .20).astype('int')\n",
    "print(f' Under 20 percent:{under_20_percent_dif.value_counts()}')\n",
    "under_40_percent_dif= (percent_dif < .4).astype('int')\n",
    "print(f' Under 40 percent above:{under_40_percent_dif.value_counts()}')\n",
    "under_60_percent_dif = (percent_dif < .60).astype('int')\n",
    "print(f' Under 60 percent above:{under_60_percent_dif.value_counts()}')\n",
    "under_80_percent_dif = (percent_dif < .8).astype('int')\n",
    "print(f' Under 80 percent:{under_80_percent_dif.value_counts()}')\n",
    "under_100_percent_dif = (percent_dif < 1).astype('int')\n",
    "print(f' Under 100 percent:{under_100_percent_dif.value_counts()}')\n",
    "under_150_percent_dif = (percent_dif > 1.5).astype('int')\n",
    "print(f' Under 150 percent:{under_150_percent_dif.value_counts()}')\n",
    "under_200_percent_dif = (percent_dif > 2).astype('int')\n",
    "print(f' Under 200 percent:{under_200_percent_dif.value_counts()}')\n",
    "under_500_percent_dif = (percent_dif > 5).astype('int')\n",
    "print(f' Under 250 percent:{under_500_percent_dif.value_counts()}')\n",
    "\n",
    "#acc = accuracy_score(y_test, under_20_percent_dif)\n"
   ]
  },
  {
   "cell_type": "code",
   "execution_count": 336,
   "metadata": {
    "scrolled": true
   },
   "outputs": [
    {
     "name": "stdout",
     "output_type": "stream",
     "text": [
      "<class 'pandas.core.frame.DataFrame'>\n",
      "<class 'pandas.core.frame.DataFrame'>\n",
      "(22965, 1)\n"
     ]
    },
    {
     "data": {
      "text/plain": [
       "(22965, 1)"
      ]
     },
     "execution_count": 336,
     "metadata": {},
     "output_type": "execute_result"
    }
   ],
   "source": [
    "all_med_2 = all_med\n",
    "rf_y_pred = pd.DataFrame(rf_y_pred)\n",
    "y_test_df = pd.DataFrame(y_test)\n",
    "print(type(rf_y_pred))\n",
    "print(type(y_test_df))\n",
    "print(y_test_df.shape)\n",
    "rf_y_pred.shape"
   ]
  },
  {
   "cell_type": "code",
   "execution_count": 337,
   "metadata": {},
   "outputs": [],
   "source": [
    "#df_and_pred = X_initial.merge(y_results, axis =1)\n",
    "#High_df = df_and_pred[(df_and_pred[percent_dif] => 1.5)]\n",
    "#Low_df = df_and_pred[(df_and_pred[percent_dif] <= 1.5)]"
   ]
  },
  {
   "cell_type": "raw",
   "metadata": {},
   "source": []
  },
  {
   "cell_type": "code",
   "execution_count": 338,
   "metadata": {},
   "outputs": [],
   "source": [
    "rf_y_pred.head()\n",
    "rf_y_pred.index.name = 'index1'\n",
    "rf_y_pred.head()\n",
    "y_test_df = y_test_df.reset_index()\n",
    "y_test_df = y_test_df.astype('float64')"
   ]
  },
  {
   "cell_type": "code",
   "execution_count": 339,
   "metadata": {},
   "outputs": [
    {
     "data": {
      "text/html": [
       "<div>\n",
       "<style scoped>\n",
       "    .dataframe tbody tr th:only-of-type {\n",
       "        vertical-align: middle;\n",
       "    }\n",
       "\n",
       "    .dataframe tbody tr th {\n",
       "        vertical-align: top;\n",
       "    }\n",
       "\n",
       "    .dataframe thead th {\n",
       "        text-align: right;\n",
       "    }\n",
       "</style>\n",
       "<table border=\"1\" class=\"dataframe\">\n",
       "  <thead>\n",
       "    <tr style=\"text-align: right;\">\n",
       "      <th></th>\n",
       "      <th>index</th>\n",
       "      <th>total_drug_cost</th>\n",
       "    </tr>\n",
       "  </thead>\n",
       "  <tbody>\n",
       "    <tr>\n",
       "      <th>0</th>\n",
       "      <td>329639.0</td>\n",
       "      <td>579283.42</td>\n",
       "    </tr>\n",
       "    <tr>\n",
       "      <th>1</th>\n",
       "      <td>236912.0</td>\n",
       "      <td>60610.80</td>\n",
       "    </tr>\n",
       "    <tr>\n",
       "      <th>2</th>\n",
       "      <td>537406.0</td>\n",
       "      <td>700035.81</td>\n",
       "    </tr>\n",
       "    <tr>\n",
       "      <th>3</th>\n",
       "      <td>525601.0</td>\n",
       "      <td>581810.73</td>\n",
       "    </tr>\n",
       "    <tr>\n",
       "      <th>4</th>\n",
       "      <td>207619.0</td>\n",
       "      <td>418179.69</td>\n",
       "    </tr>\n",
       "  </tbody>\n",
       "</table>\n",
       "</div>"
      ],
      "text/plain": [
       "      index  total_drug_cost\n",
       "0  329639.0        579283.42\n",
       "1  236912.0         60610.80\n",
       "2  537406.0        700035.81\n",
       "3  525601.0        581810.73\n",
       "4  207619.0        418179.69"
      ]
     },
     "execution_count": 339,
     "metadata": {},
     "output_type": "execute_result"
    }
   ],
   "source": [
    "y_test_df.head()"
   ]
  },
  {
   "cell_type": "raw",
   "metadata": {},
   "source": [
    "type(rf_y_pred)\n"
   ]
  },
  {
   "cell_type": "code",
   "execution_count": 340,
   "metadata": {},
   "outputs": [
    {
     "data": {
      "text/html": [
       "<div>\n",
       "<style scoped>\n",
       "    .dataframe tbody tr th:only-of-type {\n",
       "        vertical-align: middle;\n",
       "    }\n",
       "\n",
       "    .dataframe tbody tr th {\n",
       "        vertical-align: top;\n",
       "    }\n",
       "\n",
       "    .dataframe thead th {\n",
       "        text-align: right;\n",
       "    }\n",
       "</style>\n",
       "<table border=\"1\" class=\"dataframe\">\n",
       "  <thead>\n",
       "    <tr style=\"text-align: right;\">\n",
       "      <th></th>\n",
       "      <th>0</th>\n",
       "    </tr>\n",
       "    <tr>\n",
       "      <th>index1</th>\n",
       "      <th></th>\n",
       "    </tr>\n",
       "  </thead>\n",
       "  <tbody>\n",
       "    <tr>\n",
       "      <th>0</th>\n",
       "      <td>392158.403977</td>\n",
       "    </tr>\n",
       "    <tr>\n",
       "      <th>1</th>\n",
       "      <td>112007.689418</td>\n",
       "    </tr>\n",
       "    <tr>\n",
       "      <th>2</th>\n",
       "      <td>546094.842430</td>\n",
       "    </tr>\n",
       "    <tr>\n",
       "      <th>3</th>\n",
       "      <td>572770.492469</td>\n",
       "    </tr>\n",
       "    <tr>\n",
       "      <th>4</th>\n",
       "      <td>337784.398701</td>\n",
       "    </tr>\n",
       "  </tbody>\n",
       "</table>\n",
       "</div>"
      ],
      "text/plain": [
       "                    0\n",
       "index1               \n",
       "0       392158.403977\n",
       "1       112007.689418\n",
       "2       546094.842430\n",
       "3       572770.492469\n",
       "4       337784.398701"
      ]
     },
     "execution_count": 340,
     "metadata": {},
     "output_type": "execute_result"
    }
   ],
   "source": [
    "type(rf_y_pred)\n",
    "rf_y_pred.head()"
   ]
  },
  {
   "cell_type": "code",
   "execution_count": 341,
   "metadata": {},
   "outputs": [],
   "source": [
    "#y_test_df = y_test_df.reset_index()\n",
    "y_test_df.columns = ['original_index', 'total_drug_cost']\n",
    "y_test_df.index.name = 'index1'\n"
   ]
  },
  {
   "cell_type": "code",
   "execution_count": 342,
   "metadata": {},
   "outputs": [
    {
     "data": {
      "text/html": [
       "<div>\n",
       "<style scoped>\n",
       "    .dataframe tbody tr th:only-of-type {\n",
       "        vertical-align: middle;\n",
       "    }\n",
       "\n",
       "    .dataframe tbody tr th {\n",
       "        vertical-align: top;\n",
       "    }\n",
       "\n",
       "    .dataframe thead th {\n",
       "        text-align: right;\n",
       "    }\n",
       "</style>\n",
       "<table border=\"1\" class=\"dataframe\">\n",
       "  <thead>\n",
       "    <tr style=\"text-align: right;\">\n",
       "      <th></th>\n",
       "      <th>original_index</th>\n",
       "      <th>total_drug_cost</th>\n",
       "      <th>predicted_drug_cost</th>\n",
       "    </tr>\n",
       "    <tr>\n",
       "      <th>index1</th>\n",
       "      <th></th>\n",
       "      <th></th>\n",
       "      <th></th>\n",
       "    </tr>\n",
       "  </thead>\n",
       "  <tbody>\n",
       "    <tr>\n",
       "      <th>0</th>\n",
       "      <td>329639.0</td>\n",
       "      <td>579283.42</td>\n",
       "      <td>392158.403977</td>\n",
       "    </tr>\n",
       "    <tr>\n",
       "      <th>1</th>\n",
       "      <td>236912.0</td>\n",
       "      <td>60610.80</td>\n",
       "      <td>112007.689418</td>\n",
       "    </tr>\n",
       "    <tr>\n",
       "      <th>2</th>\n",
       "      <td>537406.0</td>\n",
       "      <td>700035.81</td>\n",
       "      <td>546094.842430</td>\n",
       "    </tr>\n",
       "    <tr>\n",
       "      <th>3</th>\n",
       "      <td>525601.0</td>\n",
       "      <td>581810.73</td>\n",
       "      <td>572770.492469</td>\n",
       "    </tr>\n",
       "    <tr>\n",
       "      <th>4</th>\n",
       "      <td>207619.0</td>\n",
       "      <td>418179.69</td>\n",
       "      <td>337784.398701</td>\n",
       "    </tr>\n",
       "  </tbody>\n",
       "</table>\n",
       "</div>"
      ],
      "text/plain": [
       "        original_index  total_drug_cost  predicted_drug_cost\n",
       "index1                                                      \n",
       "0             329639.0        579283.42        392158.403977\n",
       "1             236912.0         60610.80        112007.689418\n",
       "2             537406.0        700035.81        546094.842430\n",
       "3             525601.0        581810.73        572770.492469\n",
       "4             207619.0        418179.69        337784.398701"
      ]
     },
     "execution_count": 342,
     "metadata": {},
     "output_type": "execute_result"
    }
   ],
   "source": [
    "y_combo_df = y_test_df.join(rf_y_pred, on= 'index1')\n",
    "y_combo_df.columns = ['original_index', 'total_drug_cost', 'predicted_drug_cost']\n",
    "y_combo_df.head()"
   ]
  },
  {
   "cell_type": "code",
   "execution_count": 343,
   "metadata": {},
   "outputs": [
    {
     "name": "stdout",
     "output_type": "stream",
     "text": [
      "<class 'pandas.core.frame.DataFrame'>\n",
      "RangeIndex: 22965 entries, 0 to 22964\n",
      "Data columns (total 3 columns):\n",
      "original_index         22965 non-null float64\n",
      "total_drug_cost        22965 non-null float64\n",
      "predicted_drug_cost    22965 non-null float64\n",
      "dtypes: float64(3)\n",
      "memory usage: 538.3 KB\n"
     ]
    }
   ],
   "source": [
    "y_combo_df.info()"
   ]
  },
  {
   "cell_type": "code",
   "execution_count": 344,
   "metadata": {},
   "outputs": [
    {
     "name": "stdout",
     "output_type": "stream",
     "text": [
      "<class 'pandas.core.frame.DataFrame'>\n",
      "Int64Index: 114825 entries, 5 to 622701\n",
      "Data columns (total 63 columns):\n",
      "National Provider Identifier                                                          114825 non-null float64\n",
      "total_30_day_fill_count                                                               114825 non-null float64\n",
      "total_drug_cost                                                                       114825 non-null float64\n",
      "Number of HCPCS                                                                       114825 non-null float64\n",
      "Number of Services                                                                    114825 non-null float64\n",
      "Number of Medicare Beneficiaries                                                      114825 non-null float64\n",
      "Total Submitted Charge Amount                                                         114825 non-null float64\n",
      "Total Medicare Allowed Amount                                                         114825 non-null float64\n",
      "Total Medicare Payment Amount                                                         114825 non-null float64\n",
      "Total Medicare Standardized Payment Amount                                            114825 non-null float64\n",
      "Number of HCPCS Associated With Drug Services                                         114825 non-null float64\n",
      "Number of Drug Services                                                               114825 non-null float64\n",
      "Number of Medicare Beneficiaries With Drug Services                                   114825 non-null float64\n",
      "Total Drug Submitted Charge Amount                                                    114825 non-null float64\n",
      "Total Drug Medicare Allowed Amount                                                    114825 non-null float64\n",
      "Total Drug Medicare Payment Amount                                                    114825 non-null float64\n",
      "Total Drug Medicare Standardized Payment Amount                                       114825 non-null float64\n",
      "Number of HCPCS Associated With Medical Services                                      114825 non-null float64\n",
      "Number of Medical Services                                                            114825 non-null float64\n",
      "Number of Medicare Beneficiaries With Medical Services                                114825 non-null float64\n",
      "Total Medical Submitted Charge Amount                                                 114825 non-null float64\n",
      "Total Medical Medicare Allowed Amount                                                 114825 non-null float64\n",
      "Total Medical Medicare Payment Amount                                                 114825 non-null float64\n",
      "Total Medical Medicare Standardized Payment Amount                                    114825 non-null float64\n",
      "Average Age of Beneficiaries                                                          114825 non-null float64\n",
      "Number of Beneficiaries Age Less 65                                                   114825 non-null float64\n",
      "Number of Beneficiaries Age 65 to 74                                                  114825 non-null float64\n",
      "Number of Beneficiaries Age 75 to 84                                                  114825 non-null float64\n",
      "Number of Beneficiaries Age Greater 84                                                114825 non-null float64\n",
      "Number of Female Beneficiaries                                                        114825 non-null float64\n",
      "Number of Male Beneficiaries\t                                                         114825 non-null float64\n",
      "Number of Non-Hispanic White Beneficiaries\t                                           114825 non-null float64\n",
      "Number of Beneficiaries With Medicare Only Entitlement                                114825 non-null float64\n",
      "Number of Beneficiaries With Medicare & Medicaid Entitlement                          114825 non-null float64\n",
      "Percent (%) of Beneficiaries Identified With Atrial Fibrillation                      114825 non-null float64\n",
      "Percent (%) of Beneficiaries Identified With Alzheimer’s Disease or Dementia          114825 non-null float64\n",
      "Percent (%) of Beneficiaries Identified With Asthma                                   114825 non-null float64\n",
      "Percent (%) of Beneficiaries Identified With Cancer                                   114825 non-null float64\n",
      "Percent (%) of Beneficiaries Identified With Heart Failure                            114825 non-null float64\n",
      "Percent (%) of Beneficiaries Identified With Chronic Kidney Disease                   114825 non-null float64\n",
      "Percent (%) of Beneficiaries Identified With Chronic Obstructive Pulmonary Disease    114825 non-null float64\n",
      "Percent (%) of Beneficiaries Identified With Depression                               114825 non-null float64\n",
      "Percent (%) of Beneficiaries Identified With Diabetes                                 114825 non-null float64\n",
      "Percent (%) of Beneficiaries Identified With Hyperlipidemia                           114825 non-null float64\n",
      "Percent (%) of Beneficiaries Identified With Hypertension                             114825 non-null float64\n",
      "Percent (%) of Beneficiaries Identified With Ischemic Heart Disease                   114825 non-null float64\n",
      "Percent (%) of Beneficiaries Identified With Osteoporosis                             114825 non-null float64\n",
      "Percent (%) of Beneficiaries Identified With Rheumatoid Arthritis / Osteoarthritis    114825 non-null float64\n",
      "Percent (%) of Beneficiaries Identified With Stroke                                   114825 non-null float64\n",
      "Average HCC Risk Score of Beneficiaries                                               114825 non-null float64\n",
      "Gender of the Provider                                                                0 non-null float64\n",
      "cost_per_patient                                                                      114825 non-null float64\n",
      "Cardiovascular Disease (Cardiology)                                                   114825 non-null float64\n",
      "Endocrinology                                                                         114825 non-null float64\n",
      "Family Practice                                                                       114825 non-null float64\n",
      "Internal Medicine                                                                     114825 non-null float64\n",
      "Neurology                                                                             114825 non-null float64\n",
      "Nurse Practitioner                                                                    114825 non-null float64\n",
      "Ophthalmology                                                                         114825 non-null float64\n",
      "Physician Assistant                                                                   114825 non-null float64\n",
      "Psychiatry                                                                            114825 non-null float64\n",
      "Urology                                                                               114825 non-null float64\n",
      "specialty_description_vector                                                          114825 non-null float64\n",
      "dtypes: float64(63)\n",
      "memory usage: 56.1 MB\n"
     ]
    }
   ],
   "source": [
    "all_med.info()"
   ]
  },
  {
   "cell_type": "code",
   "execution_count": 345,
   "metadata": {},
   "outputs": [
    {
     "name": "stdout",
     "output_type": "stream",
     "text": [
      "<class 'pandas.core.frame.DataFrame'>\n",
      "RangeIndex: 22965 entries, 0 to 22964\n",
      "Data columns (total 3 columns):\n",
      "original_index         22965 non-null float64\n",
      "total_drug_cost        22965 non-null float64\n",
      "predicted_drug_cost    22965 non-null float64\n",
      "dtypes: float64(3)\n",
      "memory usage: 538.3 KB\n"
     ]
    }
   ],
   "source": [
    "y_combo_df.info()"
   ]
  },
  {
   "cell_type": "code",
   "execution_count": 346,
   "metadata": {},
   "outputs": [
    {
     "data": {
      "text/html": [
       "<div>\n",
       "<style scoped>\n",
       "    .dataframe tbody tr th:only-of-type {\n",
       "        vertical-align: middle;\n",
       "    }\n",
       "\n",
       "    .dataframe tbody tr th {\n",
       "        vertical-align: top;\n",
       "    }\n",
       "\n",
       "    .dataframe thead th {\n",
       "        text-align: right;\n",
       "    }\n",
       "</style>\n",
       "<table border=\"1\" class=\"dataframe\">\n",
       "  <thead>\n",
       "    <tr style=\"text-align: right;\">\n",
       "      <th></th>\n",
       "      <th>level_0</th>\n",
       "      <th>index</th>\n",
       "      <th>original_index</th>\n",
       "      <th>National Provider Identifier</th>\n",
       "      <th>total_30_day_fill_count</th>\n",
       "      <th>Number of HCPCS</th>\n",
       "      <th>Number of Services</th>\n",
       "      <th>Number of Medicare Beneficiaries</th>\n",
       "      <th>Total Submitted Charge Amount</th>\n",
       "      <th>Total Medicare Allowed Amount</th>\n",
       "      <th>...</th>\n",
       "      <th>Endocrinology</th>\n",
       "      <th>Family Practice</th>\n",
       "      <th>Internal Medicine</th>\n",
       "      <th>Neurology</th>\n",
       "      <th>Nurse Practitioner</th>\n",
       "      <th>Ophthalmology</th>\n",
       "      <th>Physician Assistant</th>\n",
       "      <th>Psychiatry</th>\n",
       "      <th>Urology</th>\n",
       "      <th>specialty_description_vector</th>\n",
       "    </tr>\n",
       "  </thead>\n",
       "  <tbody>\n",
       "    <tr>\n",
       "      <th>0</th>\n",
       "      <td>0</td>\n",
       "      <td>0</td>\n",
       "      <td>5</td>\n",
       "      <td>1.003001e+09</td>\n",
       "      <td>10084.4</td>\n",
       "      <td>55.0</td>\n",
       "      <td>1952.0</td>\n",
       "      <td>417.0</td>\n",
       "      <td>368518.56</td>\n",
       "      <td>139319.81</td>\n",
       "      <td>...</td>\n",
       "      <td>0.0</td>\n",
       "      <td>1.0</td>\n",
       "      <td>0.0</td>\n",
       "      <td>0.0</td>\n",
       "      <td>0.0</td>\n",
       "      <td>0.0</td>\n",
       "      <td>0.0</td>\n",
       "      <td>0.0</td>\n",
       "      <td>0.0</td>\n",
       "      <td>247838.0</td>\n",
       "    </tr>\n",
       "    <tr>\n",
       "      <th>1</th>\n",
       "      <td>1</td>\n",
       "      <td>1</td>\n",
       "      <td>6</td>\n",
       "      <td>1.003001e+09</td>\n",
       "      <td>9895.3</td>\n",
       "      <td>25.0</td>\n",
       "      <td>1319.0</td>\n",
       "      <td>334.0</td>\n",
       "      <td>185183.00</td>\n",
       "      <td>124717.40</td>\n",
       "      <td>...</td>\n",
       "      <td>0.0</td>\n",
       "      <td>0.0</td>\n",
       "      <td>1.0</td>\n",
       "      <td>0.0</td>\n",
       "      <td>0.0</td>\n",
       "      <td>0.0</td>\n",
       "      <td>0.0</td>\n",
       "      <td>0.0</td>\n",
       "      <td>0.0</td>\n",
       "      <td>268416.0</td>\n",
       "    </tr>\n",
       "    <tr>\n",
       "      <th>2</th>\n",
       "      <td>2</td>\n",
       "      <td>2</td>\n",
       "      <td>9</td>\n",
       "      <td>1.003001e+09</td>\n",
       "      <td>9005.6</td>\n",
       "      <td>35.0</td>\n",
       "      <td>916.0</td>\n",
       "      <td>258.0</td>\n",
       "      <td>106047.00</td>\n",
       "      <td>59687.40</td>\n",
       "      <td>...</td>\n",
       "      <td>0.0</td>\n",
       "      <td>1.0</td>\n",
       "      <td>0.0</td>\n",
       "      <td>0.0</td>\n",
       "      <td>0.0</td>\n",
       "      <td>0.0</td>\n",
       "      <td>0.0</td>\n",
       "      <td>0.0</td>\n",
       "      <td>0.0</td>\n",
       "      <td>247838.0</td>\n",
       "    </tr>\n",
       "    <tr>\n",
       "      <th>3</th>\n",
       "      <td>3</td>\n",
       "      <td>3</td>\n",
       "      <td>10</td>\n",
       "      <td>1.003001e+09</td>\n",
       "      <td>3061.0</td>\n",
       "      <td>68.0</td>\n",
       "      <td>4670.0</td>\n",
       "      <td>1374.0</td>\n",
       "      <td>565333.00</td>\n",
       "      <td>278921.17</td>\n",
       "      <td>...</td>\n",
       "      <td>0.0</td>\n",
       "      <td>0.0</td>\n",
       "      <td>1.0</td>\n",
       "      <td>0.0</td>\n",
       "      <td>0.0</td>\n",
       "      <td>0.0</td>\n",
       "      <td>0.0</td>\n",
       "      <td>0.0</td>\n",
       "      <td>0.0</td>\n",
       "      <td>268416.0</td>\n",
       "    </tr>\n",
       "    <tr>\n",
       "      <th>4</th>\n",
       "      <td>4</td>\n",
       "      <td>4</td>\n",
       "      <td>18</td>\n",
       "      <td>1.003002e+09</td>\n",
       "      <td>4713.7</td>\n",
       "      <td>42.0</td>\n",
       "      <td>640.0</td>\n",
       "      <td>145.0</td>\n",
       "      <td>63048.00</td>\n",
       "      <td>42913.01</td>\n",
       "      <td>...</td>\n",
       "      <td>0.0</td>\n",
       "      <td>1.0</td>\n",
       "      <td>0.0</td>\n",
       "      <td>0.0</td>\n",
       "      <td>0.0</td>\n",
       "      <td>0.0</td>\n",
       "      <td>0.0</td>\n",
       "      <td>0.0</td>\n",
       "      <td>0.0</td>\n",
       "      <td>247838.0</td>\n",
       "    </tr>\n",
       "  </tbody>\n",
       "</table>\n",
       "<p>5 rows × 65 columns</p>\n",
       "</div>"
      ],
      "text/plain": [
       "   level_0  index  original_index  National Provider Identifier  \\\n",
       "0        0      0               5                  1.003001e+09   \n",
       "1        1      1               6                  1.003001e+09   \n",
       "2        2      2               9                  1.003001e+09   \n",
       "3        3      3              10                  1.003001e+09   \n",
       "4        4      4              18                  1.003002e+09   \n",
       "\n",
       "   total_30_day_fill_count  Number of HCPCS  Number of Services  \\\n",
       "0                  10084.4             55.0              1952.0   \n",
       "1                   9895.3             25.0              1319.0   \n",
       "2                   9005.6             35.0               916.0   \n",
       "3                   3061.0             68.0              4670.0   \n",
       "4                   4713.7             42.0               640.0   \n",
       "\n",
       "   Number of Medicare Beneficiaries  Total Submitted Charge Amount  \\\n",
       "0                             417.0                      368518.56   \n",
       "1                             334.0                      185183.00   \n",
       "2                             258.0                      106047.00   \n",
       "3                            1374.0                      565333.00   \n",
       "4                             145.0                       63048.00   \n",
       "\n",
       "   Total Medicare Allowed Amount  ...  Endocrinology  Family Practice  \\\n",
       "0                      139319.81  ...            0.0              1.0   \n",
       "1                      124717.40  ...            0.0              0.0   \n",
       "2                       59687.40  ...            0.0              1.0   \n",
       "3                      278921.17  ...            0.0              0.0   \n",
       "4                       42913.01  ...            0.0              1.0   \n",
       "\n",
       "   Internal Medicine  Neurology  Nurse Practitioner  Ophthalmology  \\\n",
       "0                0.0        0.0                 0.0            0.0   \n",
       "1                1.0        0.0                 0.0            0.0   \n",
       "2                0.0        0.0                 0.0            0.0   \n",
       "3                1.0        0.0                 0.0            0.0   \n",
       "4                0.0        0.0                 0.0            0.0   \n",
       "\n",
       "   Physician Assistant  Psychiatry  Urology  specialty_description_vector  \n",
       "0                  0.0         0.0      0.0                      247838.0  \n",
       "1                  0.0         0.0      0.0                      268416.0  \n",
       "2                  0.0         0.0      0.0                      247838.0  \n",
       "3                  0.0         0.0      0.0                      268416.0  \n",
       "4                  0.0         0.0      0.0                      247838.0  \n",
       "\n",
       "[5 rows x 65 columns]"
      ]
     },
     "execution_count": 346,
     "metadata": {},
     "output_type": "execute_result"
    }
   ],
   "source": [
    "X_test.head()\n",
    "X_test.index.name = 'original_index'\n",
    "X_initial.head()"
   ]
  },
  {
   "cell_type": "code",
   "execution_count": 347,
   "metadata": {},
   "outputs": [
    {
     "ename": "ValueError",
     "evalue": "cannot insert original_index, already exists",
     "output_type": "error",
     "traceback": [
      "\u001b[1;31m---------------------------------------------------------------------------\u001b[0m",
      "\u001b[1;31mValueError\u001b[0m                                Traceback (most recent call last)",
      "\u001b[1;32m<ipython-input-347-0e557e62a02e>\u001b[0m in \u001b[0;36m<module>\u001b[1;34m\u001b[0m\n\u001b[1;32m----> 1\u001b[1;33m \u001b[0mX_test\u001b[0m\u001b[1;33m.\u001b[0m\u001b[0mreset_index\u001b[0m\u001b[1;33m(\u001b[0m\u001b[1;33m)\u001b[0m\u001b[1;33m\u001b[0m\u001b[1;33m\u001b[0m\u001b[0m\n\u001b[0m\u001b[0;32m      2\u001b[0m \u001b[0mX_initial\u001b[0m\u001b[1;33m.\u001b[0m\u001b[0mcolumns\u001b[0m\u001b[1;33m\u001b[0m\u001b[1;33m\u001b[0m\u001b[0m\n",
      "\u001b[1;32m~\\Anaconda3\\lib\\site-packages\\pandas\\core\\frame.py\u001b[0m in \u001b[0;36mreset_index\u001b[1;34m(self, level, drop, inplace, col_level, col_fill)\u001b[0m\n\u001b[0;32m   4429\u001b[0m                 \u001b[1;31m# to ndarray and maybe infer different dtype\u001b[0m\u001b[1;33m\u001b[0m\u001b[1;33m\u001b[0m\u001b[1;33m\u001b[0m\u001b[0m\n\u001b[0;32m   4430\u001b[0m                 \u001b[0mlevel_values\u001b[0m \u001b[1;33m=\u001b[0m \u001b[0m_maybe_casted_values\u001b[0m\u001b[1;33m(\u001b[0m\u001b[0mlev\u001b[0m\u001b[1;33m,\u001b[0m \u001b[0mlab\u001b[0m\u001b[1;33m)\u001b[0m\u001b[1;33m\u001b[0m\u001b[1;33m\u001b[0m\u001b[0m\n\u001b[1;32m-> 4431\u001b[1;33m                 \u001b[0mnew_obj\u001b[0m\u001b[1;33m.\u001b[0m\u001b[0minsert\u001b[0m\u001b[1;33m(\u001b[0m\u001b[1;36m0\u001b[0m\u001b[1;33m,\u001b[0m \u001b[0mname\u001b[0m\u001b[1;33m,\u001b[0m \u001b[0mlevel_values\u001b[0m\u001b[1;33m)\u001b[0m\u001b[1;33m\u001b[0m\u001b[1;33m\u001b[0m\u001b[0m\n\u001b[0m\u001b[0;32m   4432\u001b[0m \u001b[1;33m\u001b[0m\u001b[0m\n\u001b[0;32m   4433\u001b[0m         \u001b[0mnew_obj\u001b[0m\u001b[1;33m.\u001b[0m\u001b[0mindex\u001b[0m \u001b[1;33m=\u001b[0m \u001b[0mnew_index\u001b[0m\u001b[1;33m\u001b[0m\u001b[1;33m\u001b[0m\u001b[0m\n",
      "\u001b[1;32m~\\Anaconda3\\lib\\site-packages\\pandas\\core\\frame.py\u001b[0m in \u001b[0;36minsert\u001b[1;34m(self, loc, column, value, allow_duplicates)\u001b[0m\n\u001b[0;32m   3471\u001b[0m         \u001b[0mvalue\u001b[0m \u001b[1;33m=\u001b[0m \u001b[0mself\u001b[0m\u001b[1;33m.\u001b[0m\u001b[0m_sanitize_column\u001b[0m\u001b[1;33m(\u001b[0m\u001b[0mcolumn\u001b[0m\u001b[1;33m,\u001b[0m \u001b[0mvalue\u001b[0m\u001b[1;33m,\u001b[0m \u001b[0mbroadcast\u001b[0m\u001b[1;33m=\u001b[0m\u001b[1;32mFalse\u001b[0m\u001b[1;33m)\u001b[0m\u001b[1;33m\u001b[0m\u001b[1;33m\u001b[0m\u001b[0m\n\u001b[0;32m   3472\u001b[0m         self._data.insert(loc, column, value,\n\u001b[1;32m-> 3473\u001b[1;33m                           allow_duplicates=allow_duplicates)\n\u001b[0m\u001b[0;32m   3474\u001b[0m \u001b[1;33m\u001b[0m\u001b[0m\n\u001b[0;32m   3475\u001b[0m     \u001b[1;32mdef\u001b[0m \u001b[0massign\u001b[0m\u001b[1;33m(\u001b[0m\u001b[0mself\u001b[0m\u001b[1;33m,\u001b[0m \u001b[1;33m**\u001b[0m\u001b[0mkwargs\u001b[0m\u001b[1;33m)\u001b[0m\u001b[1;33m:\u001b[0m\u001b[1;33m\u001b[0m\u001b[1;33m\u001b[0m\u001b[0m\n",
      "\u001b[1;32m~\\Anaconda3\\lib\\site-packages\\pandas\\core\\internals\\managers.py\u001b[0m in \u001b[0;36minsert\u001b[1;34m(self, loc, item, value, allow_duplicates)\u001b[0m\n\u001b[0;32m   1147\u001b[0m         \u001b[1;32mif\u001b[0m \u001b[1;32mnot\u001b[0m \u001b[0mallow_duplicates\u001b[0m \u001b[1;32mand\u001b[0m \u001b[0mitem\u001b[0m \u001b[1;32min\u001b[0m \u001b[0mself\u001b[0m\u001b[1;33m.\u001b[0m\u001b[0mitems\u001b[0m\u001b[1;33m:\u001b[0m\u001b[1;33m\u001b[0m\u001b[1;33m\u001b[0m\u001b[0m\n\u001b[0;32m   1148\u001b[0m             \u001b[1;31m# Should this be a different kind of error??\u001b[0m\u001b[1;33m\u001b[0m\u001b[1;33m\u001b[0m\u001b[1;33m\u001b[0m\u001b[0m\n\u001b[1;32m-> 1149\u001b[1;33m             \u001b[1;32mraise\u001b[0m \u001b[0mValueError\u001b[0m\u001b[1;33m(\u001b[0m\u001b[1;34m'cannot insert {}, already exists'\u001b[0m\u001b[1;33m.\u001b[0m\u001b[0mformat\u001b[0m\u001b[1;33m(\u001b[0m\u001b[0mitem\u001b[0m\u001b[1;33m)\u001b[0m\u001b[1;33m)\u001b[0m\u001b[1;33m\u001b[0m\u001b[1;33m\u001b[0m\u001b[0m\n\u001b[0m\u001b[0;32m   1150\u001b[0m \u001b[1;33m\u001b[0m\u001b[0m\n\u001b[0;32m   1151\u001b[0m         \u001b[1;32mif\u001b[0m \u001b[1;32mnot\u001b[0m \u001b[0misinstance\u001b[0m\u001b[1;33m(\u001b[0m\u001b[0mloc\u001b[0m\u001b[1;33m,\u001b[0m \u001b[0mint\u001b[0m\u001b[1;33m)\u001b[0m\u001b[1;33m:\u001b[0m\u001b[1;33m\u001b[0m\u001b[1;33m\u001b[0m\u001b[0m\n",
      "\u001b[1;31mValueError\u001b[0m: cannot insert original_index, already exists"
     ]
    }
   ],
   "source": [
    "X_test.reset_index()\n",
    "X_initial.columns"
   ]
  },
  {
   "cell_type": "code",
   "execution_count": null,
   "metadata": {},
   "outputs": [],
   "source": [
    "X_initial = X_initial.reset_index()\n",
    "X_initial.columns = ['original_index','National Provider Identifier', 'total_30_day_fill_count',\n",
    "       'Number of HCPCS', 'Number of Services',\n",
    "       'Number of Medicare Beneficiaries', 'Total Submitted Charge Amount',\n",
    "       'Total Medicare Allowed Amount', 'Total Medicare Payment Amount',\n",
    "       'Total Medicare Standardized Payment Amount',\n",
    "       'Number of HCPCS Associated With Drug Services',\n",
    "       'Number of Drug Services',\n",
    "       'Number of Medicare Beneficiaries With Drug Services',\n",
    "       'Total Drug Submitted Charge Amount',\n",
    "       'Total Drug Medicare Allowed Amount',\n",
    "       'Total Drug Medicare Payment Amount',\n",
    "       'Total Drug Medicare Standardized Payment Amount',\n",
    "       'Number of HCPCS Associated With Medical Services',\n",
    "       'Number of Medical Services',\n",
    "       'Number of Medicare Beneficiaries With Medical Services',\n",
    "       'Total Medical Submitted Charge Amount',\n",
    "       'Total Medical Medicare Allowed Amount',\n",
    "       'Total Medical Medicare Payment Amount',\n",
    "       'Total Medical Medicare Standardized Payment Amount',\n",
    "       'Average Age of Beneficiaries', 'Number of Beneficiaries Age Less 65',\n",
    "       'Number of Beneficiaries Age 65 to 74',\n",
    "       'Number of Beneficiaries Age 75 to 84',\n",
    "       'Number of Beneficiaries Age Greater 84',\n",
    "       'Number of Female Beneficiaries', 'Number of Male Beneficiaries\\t',\n",
    "       'Number of Non-Hispanic White Beneficiaries\\t',\n",
    "       'Number of Beneficiaries With Medicare Only Entitlement',\n",
    "       'Number of Beneficiaries With Medicare & Medicaid Entitlement',\n",
    "       'Percent (%) of Beneficiaries Identified With Atrial Fibrillation',\n",
    "       'Percent (%) of Beneficiaries Identified With Alzheimer’s Disease or Dementia',\n",
    "       'Percent (%) of Beneficiaries Identified With Asthma',\n",
    "       'Percent (%) of Beneficiaries Identified With Cancer',\n",
    "       'Percent (%) of Beneficiaries Identified With Heart Failure',\n",
    "       'Percent (%) of Beneficiaries Identified With Chronic Kidney Disease',\n",
    "       'Percent (%) of Beneficiaries Identified With Chronic Obstructive Pulmonary Disease',\n",
    "       'Percent (%) of Beneficiaries Identified With Depression',\n",
    "       'Percent (%) of Beneficiaries Identified With Diabetes',\n",
    "       'Percent (%) of Beneficiaries Identified With Hyperlipidemia',\n",
    "       'Percent (%) of Beneficiaries Identified With Hypertension',\n",
    "       'Percent (%) of Beneficiaries Identified With Ischemic Heart Disease',\n",
    "       'Percent (%) of Beneficiaries Identified With Osteoporosis',\n",
    "       'Percent (%) of Beneficiaries Identified With Rheumatoid Arthritis / Osteoarthritis',\n",
    "       'Percent (%) of Beneficiaries Identified With Stroke',\n",
    "       'Average HCC Risk Score of Beneficiaries', 'Gender of the Provider',\n",
    "       'cost_per_patient', 'Cardiovascular Disease (Cardiology)',\n",
    "       'Endocrinology', 'Family Practice', 'Internal Medicine', 'Neurology',\n",
    "       'Nurse Practitioner', 'Ophthalmology', 'Physician Assistant',\n",
    "       'Psychiatry', 'Urology', 'specialty_description_vector']"
   ]
  },
  {
   "cell_type": "code",
   "execution_count": null,
   "metadata": {},
   "outputs": [],
   "source": [
    "huge_df = y_combo_df.merge(X_initial, how = 'inner', on = 'original_index')\n",
    "huge_df.head()\n"
   ]
  },
  {
   "cell_type": "code",
   "execution_count": null,
   "metadata": {},
   "outputs": [],
   "source": [
    "X_initial.head()"
   ]
  },
  {
   "cell_type": "code",
   "execution_count": null,
   "metadata": {},
   "outputs": [],
   "source": [
    "huge_df['percent_above'] = (huge_df['predicted_drug_cost']- huge_df['total_drug_cost'])/ huge_df['total_drug_cost']\n",
    "normal_range = huge_df[huge_df['percent_above'] < .20]\n",
    "Outliers_df = huge_df[huge_df['percent_above'] > .50]"
   ]
  },
  {
   "cell_type": "code",
   "execution_count": null,
   "metadata": {},
   "outputs": [],
   "source": [
    "inv_map = {v: k for k, v in nested_dict.items()}\n"
   ]
  },
  {
   "cell_type": "code",
   "execution_count": null,
   "metadata": {},
   "outputs": [],
   "source": [
    "huge_df['specialty_description_vector'] = huge_df['specialty_description_vector'].map(inv_map)"
   ]
  },
  {
   "cell_type": "code",
   "execution_count": null,
   "metadata": {},
   "outputs": [],
   "source": [
    "huge_df.head()"
   ]
  },
  {
   "cell_type": "code",
   "execution_count": null,
   "metadata": {},
   "outputs": [],
   "source": [
    "normal_df = huge_df[huge_df['percent_above'] < .20]\n",
    "Outliers_df = huge_df[huge_df['percent_above'] > .50]"
   ]
  },
  {
   "cell_type": "code",
   "execution_count": null,
   "metadata": {
    "scrolled": true
   },
   "outputs": [],
   "source": [
    "normal_df.specialty_description_vector.value_counts()\n"
   ]
  },
  {
   "cell_type": "code",
   "execution_count": null,
   "metadata": {
    "scrolled": true
   },
   "outputs": [],
   "source": [
    "Outliers_df.specialty_description_vector.value_counts()"
   ]
  },
  {
   "cell_type": "code",
   "execution_count": null,
   "metadata": {},
   "outputs": [],
   "source": [
    "IM_outliers = Outliers_df[Outliers_df['specialty_description_vector']=='Neurology']\n",
    "IM_normal = normal_df[normal_df['specialty_description_vector']=='Neurology']\n"
   ]
  },
  {
   "cell_type": "code",
   "execution_count": null,
   "metadata": {},
   "outputs": [],
   "source": [
    "NPI_IM_normal= IM_normal['National Provider Identifier']\n",
    "NPI_IM_outliers= IM_outliers['National Provider Identifier']"
   ]
  },
  {
   "cell_type": "code",
   "execution_count": null,
   "metadata": {},
   "outputs": [],
   "source": [
    "IM_drug_outlier = dr_costs[dr_costs['National Provider Identifier'].isin(NPI_IM_outliers)]\n",
    "IM_drug_outlier.columns\n",
    "IM_drug_outlier = IM_drug_outlier.drop(['specialty_description','generic_name'], axis = 1)\n",
    "IM_drug_outlier = IM_drug_outlier.set_index('National Provider Identifier')\n",
    "IM_drug_norm = dr_costs[dr_costs['National Provider Identifier'].isin(NPI_IM_normal)]\n",
    "IM_drug_norm.columns\n",
    "IM_drug_norm = IM_drug_norm.drop(['specialty_description','generic_name'], axis = 1)\n",
    "IM_drug_norm = IM_drug_norm.set_index('National Provider Identifier')\n",
    "IM_drug_norm.head()"
   ]
  },
  {
   "cell_type": "code",
   "execution_count": null,
   "metadata": {},
   "outputs": [],
   "source": [
    "#IM_drug_outlier = IM_drug_outlier.set_index('National Provider Identifier')\n",
    "\n",
    "IM_outlier_group = IM_drug_outlier.groupby('drug_name').sum()\n",
    "#out_cost = IM_outlier_group.sum(axis = 1, numeric_only = True)\n",
    "#type(out_cost)\n",
    "IM_outlier_group\n",
    "\n",
    "\n",
    "IM_norm_group = IM_drug_norm.groupby('drug_name').sum()\n",
    "#out_cost = IM_outlier_group.sum(axis = 1, numeric_only = True)\n",
    "#type(out_cost)\n",
    "IM_norm_group"
   ]
  },
  {
   "cell_type": "code",
   "execution_count": null,
   "metadata": {
    "scrolled": true
   },
   "outputs": [],
   "source": [
    "IM_norm_group\n",
    "norm_total_cost = IM_norm_group.total_drug_cost.sum()\n",
    "total_prescriptions = IM_norm_group.total_30_day_fill_count.sum()\n",
    "\n",
    "IM_norm_group['percent_drug_cost'] = IM_norm_group['total_drug_cost']/norm_total_cost\n",
    "IM_norm_group = IM_norm_group.sort_values(by=['cost_per_fill'], ascending=False)\n",
    "IM_norm_group['cost_per_fill'] = IM_norm_group['total_drug_cost']/IM_norm_group['total_30_day_fill_count']\n",
    "IM_norm_group['percent_prescriptions'] = IM_norm_group['total_30_day_fill_count']/total_prescriptions\n",
    "\n",
    "IM_norm_group.reset_index()[:60]"
   ]
  },
  {
   "cell_type": "code",
   "execution_count": null,
   "metadata": {
    "scrolled": true
   },
   "outputs": [],
   "source": [
    "out_cost = IM_outlier_group.total_drug_cost.sum()\n",
    "total_prescriptions_out = IM_outlier_group.total_30_day_fill_count.sum()\n",
    "\n",
    "print(IM_outlier_group.total_30_day_fill_count.sum())\n",
    "IM_outlier_group['percent_drug_cost'] = IM_outlier_group['total_drug_cost']/out_cost\n",
    "IM_outlier_group = IM_outlier_group.sort_values(by=['cost_per_fill'], ascending=False)\n",
    "IM_outlier_group['cost_per_fill'] = IM_outlier_group['total_drug_cost']/IM_outlier_group['total_30_day_fill_count']\n",
    "IM_outlier_group['percent_prescriptions'] = IM_outlier_group['total_30_day_fill_count']/total_prescriptions_out\n",
    "\n",
    "IM_outlier_group.reset_index()[:60]"
   ]
  },
  {
   "cell_type": "code",
   "execution_count": null,
   "metadata": {},
   "outputs": [],
   "source": [
    "print(y_test.shape)\n",
    "print(rf_y_pred.shape)\n",
    "print(y_test_df.info())\n",
    "rf_y_pred.info()"
   ]
  },
  {
   "cell_type": "code",
   "execution_count": null,
   "metadata": {},
   "outputs": [],
   "source": [
    "y_test_df.join(rf_y_pred, on= 'index1')"
   ]
  },
  {
   "cell_type": "code",
   "execution_count": null,
   "metadata": {},
   "outputs": [],
   "source": [
    "pd.concat([all_med, rf_y_pred], axis = 1)"
   ]
  },
  {
   "cell_type": "code",
   "execution_count": null,
   "metadata": {},
   "outputs": [],
   "source": [
    "\n",
    "under_120_percent = .627\n",
    "under_140_percent = .781\n",
    "Under_150_percent = .832\n",
    "Under_175_percent = .911\n",
    "under_200_percent = .948\n",
    "Under_250_percent = .979\n",
    "under_300_percent = .989\n"
   ]
  },
  {
   "cell_type": "code",
   "execution_count": null,
   "metadata": {},
   "outputs": [],
   "source": [
    "percent_dif.describe(percentiles = [.025, .25, .5, .75, .975])"
   ]
  },
  {
   "cell_type": "code",
   "execution_count": null,
   "metadata": {},
   "outputs": [],
   "source": [
    "three_times = X.merge(y_test[(percent_dif < 3)], how = 'inner', left_index = True,  right_index=True)\n",
    "\n",
    "#rf_y_pred\n",
    "#y_test[y_test[( y_test - rf_y_pred)/y_test]>1]\n",
    "\n",
    "#print(y_test[(percent_dif < 3)])\n",
    "#three_times = pd.DataFrame(y_test[(percent_dif < 3)])\n",
    "#three_times.shape\n",
    "#three-times = three_times[three_times[specialty_description]==Nephrology]\n",
    "\n",
    "#print(three_times.shape)"
   ]
  },
  {
   "cell_type": "code",
   "execution_count": null,
   "metadata": {},
   "outputs": [],
   "source": [
    "rf_y_pred\n",
    "percent_dif = (rf_y_pred - y_test)/y_test\n",
    "percent_dif\n",
    "under_20_percent_dif = (percent_dif < .20).astype('int')\n",
    "print(f' Over 20 percent:{under_20_percent_dif.value_counts()}')\n",
    "over_50_percent_less = (percent_dif > -.10).astype('int')\n",
    "print(f' Over 10 percent less:{over_50_percent_less.value_counts()}')\n",
    "under_40_percent_dif = (percent_dif < .40).astype('int')\n",
    "print(f' Over 40 percent:{under_40_percent_dif.value_counts()}')\n",
    "under_50_percent_dif = (percent_dif < .50).astype('int')\n",
    "print(f' Over 50 percent:{under_50_percent_dif.value_counts()}')\n",
    "under_200_percent_dif = (percent_dif > 2).astype('int')\n",
    "print(f' Over 200 percent:{under_200_percent_dif.value_counts()}')\n",
    "over_500_percent_dif = (percent_dif > 5)#.astype('int')\n",
    "print(f' Over 500 percent:{under_500_percent_dif.value_counts()}')\n",
    "#acc = accuracy_score(y_test, under_20_percent_dif)\n"
   ]
  },
  {
   "cell_type": "code",
   "execution_count": null,
   "metadata": {},
   "outputs": [],
   "source": [
    "Three_Times = pd.DataFrame(y_test[over_500_percent_dif]).merge(X, how = 'inner', left_index = True, right_index = True)\n",
    "Three_Times.loc['total_30_day_fill_count', 'total_drug_cost']\n",
    "\n",
    "Three_Times.shape\n",
    "#three_times = X.merge(y_test[(percent_dif < 3)], how = 'inner', left_index = True,  right_index=True)\n",
    "print(Three_Times.describe())\n"
   ]
  },
  {
   "cell_type": "code",
   "execution_count": null,
   "metadata": {},
   "outputs": [],
   "source": [
    "print(all_med.describe())"
   ]
  },
  {
   "cell_type": "code",
   "execution_count": null,
   "metadata": {},
   "outputs": [],
   "source": [
    "rf_y_pred\n",
    "percent_dif = (rf_y_pred - y_test)/y_test\n",
    "percent_dif\n",
    "under_20_percent_dif = (percent_dif > 4).astype('int')"
   ]
  },
  {
   "cell_type": "markdown",
   "metadata": {},
   "source": [
    "The fact that so few doctors are less than expected suggests to me that there are some kind of outliers."
   ]
  },
  {
   "cell_type": "code",
   "execution_count": null,
   "metadata": {},
   "outputs": [],
   "source": [
    "10 most common\n",
    " Over 20 percent:1    18902\n",
    "0    16562\n",
    "Under 20% = 53%\n",
    "Under 40% = 67%\n",
    "Under 50% = 73%\n",
    "Under 80% = 80%\n",
    "Name: total_drug_cost, dtype: int64\n",
    " Over 40 percent:1    23759\n",
    "0    11705\n",
    "Name: total_drug_cost, dtype: int64\n",
    " Over 50 percent:1    25586\n",
    "0     9878\n",
    "Name: total_drug_cost, dtype: int64"
   ]
  },
  {
   "cell_type": "code",
   "execution_count": null,
   "metadata": {
    "scrolled": true
   },
   "outputs": [],
   "source": [
    "rf.feature_importances_\n",
    "#n_estimators = 100:\n",
    "#max_features = 15 = .599\n",
    "#max_features = 20 = .581\n",
    "#max_features = 12 = .5837\n",
    "#rf = RandomForestClassifier(n_estimators = 12, max_depth = 6)\n",
    "#bc = BaggingClassifier( base_estimator = dt, n_estimators = 300, n_jobs = -1)\n",
    "#rf.fit(X_train, y_train)\n",
    "#y_pred = rf.predict(X_test)"
   ]
  },
  {
   "cell_type": "code",
   "execution_count": null,
   "metadata": {},
   "outputs": [],
   "source": [
    "X.columns"
   ]
  },
  {
   "cell_type": "code",
   "execution_count": null,
   "metadata": {},
   "outputs": [],
   "source": [
    "rf_y_pred = rf.predict(X_test)\n",
    "percent_dif = (rf_y_pred - y_test)/y_test\n",
    "under_20_percent_dif = (percent_dif < .20).astype('int')\n",
    "\n",
    "acc = accuracy_score(y_test, under_20_percent_dif)\n"
   ]
  },
  {
   "cell_type": "code",
   "execution_count": null,
   "metadata": {},
   "outputs": [],
   "source": [
    "#import numpy as np\n",
    "#n_estimators = [4,10, 20]\n",
    "#depth = [4,6,8,10]\n",
    "#features = [5, 10, 12]\n",
    "\n",
    "#features = np.linspace(4, 10, 2)\n",
    "#print(depth.shape)\n",
    "#parameters = {'n_estimators':num_estimators,'max_features': features}#,#'dtype' : int}\n",
    "\n",
    "#rf = RandomForestRegressor(max_features = 5, n_estimators = 4)\n",
    "#clf = GridSearchCV(rf, parameters, cv=5, error_score='raise')\n",
    "#clf.fit(X_train, y_train)"
   ]
  },
  {
   "cell_type": "code",
   "execution_count": null,
   "metadata": {},
   "outputs": [],
   "source": [
    "#y_test = y_test.values.reshape(1,-1)\n",
    "#y_train = y_train.values.reshape(1,-1)\n",
    "#y_train = y_train.transpose()\n",
    "#y_test = y_test.transpose()\n",
    "#X_test = X_test.transpose()\n",
    "#X_train = X_train.transpose()\n",
    "#print(y_test.shape)\n",
    "#print(X_train.shape)\n",
    "#print(X_test.shape)\n",
    "#y_train.shape\n"
   ]
  },
  {
   "cell_type": "code",
   "execution_count": null,
   "metadata": {},
   "outputs": [],
   "source": [
    "dtc = DecisionTreeRegressor(max_depth = 7)\n",
    "dtc.fit(X_train, y_train)\n",
    "y_pred = dtc.predict(X_test)\n",
    "SCORE = dtc.score(X_test, y_test)\n",
    "print(SCORE)\n"
   ]
  },
  {
   "cell_type": "code",
   "execution_count": null,
   "metadata": {},
   "outputs": [],
   "source": [
    "rf.feature_importances_"
   ]
  },
  {
   "cell_type": "code",
   "execution_count": null,
   "metadata": {},
   "outputs": [],
   "source": [
    "from sklearn.ensemble import RandomForestRegressor"
   ]
  },
  {
   "cell_type": "code",
   "execution_count": null,
   "metadata": {},
   "outputs": [],
   "source": [
    "rf = RandomForestRegressor( n_estimators = 100, max_depth = 7)\n",
    "rf.fit(X_train, y_train)"
   ]
  },
  {
   "cell_type": "markdown",
   "metadata": {},
   "source": [
    "For the y_test just create an array with all values of. "
   ]
  },
  {
   "cell_type": "code",
   "execution_count": null,
   "metadata": {},
   "outputs": [],
   "source": [
    "rf_y_pred = rf.predict(X_test)\n",
    "percent_dif = (rf_y_pred - y_test)/y_test\n",
    "under_20_percent_dif = (percent_dif < .20).astype('int')\n",
    "\n",
    "acc = accuracy_score(y_test, under_20_percent_dif)\n",
    "\n"
   ]
  },
  {
   "cell_type": "code",
   "execution_count": null,
   "metadata": {},
   "outputs": [],
   "source": [
    "rf_SCORE = rf.score(X_test, y_test)\n",
    "print(rf_SCORE)\n",
    "rf.feature_importances_"
   ]
  },
  {
   "cell_type": "markdown",
   "metadata": {},
   "source": [
    "HCPCS codes are numbers Medicare assigns to every task and service a medical practitioner may provide to a patient. There are codes for each medical, surgical, and diagnostic service. HCPCS stands for Healthcare Common Procedure Coding System.\n",
    "0,\n",
    "1*\n",
    "2***\n",
    "8\n",
    "I need to remove 11:14 because it is unfairly biasing. We want to make prediction without that information."
   ]
  },
  {
   "cell_type": "code",
   "execution_count": null,
   "metadata": {},
   "outputs": [],
   "source": [
    "for n in enumerate(X):\n",
    "    print(n)"
   ]
  },
  {
   "cell_type": "code",
   "execution_count": null,
   "metadata": {},
   "outputs": [],
   "source": [
    "print(rf_y_pred[:20])\n",
    "print(y_test[:20])"
   ]
  },
  {
   "cell_type": "code",
   "execution_count": null,
   "metadata": {},
   "outputs": [],
   "source": [
    "y_train2 = np.ravel(y_train)\n",
    "y_test2 = np.ravel(y_test)"
   ]
  },
  {
   "cell_type": "markdown",
   "metadata": {},
   "source": [
    "# Graphic Plots\n",
    "Below I write code to get a dataframe including the 15 most common specialties. Then create plots showing the relationship's between average prescription cost for specific specialties and the specialists' percentage of patients with specific chronic illness. I also create a plot that simply shows the distribution and range of the average prescriptions costs across the most common specialties. "
   ]
  },
  {
   "cell_type": "code",
   "execution_count": null,
   "metadata": {},
   "outputs": [],
   "source": [
    "from collections import Counter\n",
    "spec_df = spec_df[spec_df['total_30_day_fill_count']>=3000]\n",
    "\n",
    "HCC_df = spec_df.copy()\n",
    "spec_df = spec_df[spec_df['specialty_description']!= 'Nurse Practitioner']\n",
    "spec_df = spec_df[spec_df['specialty_description']!= 'Physician Assistant']\n",
    "spec_df = spec_df[spec_df['specialty_description']!= 'Orthopedic Surgery']\n",
    "V_count = Counter(spec_df.specialty_description).most_common(15)\n",
    "spec_list = V_count[0]\n",
    "spec_list = []\n",
    "for object in V_count:\n",
    "    spec_list.append(object[0])\n",
    "print(spec_list)\n",
    "\n",
    "top_spec = spec_df[spec_df.specialty_description.isin(spec_list)]\n",
    "top_spec['cost_per_prescription'] = top_spec['total_drug_cost']/ top_spec['total_30_day_fill_count']\n",
    "HCC_df['cost_per_prescription'] = top_spec['total_drug_cost']/ top_spec['total_30_day_fill_count']\n",
    "spec_unfiltered_df['cost_per_prescription'] = spec_unfiltered_df['total_drug_cost']/ spec_unfiltered_df['total_30_day_fill_count']\n",
    "\n",
    "top_spec.head()\n",
    "print(spec_list)\n",
    "top_spec.head()\n"
   ]
  },
  {
   "cell_type": "code",
   "execution_count": null,
   "metadata": {},
   "outputs": [],
   "source": [
    "HCC_RH_df = HCC_df[HCC_df['specialty_description'] =='Rheumatology']\n",
    "sns.set(rc={'figure.figsize':(10,6)})\n",
    "sns.regplot(x = 'Percent (%) of Beneficiaries Identified With Rheumatoid Arthritis / Osteoarthritis', y = 'cost_per_prescription', data = HCC_RH_df )\n",
    "plt.title(\"Percentage of' patients diagnosed with Rheumatoid Arthritis and Rheumatologists' cost per prescription\")\n",
    "font = {'family' : 'normal',\n",
    "        'weight' : 'bold',\n",
    "        'size'   : 22}\n",
    "\n",
    "plt.rc('font', **font)\n",
    "#sns.set(font_scale=20)\n",
    "plt.ylim(0, 700)\n",
    "plt.savefig('Rheumatology_arthritis.png')"
   ]
  },
  {
   "cell_type": "code",
   "execution_count": null,
   "metadata": {},
   "outputs": [],
   "source": [
    "HCC_PCP_df = HCC_df[HCC_df['specialty_description'] == 'Internal Medicine']\n",
    "\n",
    "sns.set(rc={'figure.figsize':(10,6)})\n",
    "sns.regplot(x = 'Percent (%) of Beneficiaries Identified With Rheumatoid Arthritis / Osteoarthritis', y = 'cost_per_prescription', data = HCC_PCP_df )\n",
    "plt.title(\"Relationship between the percentage of' patients diagnosed with Rheumatoid Arthritis and the internal medicine doctor's cost per prescription\")\n",
    "font = {'family' : 'normal',\n",
    "        'weight' : 'bold',\n",
    "        'size'   : 22}\n",
    "\n",
    "plt.rc('font', **font)\n",
    "plt.ylim(0, 300)   "
   ]
  },
  {
   "cell_type": "code",
   "execution_count": null,
   "metadata": {},
   "outputs": [],
   "source": [
    "HCC_cardio_df = HCC_df[HCC_df['specialty_description'] == 'Cardiovascular Disease (Cardiology)']\n",
    "\n",
    "sns.set(rc={'figure.figsize':(10,6)})\n",
    "sns.regplot(x = 'Percent (%) of Beneficiaries Identified With Rheumatoid Arthritis / Osteoarthritis', y = 'cost_per_prescription', data = HCC_cardio_df )\n",
    "plt.title(\"Percentage of cardiologist's patients diagnosed with Rheumatoid Arthritis vs cost per prescription\")\n",
    "font = {'family' : 'normal',\n",
    "        'weight' : 'bold',\n",
    "        'size'   : 22}\n",
    "plt.ylim(0, 300)\n",
    "plt.savefig('Cardiology_Arthritis.png')"
   ]
  },
  {
   "cell_type": "code",
   "execution_count": null,
   "metadata": {},
   "outputs": [],
   "source": [
    "HCC_fp_df = HCC_df[HCC_df['specialty_description'] == 'Family Practice']\n",
    "\n",
    "sns.set(rc={'figure.figsize':(15,8)})\n",
    "sns.regplot(x = 'Average HCC Risk Score of Beneficiaries', y = 'cost_per_prescription', data = HCC_fp_df )\n",
    "plt.ylim(0, 200)\n",
    "plt.ylim(0, 200)\n",
    "#sns.set(font_scale=5)\n",
    "plt.title(\"Relationship between patients' average HHC Risk Score and cost per prescription for Family Practice Doctors\")\n",
    "plt.savefig('fp_HCC_SCORE.png')\n",
    "plt.show()"
   ]
  },
  {
   "cell_type": "code",
   "execution_count": null,
   "metadata": {},
   "outputs": [],
   "source": [
    "sns.set(rc={'figure.figsize':(15,8)})\n",
    "sns.regplot(x = 'Average HCC Risk Score of Beneficiaries', y = 'cost_per_prescription', data = spec_unfiltered_df )\n",
    "plt.ylim(0, 400)\n",
    "plt.ylim(0, 200)\n",
    "#sns.set(font_scale=5)\n",
    "plt.title(\"Relationship between patients' average HHC Risk Score and cost per prescription for all doctors\")\n",
    "plt.savefig('All_docs_HCC_SCORE.png')\n",
    "plt.show()"
   ]
  },
  {
   "cell_type": "code",
   "execution_count": null,
   "metadata": {},
   "outputs": [],
   "source": [
    "Int_unfiltered_df = spec_unfiltered_df[spec_unfiltered_df['specialty_description'] == 'Internal Medicine']\n",
    "sns.regplot(Int_unfiltered_df['total_30_day_fill_count'],Int_unfiltered_df['cost_per_prescription'], scatter = True, fit_reg= True)\n",
    "plt.title()"
   ]
  },
  {
   "cell_type": "code",
   "execution_count": null,
   "metadata": {},
   "outputs": [],
   "source": [
    "\n",
    "sns.regplot(spec_unfiltered_df['total_30_day_fill_count'],spec_unfiltered_df['cost_per_prescription'], scatter = True, fit_reg= True)\n",
    "plt.title('Total number of prescriptions filled vs cost per prescription')\n",
    "plt.savefig('number_of_prescriptions_vs_avg_cost')\n",
    "plt.show()"
   ]
  },
  {
   "cell_type": "code",
   "execution_count": null,
   "metadata": {},
   "outputs": [],
   "source": [
    "stop here\n",
    "sns.regplot( df6['Drug Cost per Patient'],df6['Percent (%) of Beneficiaries Identified With Rheumatoid Arthritis / Osteoarthritis'], scatter = True, fit_reg= True)\n",
    "plt.show()"
   ]
  },
  {
   "cell_type": "code",
   "execution_count": null,
   "metadata": {},
   "outputs": [],
   "source": []
  },
  {
   "cell_type": "code",
   "execution_count": null,
   "metadata": {},
   "outputs": [],
   "source": [
    "from collections import Counter\n",
    "import scipy\n",
    "import numpy as np\n",
    "from collections import Counter\n",
    "import seaborn as sns\n",
    "import matplotlib.pyplot as plt\n",
    "tuplis = list(zip(df6.specialty_description, df6.total_drug_cost))\n",
    "total_drug_costs = Counter()\n",
    "npar = np.asarray(tuplis)\n",
    "for item in npar:\n",
    "    item1 = float(item[1])\n",
    "    total_drug_costs[item[0]] += item1\n",
    "totes = dict(total_drug_costs)\n",
    "totes = pd.Series(totes)\n",
    "totes2 = (totes.nlargest(n=12))\n",
    "totes2 = pd.DataFrame(totes2)\n",
    "totes2['index1'] = totes2.index\n",
    "names = ['money', 'specialty']\n",
    "totes2.columns = names\n",
    "print(totes2)\n",
    "fig, ax = plt.subplots()\n",
    "fig.set_size_inches(20, 8)\n",
    "sns.barplot(data = totes2, x = 'specialty', y = 'money')\n",
    "plt.show()\n",
    "#print(totesdf)\n",
    "df6['specialty_description'].value_counts()\n"
   ]
  },
  {
   "cell_type": "code",
   "execution_count": null,
   "metadata": {},
   "outputs": [],
   "source": [
    "specialty_count = df5.specialty_description.value_counts()\n",
    "labels = [ 'count', 'specialist']\n",
    "specialty_count = pd.DataFrame(specialty_count)\n",
    "print(type(specialty_count))\n",
    "specialty_count['index1'] = specialty_count.index\n",
    "specialty_count.columns= labels\n",
    "print(specialty_count)\n",
    "tuplis = list(zip(df6.specialty_description, df6.total_drug_cost))\n",
    "total_drug_costs = Counter()\n",
    "npar = np.asarray(tuplis)\n",
    "for item in npar:\n",
    "    item1 = float(item[1])\n",
    "    total_drug_costs[item[0]] += item1\n",
    "totes = dict(total_drug_costs)\n",
    "totes = pd.Series(totes)\n",
    "totes2 = (totes.nlargest(n=12))\n",
    "totes2 = pd.DataFrame(totes2)\n",
    "totes2['index1'] = totes2.index\n",
    "print(totes2)\n",
    "names = [ 'total drug costs', 'specialty' ]\n",
    "totes2.columns = names\n",
    "print(totes2)\n",
    "fig, ax = plt.subplots()\n",
    "fig.set_size_inches(20, 8)\n",
    "sns.barplot(data = totes2, x = 'specialty', y = 'total drug costs')\n",
    "plt.show()\n",
    "#print(totesdf)\n",
    "merged = pd.merge(left = totes2, right = specialty_count, on = None, left_on= 'specialty', right_on ='specialist' ).dropna()\n",
    "merged['cost per specialist'] = merged['total drug costs']/merged['count']\n"
   ]
  },
  {
   "cell_type": "code",
   "execution_count": null,
   "metadata": {},
   "outputs": [],
   "source": [
    "fig, ax = plt.subplots()\n",
    "fig.set_size_inches(30, 15)\n",
    "sns.barplot(data = merged, x = 'specialist', y = 'cost per specialist')"
   ]
  },
  {
   "cell_type": "code",
   "execution_count": null,
   "metadata": {},
   "outputs": [],
   "source": [
    "sns.regplot(df6['Percent of Patients with Medicare and Medicaid'], df6['cost_per_patient'],scatter = True, fit_reg= True)\n",
    "plt.show()"
   ]
  },
  {
   "cell_type": "code",
   "execution_count": null,
   "metadata": {},
   "outputs": [],
   "source": [
    "\n",
    "count_drug = df6.specialty_description.value_counts(normalize = True).nlargest(n=15)\n",
    "count_drug = pd.DataFrame(count_drug)\n",
    "print(type(count_drug))\n",
    "\n",
    "count_drug.reset_index(inplace=True)\n",
    "count_drug.columns = ['specialty','percent']\n",
    "print(count_drug)\n",
    "percent = count_drug.loc[count_drug['percent']>.02]\n",
    "print(percent)\n"
   ]
  },
  {
   "cell_type": "code",
   "execution_count": null,
   "metadata": {},
   "outputs": [],
   "source": [
    "fig, ax = plt.subplots()\n",
    "fig.set_size_inches(20, 8)\n",
    "sns.barplot(x = 'specialty', y = 'percent', data = percent)\n",
    "plt.show()"
   ]
  },
  {
   "cell_type": "code",
   "execution_count": null,
   "metadata": {},
   "outputs": [],
   "source": []
  },
  {
   "cell_type": "code",
   "execution_count": null,
   "metadata": {},
   "outputs": [],
   "source": [
    "\n",
    "sns.regplot(df2['cost_per_patient'],df2['Percent (%) of Beneficiaries Identified With Asthma'], scatter = True, fit_reg= True)\n",
    "plt.show()"
   ]
  },
  {
   "cell_type": "code",
   "execution_count": null,
   "metadata": {},
   "outputs": [],
   "source": [
    "sns.regplot(df2['cost_per_patient'],df2['Percent (%) of Beneficiaries Identified With Hyperlipidemia'], scatter = True, fit_reg= True)\n",
    "plt.show()"
   ]
  },
  {
   "cell_type": "code",
   "execution_count": null,
   "metadata": {},
   "outputs": [],
   "source": [
    "sns.regplot(df2['cost_per_patient'],df2['Number of Beneficiaries With Medicare & Medicaid Entitlement'], scatter = True, fit_reg= True)\n",
    "plt.show()"
   ]
  },
  {
   "cell_type": "code",
   "execution_count": null,
   "metadata": {},
   "outputs": [],
   "source": [
    "sns.regplot(df2['cost_per_patient'],df2['Percent (%) of Beneficiaries Identified With Depression'], scatter = True, fit_reg= True)\n",
    "plt.show()"
   ]
  },
  {
   "cell_type": "code",
   "execution_count": null,
   "metadata": {},
   "outputs": [],
   "source": [
    "sns.boxplot(df['Gender of the Provider'], df['Percent (%) of Beneficiaries Identified With Depression'])\n",
    "plt.show()"
   ]
  },
  {
   "cell_type": "code",
   "execution_count": null,
   "metadata": {
    "scrolled": false
   },
   "outputs": [],
   "source": [
    "sns.boxplot(df['Gender of the Provider'], df['Percent (%) of Beneficiaries Identified With Schizophrenia / Other Psychotic Disorders'])\n",
    "plt.show()"
   ]
  },
  {
   "cell_type": "code",
   "execution_count": null,
   "metadata": {},
   "outputs": [],
   "source": [
    "sns.regplot(df2['cost_per_patient'],df2['Percent (%) of Beneficiaries Identified With Hypertension'], scatter = True, fit_reg= True)\n",
    "plt.show()"
   ]
  },
  {
   "cell_type": "code",
   "execution_count": null,
   "metadata": {},
   "outputs": [],
   "source": []
  }
 ],
 "metadata": {
  "kernelspec": {
   "display_name": "Python 3",
   "language": "python",
   "name": "python3"
  },
  "language_info": {
   "codemirror_mode": {
    "name": "ipython",
    "version": 3
   },
   "file_extension": ".py",
   "mimetype": "text/x-python",
   "name": "python",
   "nbconvert_exporter": "python",
   "pygments_lexer": "ipython3",
   "version": "3.7.3"
  }
 },
 "nbformat": 4,
 "nbformat_minor": 2
}
